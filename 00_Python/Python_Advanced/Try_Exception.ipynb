{
 "cells": [
  {
   "cell_type": "markdown",
   "metadata": {},
   "source": [
    "# PYTHON- 2"
   ]
  },
  {
   "cell_type": "markdown",
   "metadata": {},
   "source": [
    "Python'da `try-except` blokları, hataların yakalanması ve yönetilmesi için kullanılan bir hata yakalama mekanizmasıdır. Bir program çalışırken ortaya çıkabilecek hataları önceden öngörmek ve bu hataları programın çökmesine neden olmadan yönetmek için kullanılır.\n",
    "\n",
    "### Kavramlar:\n",
    "1. **try**: Hata alabileceğini düşündüğünüz kodu bu bloğun içine yazarsınız. Eğer bu blokta bir hata oluşursa, Python otomatik olarak `except` bloğuna geçer.\n",
    "2. **except**: `try` bloğunda bir hata meydana gelirse, bu blok devreye girer ve hatanın türüne göre bir işlem yapılır. Belirli bir hata türü tanımlanabilir ya da genel bir hata yakalama yapılabilir.\n",
    "3. **else**: `try` bloğu hatasız bir şekilde tamamlanırsa, `else` bloğu çalışır. Bu blok isteğe bağlıdır ve hatasız durumlarda çalıştırılacak kodlar için kullanılır.\n",
    "4. **finally**: `try` ve `except` bloklarından sonra, hata olsa da olmasa da her durumda çalışacak bir bloktur. Genellikle dosya kapama, bağlantı sonlandırma gibi kaynak temizleme işlemlerinde kullanılır.\n",
    "\n",
    "### Temel Kullanım Örneği:\n",
    "```python\n",
    "try:\n",
    "    # Hata çıkabilecek kod\n",
    "    x = int(input(\"Enter a number: \"))\n",
    "except ValueError:\n",
    "    # Hata durumunda çalışacak kod\n",
    "    print(\"This is not a valid number.\")\n",
    "else:\n",
    "    # Hata çıkmazsa çalışacak kod\n",
    "    print(\"Input is valid.\")\n",
    "finally:\n",
    "    # Her durumda çalışacak kod\n",
    "    print(\"Program ended.\")\n",
    "```\n",
    "\n",
    "### Diğer Alakalı Kavramlar:\n",
    "#### 1. **Raise**: \n",
    "Eğer bir hata fırlatmak istenirse, `raise` anahtar kelimesi kullanılır. Bu, özel bir hata durumunun oluşturulmasına olanak sağlar.\n",
    "  \n",
    "  ```python\n",
    "  if not isinstance(x, int):\n",
    "      raise TypeError(\"Only integers are allowed.\")\n",
    "  ```\n",
    "\n",
    "#### 2. **Custom Exceptions (Özel İstisnalar)**: \n",
    "Kendi özel hata türlerinizi oluşturmak isterseniz, Python'da özel istisnalar tanımlayabilirsiniz.\n",
    "  \n",
    "  ```python\n",
    "  class CustomError(Exception):\n",
    "      pass\n",
    "\n",
    "  try:\n",
    "      raise CustomError(\"This is a custom error.\")\n",
    "  except CustomError as e:\n",
    "      print(e)\n",
    "  ```\n",
    "\n",
    "Bu yapı, hataların programın kontrolünü kaybetmeden yönetilmesine olanak tanır ve programın daha güvenilir olmasını sağlar.\n",
    "\n",
    "#### 3. **Assertions (Dogrulama)**:\n",
    "\n",
    "`assert`, Python'da bir koşulun doğru olup olmadığını kontrol etmek için kullanılan bir ifadedir. `assert` ifadesi, verilen koşulun `True` (doğru) olup olmadığını test eder; eğer koşul `False` (yanlış) ise bir **AssertionError** fırlatır ve programın çalışmasını durdurur. Genellikle testler ve hata ayıklama (debugging) sırasında kullanılır.\n",
    "\n",
    "```python\n",
    "assert condition, \"Optional error message\"\n",
    "```\n",
    "\n",
    "- `condition`: Doğruluğunu test etmek istediğiniz koşul.\n",
    "- `\"Optional error message\"`: Eğer koşul `False` olursa, bu mesaj hata ile birlikte gösterilir (isteğe bağlıdır).\n",
    "\n",
    "Temel Örnek:\n",
    "\n",
    "```python\n",
    "x = 10\n",
    "assert x > 5  # Bu hata vermez çünkü koşul doğru.\n",
    "assert x < 5, \"x is not less than 5\"  # Bu hata verir çünkü koşul yanlış.\n",
    "```\n",
    "\n",
    "Detaylar:\n",
    "\n",
    "- **Hata mesajı**: Eğer `assert` başarısız olursa, opsiyonel hata mesajı gösterilebilir. Bu mesaj, hata ayıklama sürecinde hangi koşulun başarısız olduğunu anlamak için faydalıdır.\n",
    "  \n",
    "  ```python\n",
    "  y = -3\n",
    "  assert y >= 0, \"y is a negative number\"  # Koşul yanlış olduğu için bu hata fırlatır.\n",
    "  ```\n",
    "\n",
    "- **Koşul doğruysa**: Eğer `assert` ifadesi `True` dönerse (koşul sağlanırsa), program hiçbir sorun olmadan çalışmaya devam eder.\n",
    "\n",
    "- **Koşul yanlışsa**: Eğer koşul `False` dönerse, bir `AssertionError` fırlatılır ve program durur.\n",
    "\n",
    "\n",
    "`assert` Nerelerde Kullanılır?\n",
    "\n",
    "1. **Kod testlerinde**: `assert`, fonksiyonların ve sınıfların doğru çalışıp çalışmadığını kontrol etmek için testler sırasında kullanılır.\n",
    "2. **Geliştirme sürecinde**: Programın belirli kısımlarında varsayımlar yapıyorsanız, bu varsayımların doğruluğunu kontrol etmek için `assert` kullanabilirsiniz.\n",
    "3. **Debugging sırasında**: Kodun belirli bölümlerinde hatalı durumların olup olmadığını hızlıca tespit etmek için kullanılabilir.\n",
    "\n",
    "Özetle, `assert`, koşulların doğru olup olmadığını kontrol etmek ve bu koşullar sağlanmadığında programı durdurarak hatalı durumu bildirmek için kullanılır.\n",
    "\n",
    "#### 4. **isinstance(uyumluluk)**\n",
    "\n",
    "`isinstance()`, Python'da bir nesnenin belirli bir sınıf veya veri tipiyle uyumlu olup olmadığını kontrol etmek için kullanılan bir yerleşik fonksiyondur. Eğer nesne belirtilen sınıfın veya veri tipinin bir örneğiyse, `True`, aksi takdirde `False` döner.\n",
    "\n",
    "\n",
    "```python\n",
    "isinstance(object, classinfo)\n",
    "```\n",
    "\n",
    "- `object`: Türünü kontrol etmek istediğiniz nesne.\n",
    "- `classinfo`: Karşılaştırmak istediğiniz sınıf ya da tür. Bu tek bir sınıf veya bir sınıflar (veya veri tipleri) tuple'ı olabilir.\n",
    "\n",
    "Temel Kullanım Örnekleri:\n",
    "\n",
    "- **Tek bir tür ile kontrol**:\n",
    "   ```python\n",
    "   x = 5\n",
    "   print(isinstance(x, int))  # True, çünkü x bir integer.\n",
    "   ```\n",
    "\n",
    "- **Birden fazla tür ile kontrol** (tuple ile):\n",
    "   ```python\n",
    "   y = [1, 2, 3]\n",
    "   print(isinstance(y, (list, tuple)))  # True, çünkü y bir liste.\n",
    "   ```\n",
    "\n",
    "- **Sınıflarla birlikte kullanım**:\n",
    "   ```python\n",
    "   class Animal:\n",
    "       pass\n",
    "\n",
    "   class Dog(Animal):\n",
    "       pass\n",
    "\n",
    "   my_dog = Dog()\n",
    "   print(isinstance(my_dog, Animal))  # True, çünkü Dog, Animal sınıfından türetilmiştir.\n",
    "   ```\n",
    " \n",
    " Ne Zaman Kullanılır?\n",
    " \n",
    "- **Veri türü doğrulama**: Bir fonksiyon veya sınıfa belirli türde veri geçip geçmediğini kontrol etmek için kullanılabilir.\n",
    "  \n",
    "  ```python\n",
    "  def add_numbers(a, b):\n",
    "      if isinstance(a, (int, float)) and isinstance(b, (int, float)):\n",
    "          return a + b\n",
    "      else:\n",
    "          raise TypeError(\"Both arguments must be numbers.\")\n",
    "  ```\n",
    "\n",
    "- **Sınıf hiyerarşisi kontrolü**: Bir nesnenin belirli bir sınıfın ya da o sınıftan türetilmiş alt sınıfların bir örneği olup olmadığını kontrol etmek için kullanılır.\n",
    "\n",
    " Farklı Kullanım Alanları:\n",
    " \n",
    "- **Type checking**: Dinamik tip kontrolü olan Python’da bazen hangi türle çalıştığınız önemlidir, bu nedenle `isinstance()` gibi fonksiyonlar kullanılır.\n",
    "  \n",
    "  ```python\n",
    "  x = \"Hello\"\n",
    "  print(isinstance(x, str))  # True, çünkü x bir string.\n",
    "  ```\n",
    "\n",
    "Sonuç olarak, `isinstance()`, veri tiplerini veya sınıf örneklerini güvenli bir şekilde kontrol etmek için ideal bir yöntemdir ve koşullara göre farklı işlemler gerçekleştirilmesine olanak tanır."
   ]
  },
  {
   "cell_type": "markdown",
   "metadata": {},
   "source": [
    "## Try-Exception"
   ]
  },
  {
   "cell_type": "code",
   "execution_count": 2,
   "metadata": {},
   "outputs": [
    {
     "ename": "ZeroDivisionError",
     "evalue": "division by zero",
     "output_type": "error",
     "traceback": [
      "\u001b[1;31m---------------------------------------------------------------------------\u001b[0m",
      "\u001b[1;31mZeroDivisionError\u001b[0m                         Traceback (most recent call last)",
      "Cell \u001b[1;32mIn[2], line 1\u001b[0m\n\u001b[1;32m----> 1\u001b[0m \u001b[38;5;241;43m10\u001b[39;49m\u001b[43m \u001b[49m\u001b[38;5;241;43m/\u001b[39;49m\u001b[43m \u001b[49m\u001b[38;5;241;43m0\u001b[39;49m\n",
      "\u001b[1;31mZeroDivisionError\u001b[0m: division by zero"
     ]
    }
   ],
   "source": [
    "10 / 0"
   ]
  },
  {
   "cell_type": "code",
   "execution_count": null,
   "metadata": {},
   "outputs": [],
   "source": [
    "try:\n",
    "    pass\n",
    "except:\n",
    "    pass\n",
    "else:\n",
    "    pass\n",
    "finally:\n",
    "    pass"
   ]
  },
  {
   "cell_type": "code",
   "execution_count": 3,
   "metadata": {},
   "outputs": [
    {
     "ename": "NameError",
     "evalue": "name 'irem' is not defined",
     "output_type": "error",
     "traceback": [
      "\u001b[1;31m---------------------------------------------------------------------------\u001b[0m",
      "\u001b[1;31mNameError\u001b[0m                                 Traceback (most recent call last)",
      "Cell \u001b[1;32mIn[3], line 1\u001b[0m\n\u001b[1;32m----> 1\u001b[0m \u001b[43mirem\u001b[49m\n",
      "\u001b[1;31mNameError\u001b[0m: name 'irem' is not defined"
     ]
    }
   ],
   "source": [
    "irem"
   ]
  },
  {
   "cell_type": "code",
   "execution_count": 4,
   "metadata": {},
   "outputs": [
    {
     "ename": "TypeError",
     "evalue": "unsupported operand type(s) for +: 'int' and 'str'",
     "output_type": "error",
     "traceback": [
      "\u001b[1;31m---------------------------------------------------------------------------\u001b[0m",
      "\u001b[1;31mTypeError\u001b[0m                                 Traceback (most recent call last)",
      "Cell \u001b[1;32mIn[4], line 1\u001b[0m\n\u001b[1;32m----> 1\u001b[0m \u001b[38;5;241;43m1\u001b[39;49m\u001b[43m \u001b[49m\u001b[38;5;241;43m+\u001b[39;49m\u001b[43m \u001b[49m\u001b[38;5;124;43m\"\u001b[39;49m\u001b[38;5;124;43m1\u001b[39;49m\u001b[38;5;124;43m\"\u001b[39;49m\n",
      "\u001b[1;31mTypeError\u001b[0m: unsupported operand type(s) for +: 'int' and 'str'"
     ]
    }
   ],
   "source": [
    "1 + \"1\""
   ]
  },
  {
   "cell_type": "code",
   "execution_count": null,
   "metadata": {},
   "outputs": [],
   "source": [
    "try:\n",
    "    pass\n",
    "except:\n",
    "    pass"
   ]
  },
  {
   "cell_type": "code",
   "execution_count": 5,
   "metadata": {},
   "outputs": [],
   "source": [
    "bölünen = 6\n",
    "bölen = 2"
   ]
  },
  {
   "cell_type": "code",
   "execution_count": 6,
   "metadata": {},
   "outputs": [
    {
     "data": {
      "text/plain": [
       "3.0"
      ]
     },
     "execution_count": 6,
     "metadata": {},
     "output_type": "execute_result"
    }
   ],
   "source": [
    "bölünen / bölen"
   ]
  },
  {
   "cell_type": "code",
   "execution_count": 7,
   "metadata": {},
   "outputs": [],
   "source": [
    "bölünen = 6\n",
    "bölen = 0"
   ]
  },
  {
   "cell_type": "code",
   "execution_count": 8,
   "metadata": {},
   "outputs": [
    {
     "ename": "ZeroDivisionError",
     "evalue": "division by zero",
     "output_type": "error",
     "traceback": [
      "\u001b[1;31m---------------------------------------------------------------------------\u001b[0m",
      "\u001b[1;31mZeroDivisionError\u001b[0m                         Traceback (most recent call last)",
      "Cell \u001b[1;32mIn[8], line 1\u001b[0m\n\u001b[1;32m----> 1\u001b[0m \u001b[43mbölünen\u001b[49m\u001b[43m \u001b[49m\u001b[38;5;241;43m/\u001b[39;49m\u001b[43m \u001b[49m\u001b[43mbölen\u001b[49m\n",
      "\u001b[1;31mZeroDivisionError\u001b[0m: division by zero"
     ]
    }
   ],
   "source": [
    "bölünen / bölen"
   ]
  },
  {
   "cell_type": "code",
   "execution_count": 9,
   "metadata": {},
   "outputs": [],
   "source": [
    "bölünen = 6\n",
    "bölen = 2"
   ]
  },
  {
   "cell_type": "code",
   "execution_count": 11,
   "metadata": {},
   "outputs": [
    {
     "name": "stdout",
     "output_type": "stream",
     "text": [
      "3.0\n",
      "try çalıştı. except e gerek kalmadı\n"
     ]
    }
   ],
   "source": [
    "try:\n",
    "    print(bölünen / bölen)\n",
    "    print(\"try çalıştı. except e gerek kalmadı\")\n",
    "except: \n",
    "    print(\"try kısmı çalışmadığı için except olarak ben çalıştım\")"
   ]
  },
  {
   "cell_type": "code",
   "execution_count": 19,
   "metadata": {},
   "outputs": [],
   "source": [
    "bölünen = 6\n",
    "bölen = 0"
   ]
  },
  {
   "cell_type": "code",
   "execution_count": 13,
   "metadata": {},
   "outputs": [
    {
     "name": "stdout",
     "output_type": "stream",
     "text": [
      "try kısmı çalışmadığı için except olarak ben çalıştım\n"
     ]
    }
   ],
   "source": [
    "try:\n",
    "    print(bölünen / bölen)\n",
    "    print(\"try çalıştı. except e gerek kalmadı\")\n",
    "except: \n",
    "    print(\"try kısmı çalışmadığı için except olarak ben çalıştım\")"
   ]
  },
  {
   "cell_type": "code",
   "execution_count": 14,
   "metadata": {},
   "outputs": [
    {
     "name": "stdout",
     "output_type": "stream",
     "text": [
      "try kısmı hatayı görene kadar işlem yapar. hatadan sonrasına geçemez\n",
      "try kısmı çalışmadığı için except olarak ben çalıştım\n"
     ]
    }
   ],
   "source": [
    "try:\n",
    "    print( \"try kısmı hatayı görene kadar işlem yapar. hatadan sonrasına geçemez\")\n",
    "    print(bölünen / bölen)\n",
    "    print(\"try çalıştı. except e gerek kalmadı\")\n",
    "except: \n",
    "    print(\"try kısmı çalışmadığı için except olarak ben çalıştım\")"
   ]
  },
  {
   "cell_type": "code",
   "execution_count": 20,
   "metadata": {},
   "outputs": [
    {
     "ename": "ZeroDivisionError",
     "evalue": "division by zero",
     "output_type": "error",
     "traceback": [
      "\u001b[1;31m---------------------------------------------------------------------------\u001b[0m",
      "\u001b[1;31mZeroDivisionError\u001b[0m                         Traceback (most recent call last)",
      "Cell \u001b[1;32mIn[20], line 2\u001b[0m\n\u001b[0;32m      1\u001b[0m \u001b[38;5;28;01mtry\u001b[39;00m:\n\u001b[1;32m----> 2\u001b[0m     \u001b[38;5;28mprint\u001b[39m(\u001b[43mbölünen\u001b[49m\u001b[43m \u001b[49m\u001b[38;5;241;43m/\u001b[39;49m\u001b[43m \u001b[49m\u001b[43mbölen\u001b[49m)\n\u001b[0;32m      3\u001b[0m     \u001b[38;5;28mprint\u001b[39m(\u001b[38;5;124m\"\u001b[39m\u001b[38;5;124mtry çalıştı. except e gerek kalmadı\u001b[39m\u001b[38;5;124m\"\u001b[39m)\n",
      "\u001b[1;31mZeroDivisionError\u001b[0m: division by zero",
      "\nDuring handling of the above exception, another exception occurred:\n",
      "\u001b[1;31mZeroDivisionError\u001b[0m                         Traceback (most recent call last)",
      "Cell \u001b[1;32mIn[20], line 6\u001b[0m\n\u001b[0;32m      4\u001b[0m \u001b[38;5;28;01mexcept\u001b[39;00m: \n\u001b[0;32m      5\u001b[0m     bölen \u001b[38;5;241m=\u001b[39m \u001b[38;5;28mint\u001b[39m(\u001b[38;5;28minput\u001b[39m(\u001b[38;5;124m\"\u001b[39m\u001b[38;5;124mbölen kısmında sıfırı kullandığın için beni gördün. Farklı bir değer gir.\u001b[39m\u001b[38;5;124m\"\u001b[39m))\n\u001b[1;32m----> 6\u001b[0m     \u001b[38;5;28mprint\u001b[39m(\u001b[43mbölünen\u001b[49m\u001b[43m \u001b[49m\u001b[38;5;241;43m/\u001b[39;49m\u001b[43m \u001b[49m\u001b[43mbölen\u001b[49m)\n",
      "\u001b[1;31mZeroDivisionError\u001b[0m: division by zero"
     ]
    }
   ],
   "source": [
    "try:\n",
    "    print(bölünen / bölen)\n",
    "    print(\"try çalıştı. except e gerek kalmadı\")\n",
    "except: \n",
    "    bölen = int(input(\"bölen kısmında sıfırı kullandığın için beni gördün. Farklı bir değer gir.\"))\n",
    "    print(bölünen / bölen)"
   ]
  },
  {
   "cell_type": "code",
   "execution_count": 21,
   "metadata": {},
   "outputs": [],
   "source": [
    "bölünen = 6\n",
    "bölen = 0"
   ]
  },
  {
   "cell_type": "code",
   "execution_count": 22,
   "metadata": {},
   "outputs": [
    {
     "name": "stdout",
     "output_type": "stream",
     "text": [
      "try kısmından gelecek olan hata 'ZeroDivisionError' hatasıdır\n"
     ]
    }
   ],
   "source": [
    "try:\n",
    "    print(bölünen / bölen)\n",
    "except ZeroDivisionError:\n",
    "    print(\"try kısmından gelecek olan hata 'ZeroDivisionError' hatasıdır\")"
   ]
  },
  {
   "cell_type": "code",
   "execution_count": 23,
   "metadata": {},
   "outputs": [
    {
     "ename": "ZeroDivisionError",
     "evalue": "division by zero",
     "output_type": "error",
     "traceback": [
      "\u001b[1;31m---------------------------------------------------------------------------\u001b[0m",
      "\u001b[1;31mZeroDivisionError\u001b[0m                         Traceback (most recent call last)",
      "Cell \u001b[1;32mIn[23], line 2\u001b[0m\n\u001b[0;32m      1\u001b[0m \u001b[38;5;28;01mtry\u001b[39;00m:\n\u001b[1;32m----> 2\u001b[0m     \u001b[38;5;28mprint\u001b[39m(\u001b[43mbölünen\u001b[49m\u001b[43m \u001b[49m\u001b[38;5;241;43m/\u001b[39;49m\u001b[43m \u001b[49m\u001b[43mbölen\u001b[49m)\n\u001b[0;32m      3\u001b[0m \u001b[38;5;28;01mexcept\u001b[39;00m \u001b[38;5;167;01mNameError\u001b[39;00m:\n\u001b[0;32m      4\u001b[0m     \u001b[38;5;28mprint\u001b[39m(\u001b[38;5;124m\"\u001b[39m\u001b[38;5;124mtry kısmından gelecek olan hata \u001b[39m\u001b[38;5;124m'\u001b[39m\u001b[38;5;124mZeroDivisionError\u001b[39m\u001b[38;5;124m'\u001b[39m\u001b[38;5;124m hatasıdır\u001b[39m\u001b[38;5;124m\"\u001b[39m)\n",
      "\u001b[1;31mZeroDivisionError\u001b[0m: division by zero"
     ]
    }
   ],
   "source": [
    "try:\n",
    "    print(bölünen / bölen)\n",
    "except NameError:\n",
    "    print(\"try kısmından gelecek olan hata 'ZeroDivisionError' hatasıdır\")"
   ]
  },
  {
   "cell_type": "markdown",
   "metadata": {},
   "source": [
    "### Try - Except -Except"
   ]
  },
  {
   "cell_type": "code",
   "execution_count": 24,
   "metadata": {},
   "outputs": [
    {
     "name": "stdout",
     "output_type": "stream",
     "text": [
      "1.2\n"
     ]
    }
   ],
   "source": [
    "try:\n",
    "    print(bölünen / bölen)\n",
    "\n",
    "except NameError:\n",
    "    print(\"try kısmından gelecek olan hata 'name error' hatasıdır \")\n",
    "    \n",
    "except ZeroDivisionError: \n",
    "    bölen = int(input(\"bölen kısmında sıfırı kullandığın için beni gördün. Farklı bir değer gir.\"))\n",
    "    print(bölünen / bölen)"
   ]
  },
  {
   "cell_type": "code",
   "execution_count": 25,
   "metadata": {},
   "outputs": [],
   "source": [
    "bölünen = 8\n",
    "bölen = 2"
   ]
  },
  {
   "cell_type": "code",
   "execution_count": 26,
   "metadata": {},
   "outputs": [
    {
     "name": "stdout",
     "output_type": "stream",
     "text": [
      "4.0\n",
      "try kısmı çalışmazsa bilin ki hata name error dür\n"
     ]
    }
   ],
   "source": [
    "try:\n",
    "    print(bölünen / bölen)\n",
    "    print(mustafa)\n",
    "\n",
    "except NameError:\n",
    "    print(\"try kısmı çalışmazsa bilin ki hata name error dür\")\n",
    "\n",
    "except ZeroDivisionError: \n",
    "    bölen = int(input(\"bölen kısmında sıfırı kullandığın için beni gördün. Farklı bir değer gir.\"))\n",
    "    print(bölünen / bölen)\n",
    "\n",
    "except:\n",
    "    print(\"Benden kaçmaz. Bütün hataları yakalarım\")"
   ]
  },
  {
   "cell_type": "code",
   "execution_count": 27,
   "metadata": {},
   "outputs": [
    {
     "ename": "NameError",
     "evalue": "name 'mustafa' is not defined",
     "output_type": "error",
     "traceback": [
      "\u001b[1;31m---------------------------------------------------------------------------\u001b[0m",
      "\u001b[1;31mNameError\u001b[0m                                 Traceback (most recent call last)",
      "Cell \u001b[1;32mIn[27], line 1\u001b[0m\n\u001b[1;32m----> 1\u001b[0m \u001b[38;5;28mprint\u001b[39m(\u001b[43mmustafa\u001b[49m)\n",
      "\u001b[1;31mNameError\u001b[0m: name 'mustafa' is not defined"
     ]
    }
   ],
   "source": [
    "print(mustafa)"
   ]
  },
  {
   "cell_type": "code",
   "execution_count": 28,
   "metadata": {},
   "outputs": [],
   "source": [
    "bölünen = 8\n",
    "bölen = 0"
   ]
  },
  {
   "cell_type": "code",
   "execution_count": 3,
   "metadata": {
    "ExecuteTime": {
     "end_time": "2024-09-06T08:01:33.825439Z",
     "start_time": "2024-09-06T08:01:33.821228Z"
    }
   },
   "outputs": [
    {
     "name": "stdout",
     "output_type": "stream",
     "text": [
      "1.6666666666666667\n",
      "try kısmı çalışmazsa bilin ki hata name error dür\n"
     ]
    }
   ],
   "source": [
    "try:\n",
    "    print(bölünen / bölen)\n",
    "    print(mustafa) # tirnak icinde degil string\n",
    "\n",
    "except NameError:\n",
    "    print(\"try kısmı çalışmazsa bilin ki hata name error dür\")\n",
    "\n",
    "except ZeroDivisionError: \n",
    "    bölen = int(input(\"bölen kısmında sıfırı kullandığın için beni gördün. Farklı bir değer gir.\"))\n",
    "    print(bölünen / bölen)\n",
    "\n",
    "except:\n",
    "    print(\"Benden kaçmaz. Bütün hataları yakalarım\")"
   ]
  },
  {
   "cell_type": "code",
   "execution_count": 1,
   "metadata": {
    "ExecuteTime": {
     "end_time": "2024-09-06T08:01:20.003482Z",
     "start_time": "2024-09-06T08:01:19.998765Z"
    }
   },
   "outputs": [],
   "source": [
    "bölünen=10\n",
    "bölen= 6"
   ]
  },
  {
   "cell_type": "code",
   "execution_count": 2,
   "metadata": {
    "ExecuteTime": {
     "end_time": "2024-09-06T08:01:21.536717Z",
     "start_time": "2024-09-06T08:01:21.529788Z"
    }
   },
   "outputs": [
    {
     "ename": "SyntaxError",
     "evalue": "default 'except:' must be last (3443995795.py, line 5)",
     "output_type": "error",
     "traceback": [
      "\u001b[1;36m  Cell \u001b[1;32mIn[2], line 5\u001b[1;36m\u001b[0m\n\u001b[1;33m    except:\u001b[0m\n\u001b[1;37m    ^\u001b[0m\n\u001b[1;31mSyntaxError\u001b[0m\u001b[1;31m:\u001b[0m default 'except:' must be last\n"
     ]
    }
   ],
   "source": [
    "try:  #  syntax hatası varsa doğrusatırlar olsa dahi çalışmaz.\n",
    "    print(bölünen / bölen)\n",
    "    print(mustafa)\n",
    "\n",
    "except:\n",
    "    print(\"Benden kaçmaz. Bütün hataları yakalarım\")\n",
    "\n",
    "except NameError:\n",
    "    print(\"try kısmı çalışmazsa bilin ki hata name error dür\")\n",
    "\n",
    "except ZeroDivisionError: \n",
    "    bölen = int(input(\"bölen kısmında sıfırı kullandığın için beni gördün. Farklı bir değer gir.\"))\n",
    "    print(bölünen / bölen)\n"
   ]
  },
  {
   "cell_type": "code",
   "execution_count": 4,
   "metadata": {
    "ExecuteTime": {
     "end_time": "2024-09-06T08:02:18.969556Z",
     "start_time": "2024-09-06T08:02:18.963811Z"
    }
   },
   "outputs": [
    {
     "name": "stdout",
     "output_type": "stream",
     "text": [
      "1.6666666666666667\n",
      "try kısmı çalışmazsa bilin ki hata name error dür\n"
     ]
    }
   ],
   "source": [
    "try:  #  syntax hatası varsa doğrusatırlar olsa dahi çalışmaz.\n",
    "    print(bölünen / bölen)\n",
    "    print(mustafa)\n",
    "\n",
    "except NameError:\n",
    "    print(\"try kısmı çalışmazsa bilin ki hata name error dür\")\n",
    "\n",
    "except ZeroDivisionError: \n",
    "    bölen = int(input(\"bölen kısmında sıfırı kullandığın için beni gördün. Farklı bir değer gir.\"))\n",
    "    print(bölünen / bölen)\n",
    "    \n",
    "except:\n",
    "    print(\"Benden kaçmaz. Bütün hataları yakalarım\") # default en sonda\n",
    "    "
   ]
  },
  {
   "cell_type": "code",
   "execution_count": 32,
   "metadata": {},
   "outputs": [
    {
     "ename": "SyntaxError",
     "evalue": "unterminated string literal (detected at line 3) (4103335118.py, line 3)",
     "output_type": "error",
     "traceback": [
      "\u001b[1;36m  Cell \u001b[1;32mIn[32], line 3\u001b[1;36m\u001b[0m\n\u001b[1;33m    print(\"Esra)\u001b[0m\n\u001b[1;37m          ^\u001b[0m\n\u001b[1;31mSyntaxError\u001b[0m\u001b[1;31m:\u001b[0m unterminated string literal (detected at line 3)\n"
     ]
    }
   ],
   "source": [
    "print( \"Yusuf\")\n",
    "print(\"Zehra\")\n",
    "print(\"Esra)"
   ]
  },
  {
   "cell_type": "code",
   "execution_count": 5,
   "metadata": {
    "ExecuteTime": {
     "end_time": "2024-09-06T08:02:43.988186Z",
     "start_time": "2024-09-06T08:02:43.984846Z"
    }
   },
   "outputs": [],
   "source": [
    "bölünen = 8\n",
    "bölen = 4"
   ]
  },
  {
   "cell_type": "code",
   "execution_count": 6,
   "metadata": {
    "ExecuteTime": {
     "end_time": "2024-09-06T08:02:45.508638Z",
     "start_time": "2024-09-06T08:02:45.505990Z"
    }
   },
   "outputs": [],
   "source": [
    "name = \"Mustafa\""
   ]
  },
  {
   "cell_type": "code",
   "execution_count": 8,
   "metadata": {
    "ExecuteTime": {
     "end_time": "2024-09-06T08:03:32.194253Z",
     "start_time": "2024-09-06T08:03:32.188763Z"
    }
   },
   "outputs": [
    {
     "name": "stdout",
     "output_type": "stream",
     "text": [
      "2.0\n",
      "Mustafa\n"
     ]
    }
   ],
   "source": [
    "try:\n",
    "    print(bölünen / bölen)\n",
    "    print(name)\n",
    "\n",
    "except NameError:\n",
    "    print(\"try kısmı çalışmazsa bilin ki hata name error dür\")\n",
    "\n",
    "except ZeroDivisionError: \n",
    "    bölen = int(input(\"bölen kısmında sıfırı kullandığın için beni gördün. Farklı bir değer gir.\"))\n",
    "    print(bölünen / bölen)\n",
    "\n",
    "except:\n",
    "    print(\"Benden kaçmaz. Bütün hataları yakalarım\")"
   ]
  },
  {
   "cell_type": "code",
   "execution_count": 9,
   "metadata": {
    "ExecuteTime": {
     "end_time": "2024-09-06T08:04:04.378787Z",
     "start_time": "2024-09-06T08:04:04.360916Z"
    }
   },
   "outputs": [
    {
     "ename": "TypeError",
     "evalue": "unsupported operand type(s) for +: 'int' and 'str'",
     "output_type": "error",
     "traceback": [
      "\u001b[1;31m---------------------------------------------------------------------------\u001b[0m",
      "\u001b[1;31mTypeError\u001b[0m                                 Traceback (most recent call last)",
      "Cell \u001b[1;32mIn[9], line 1\u001b[0m\n\u001b[1;32m----> 1\u001b[0m \u001b[38;5;28mprint\u001b[39m(\u001b[38;5;241m1\u001b[39m \u001b[38;5;241m+\u001b[39m \u001b[38;5;124m\"\u001b[39m\u001b[38;5;124m1\u001b[39m\u001b[38;5;124m\"\u001b[39m)\n",
      "\u001b[1;31mTypeError\u001b[0m: unsupported operand type(s) for +: 'int' and 'str'"
     ]
    }
   ],
   "source": [
    "print(1 + \"1\") #'int' and 'str'"
   ]
  },
  {
   "cell_type": "code",
   "execution_count": 10,
   "metadata": {
    "ExecuteTime": {
     "end_time": "2024-09-06T08:04:25.393075Z",
     "start_time": "2024-09-06T08:04:25.388921Z"
    }
   },
   "outputs": [
    {
     "name": "stdout",
     "output_type": "stream",
     "text": [
      "2.0\n",
      "Mustafa\n",
      "Benden kaçmaz. Bütün hataları yakalarım\n"
     ]
    }
   ],
   "source": [
    "try:\n",
    "    print(bölünen / bölen)\n",
    "    print(name)\n",
    "    print(1 + \"1\")\n",
    "\n",
    "except NameError:\n",
    "    print(\"try kısmı çalışmazsa bilin ki hata name error dür\")\n",
    "\n",
    "except ZeroDivisionError: \n",
    "    bölen = int(input(\"bölen kısmında sıfırı kullandığın için beni gördün. Farklı bir değer gir.\"))\n",
    "    print(bölünen / bölen)\n",
    "\n",
    "except:\n",
    "    print(\"Benden kaçmaz. Bütün hataları yakalarım\")"
   ]
  },
  {
   "cell_type": "code",
   "execution_count": 14,
   "metadata": {
    "ExecuteTime": {
     "end_time": "2024-09-06T08:07:36.196101Z",
     "start_time": "2024-09-06T08:07:36.192058Z"
    }
   },
   "outputs": [
    {
     "name": "stdout",
     "output_type": "stream",
     "text": [
      "2.0\n",
      "Mustafa\n",
      "Benden kaçmaz. Bütün hataları yakalarım\n",
      "try kısmında oluşan hata - unsupported operand type(s) for +: 'int' and 'str' - hatasıdır\n"
     ]
    }
   ],
   "source": [
    "try:\n",
    "    print(bölünen / bölen)\n",
    "    print(name)\n",
    "    print(1 + \"1\")\n",
    "\n",
    "except NameError:\n",
    "    print(\"try kısmı çalışmazsa bilin ki hata name error dür\")\n",
    "\n",
    "except ZeroDivisionError: \n",
    "    bölen = int(input(\"bölen kısmında sıfırı kullandığın için beni gördün. Farklı bir değer gir.\"))\n",
    "    print(bölünen / bölen)\n",
    "\n",
    "except Exception as error:\n",
    "    print(\"Benden kaçmaz. Bütün hataları yakalarım\")\n",
    "    print(f\"try kısmında oluşan hata - {error} - hatasıdır\")"
   ]
  },
  {
   "cell_type": "code",
   "execution_count": 15,
   "metadata": {
    "ExecuteTime": {
     "end_time": "2024-09-06T08:08:07.184073Z",
     "start_time": "2024-09-06T08:08:07.180939Z"
    }
   },
   "outputs": [],
   "source": [
    "liste = [5 , \"aaa\", 15, \"bbb\", 24]\n",
    "\n",
    "# listedeki int yazdirin:"
   ]
  },
  {
   "cell_type": "code",
   "execution_count": 42,
   "metadata": {},
   "outputs": [
    {
     "ename": "ValueError",
     "evalue": "invalid literal for int() with base 10: 'aaa'",
     "output_type": "error",
     "traceback": [
      "\u001b[1;31m---------------------------------------------------------------------------\u001b[0m",
      "\u001b[1;31mValueError\u001b[0m                                Traceback (most recent call last)",
      "Cell \u001b[1;32mIn[42], line 1\u001b[0m\n\u001b[1;32m----> 1\u001b[0m \u001b[38;5;28;43mint\u001b[39;49m\u001b[43m(\u001b[49m\u001b[38;5;124;43m\"\u001b[39;49m\u001b[38;5;124;43maaa\u001b[39;49m\u001b[38;5;124;43m\"\u001b[39;49m\u001b[43m)\u001b[49m\n",
      "\u001b[1;31mValueError\u001b[0m: invalid literal for int() with base 10: 'aaa'"
     ]
    }
   ],
   "source": [
    "int(\"aaa\")"
   ]
  },
  {
   "cell_type": "code",
   "execution_count": 16,
   "metadata": {
    "ExecuteTime": {
     "end_time": "2024-09-06T08:08:20.673718Z",
     "start_time": "2024-09-06T08:08:20.665354Z"
    }
   },
   "outputs": [
    {
     "data": {
      "text/plain": [
       "[5, 15, 24]"
      ]
     },
     "execution_count": 16,
     "metadata": {},
     "output_type": "execute_result"
    }
   ],
   "source": [
    "# 1.yol; List comp\n",
    "[x for x in liste if isinstance(x, int)]"
   ]
  },
  {
   "cell_type": "code",
   "execution_count": 17,
   "metadata": {
    "ExecuteTime": {
     "end_time": "2024-09-06T08:09:02.489005Z",
     "start_time": "2024-09-06T08:09:02.484019Z"
    }
   },
   "outputs": [
    {
     "name": "stdout",
     "output_type": "stream",
     "text": [
      "[5, 15, 24]\n"
     ]
    }
   ],
   "source": [
    "# 2.yol; try-except\n",
    "\n",
    "new_list = []\n",
    "\n",
    "for i in liste:\n",
    "\n",
    "    try:\n",
    "        x = int(i)\n",
    "        new_list.append(i)\n",
    "    except:\n",
    "        continue\n",
    "\n",
    "print(new_list)"
   ]
  },
  {
   "cell_type": "markdown",
   "metadata": {},
   "source": [
    "### Try - Except - Else"
   ]
  },
  {
   "cell_type": "code",
   "execution_count": 18,
   "metadata": {
    "ExecuteTime": {
     "end_time": "2024-09-06T08:12:07.513866Z",
     "start_time": "2024-09-06T08:12:07.510209Z"
    }
   },
   "outputs": [],
   "source": [
    "try:   # try sorunsuz bişekilde çalışırsa else te çalışır. aksi durumda else çalışmaz\n",
    "    pass\n",
    "except:\n",
    "    pass\n",
    "else:\n",
    "    pass"
   ]
  },
  {
   "cell_type": "code",
   "execution_count": 19,
   "metadata": {
    "ExecuteTime": {
     "end_time": "2024-09-06T08:12:09.311247Z",
     "start_time": "2024-09-06T08:12:09.307877Z"
    }
   },
   "outputs": [],
   "source": [
    "bölünen = 8\n",
    "bölen = 4"
   ]
  },
  {
   "cell_type": "code",
   "execution_count": 20,
   "metadata": {
    "ExecuteTime": {
     "end_time": "2024-09-06T08:12:30.036354Z",
     "start_time": "2024-09-06T08:12:30.032314Z"
    }
   },
   "outputs": [
    {
     "name": "stdout",
     "output_type": "stream",
     "text": [
      "2.0\n",
      "Ben else olarak sadece ve sadece try çalışırsa çalışırım\n",
      "bu işlem de göstergesi 9\n"
     ]
    }
   ],
   "source": [
    "try:\n",
    "    print(bölünen / bölen)\n",
    "\n",
    "except: \n",
    "    bölen = int(input(\"bölen kısmında sıfırı kullandığın için beni gördün. Farklı bir değer gir.\"))\n",
    "    print(bölünen / bölen)\n",
    "\n",
    "else:\n",
    "    print( \"Ben else olarak sadece ve sadece try çalışırsa çalışırım\")\n",
    "    print(f\"bu işlem de göstergesi {3 + 6}\")"
   ]
  },
  {
   "cell_type": "code",
   "execution_count": 46,
   "metadata": {},
   "outputs": [],
   "source": [
    "bölünen = 8\n",
    "bölen = 0"
   ]
  },
  {
   "cell_type": "code",
   "execution_count": 22,
   "metadata": {
    "ExecuteTime": {
     "end_time": "2024-09-06T08:13:36.868010Z",
     "start_time": "2024-09-06T08:13:36.864249Z"
    }
   },
   "outputs": [
    {
     "name": "stdout",
     "output_type": "stream",
     "text": [
      "2.0\n",
      "Ben else olarak sadece ve sadece try çalışırsa çalışırım\n",
      "bu işlem de göstergesi 9\n"
     ]
    }
   ],
   "source": [
    "try:\n",
    "    print(bölünen / bölen)\n",
    "\n",
    "except: \n",
    "    bölen = int(input(\"bölen kısmında sıfırı kullandığın için beni gördün. Farklı bir değer gir.\"))\n",
    "    print(bölünen / bölen)\n",
    "\n",
    "else: # try calisirsa calisir, islemin basarili oldugunu yazdirabilirz gibi.\n",
    "    print( \"Ben else olarak sadece ve sadece try çalışırsa çalışırım\")\n",
    "    print(f\"bu işlem de göstergesi {3 + 6}\")"
   ]
  },
  {
   "cell_type": "code",
   "execution_count": 21,
   "metadata": {
    "ExecuteTime": {
     "end_time": "2024-09-06T08:13:28.072886Z",
     "start_time": "2024-09-06T08:13:28.067601Z"
    }
   },
   "outputs": [
    {
     "name": "stdout",
     "output_type": "stream",
     "text": [
      "[5, 15, 24]\n"
     ]
    }
   ],
   "source": [
    "new_list = []\n",
    "\n",
    "for i in liste:\n",
    "\n",
    "    try:\n",
    "        x = int(i)\n",
    "        \n",
    "    except:\n",
    "        continue\n",
    "    \n",
    "    else: \n",
    "        new_list.append(i)\n",
    "\n",
    "print(new_list)"
   ]
  },
  {
   "cell_type": "markdown",
   "metadata": {},
   "source": [
    "### Try - Except - Else - Finally"
   ]
  },
  {
   "cell_type": "code",
   "execution_count": null,
   "metadata": {},
   "outputs": [],
   "source": [
    "try:\n",
    "    pass\n",
    "except:\n",
    "    pass\n",
    "else:\n",
    "    pass\n",
    "finally:\n",
    "    pass"
   ]
  },
  {
   "cell_type": "code",
   "execution_count": 49,
   "metadata": {},
   "outputs": [],
   "source": [
    "bölünen = 7\n",
    "bölen = 2"
   ]
  },
  {
   "cell_type": "code",
   "execution_count": 23,
   "metadata": {
    "ExecuteTime": {
     "end_time": "2024-09-06T08:18:10.453940Z",
     "start_time": "2024-09-06T08:18:10.449710Z"
    }
   },
   "outputs": [
    {
     "name": "stdout",
     "output_type": "stream",
     "text": [
      "2.0\n",
      "Ben else olarak sadece ve sadece try çalışırsa çalışırım\n",
      "bu işlem de göstergesi 9\n",
      "Ben finallay olarak yukarıdaki kodlardan bağımsız bir şekilde her halükarda çalışırm\n"
     ]
    }
   ],
   "source": [
    "try:\n",
    "    print(bölünen / bölen)\n",
    "\n",
    "except: \n",
    "    bölen = int(input(\"bölen kısmında sıfırı kullandığın için beni gördün. Farklı bir değer gir.\"))\n",
    "    print(bölünen / bölen)\n",
    "\n",
    "else:\n",
    "    print( \"Ben else olarak sadece ve sadece try çalışırsa çalışırım\")\n",
    "    print(f\"bu işlem de göstergesi {3 + 6}\")\n",
    "\n",
    "finally:\n",
    "    print( \"Ben finallay olarak yukarıdaki kodlardan bağımsız bir şekilde her halükarda çalışırm\")"
   ]
  },
  {
   "cell_type": "code",
   "execution_count": 24,
   "metadata": {
    "ExecuteTime": {
     "end_time": "2024-09-06T08:18:38.388433Z",
     "start_time": "2024-09-06T08:18:38.365105Z"
    }
   },
   "outputs": [
    {
     "name": "stdout",
     "output_type": "stream",
     "text": [
      "2.0\n",
      "Ben else olarak sadece ve sadece try çalışırsa çalışırım\n",
      "bu işlem de göstergesi 9\n",
      "Ben finallay olarak yukarıdaki kodlardan bağımsız bir şekilde her halükarda çalışırm\n"
     ]
    },
    {
     "ename": "NameError",
     "evalue": "name 'mustafa' is not defined",
     "output_type": "error",
     "traceback": [
      "\u001b[1;31m---------------------------------------------------------------------------\u001b[0m",
      "\u001b[1;31mNameError\u001b[0m                                 Traceback (most recent call last)",
      "Cell \u001b[1;32mIn[24], line 14\u001b[0m\n\u001b[0;32m     12\u001b[0m \u001b[38;5;28;01mfinally\u001b[39;00m:\n\u001b[0;32m     13\u001b[0m     \u001b[38;5;28mprint\u001b[39m( \u001b[38;5;124m\"\u001b[39m\u001b[38;5;124mBen finallay olarak yukarıdaki kodlardan bağımsız bir şekilde her halükarda çalışırm\u001b[39m\u001b[38;5;124m\"\u001b[39m)\n\u001b[1;32m---> 14\u001b[0m     \u001b[38;5;28mprint\u001b[39m(mustafa)\n",
      "\u001b[1;31mNameError\u001b[0m: name 'mustafa' is not defined"
     ]
    }
   ],
   "source": [
    "try:\n",
    "    print(bölünen / bölen)\n",
    "\n",
    "except: \n",
    "    bölen = int(input(\"bölen kısmında sıfırı kullandığın için beni gördün. Farklı bir değer gir.\"))\n",
    "    print(bölünen / bölen)\n",
    "\n",
    "else:\n",
    "    print( \"Ben else olarak sadece ve sadece try çalışırsa çalışırım\")\n",
    "    print(f\"bu işlem de göstergesi {3 + 6}\")\n",
    "\n",
    "finally:\n",
    "    print( \"Ben finallay olarak yukarıdaki kodlardan bağımsız bir şekilde her halükarda çalışırm\")\n",
    "    print(mustafa) # yapilmasini istedigin bir islem vara Try icinde yazilmali"
   ]
  },
  {
   "cell_type": "markdown",
   "metadata": {},
   "source": [
    "## Exception Types"
   ]
  },
  {
   "cell_type": "markdown",
   "metadata": {},
   "source": [
    "### Raise Exception()"
   ]
  },
  {
   "cell_type": "code",
   "execution_count": 53,
   "metadata": {},
   "outputs": [
    {
     "ename": "Exception",
     "evalue": "Keyfime göre",
     "output_type": "error",
     "traceback": [
      "\u001b[1;31m---------------------------------------------------------------------------\u001b[0m",
      "\u001b[1;31mException\u001b[0m                                 Traceback (most recent call last)",
      "Cell \u001b[1;32mIn[53], line 1\u001b[0m\n\u001b[1;32m----> 1\u001b[0m \u001b[38;5;28;01mraise\u001b[39;00m \u001b[38;5;167;01mException\u001b[39;00m(\u001b[38;5;124m\"\u001b[39m\u001b[38;5;124mKeyfime göre\u001b[39m\u001b[38;5;124m\"\u001b[39m)\n",
      "\u001b[1;31mException\u001b[0m: Keyfime göre"
     ]
    }
   ],
   "source": [
    "raise Exception(\"Keyfime göre\")"
   ]
  },
  {
   "cell_type": "code",
   "execution_count": 25,
   "metadata": {
    "ExecuteTime": {
     "end_time": "2024-09-06T08:51:17.730248Z",
     "start_time": "2024-09-06T08:51:17.726763Z"
    }
   },
   "outputs": [],
   "source": [
    "def terstenyazdır(x):\n",
    "\n",
    "    if type(x) != str:\n",
    "\n",
    "        raise TypeError(\"Girdiğiniz değer str olamlıydı\")\n",
    "    \n",
    "    else:\n",
    "\n",
    "        return x[::-1]"
   ]
  },
  {
   "cell_type": "code",
   "execution_count": 27,
   "metadata": {
    "ExecuteTime": {
     "end_time": "2024-09-06T08:51:49.401519Z",
     "start_time": "2024-09-06T08:51:49.396465Z"
    }
   },
   "outputs": [
    {
     "data": {
      "text/plain": [
       "'tades'"
      ]
     },
     "execution_count": 27,
     "metadata": {},
     "output_type": "execute_result"
    }
   ],
   "source": [
    "terstenyazdır( \"sedat\")"
   ]
  },
  {
   "cell_type": "code",
   "execution_count": 28,
   "metadata": {
    "ExecuteTime": {
     "end_time": "2024-09-06T08:51:55.738632Z",
     "start_time": "2024-09-06T08:51:55.715897Z"
    }
   },
   "outputs": [
    {
     "ename": "TypeError",
     "evalue": "Girdiğiniz değer str olamlıydı",
     "output_type": "error",
     "traceback": [
      "\u001b[1;31m---------------------------------------------------------------------------\u001b[0m",
      "\u001b[1;31mTypeError\u001b[0m                                 Traceback (most recent call last)",
      "Cell \u001b[1;32mIn[28], line 1\u001b[0m\n\u001b[1;32m----> 1\u001b[0m terstenyazdır([\u001b[38;5;241m1\u001b[39m,\u001b[38;5;241m2\u001b[39m,\u001b[38;5;241m3\u001b[39m,\u001b[38;5;241m4\u001b[39m,\u001b[38;5;241m5\u001b[39m])\n",
      "Cell \u001b[1;32mIn[25], line 5\u001b[0m, in \u001b[0;36mterstenyazdır\u001b[1;34m(x)\u001b[0m\n\u001b[0;32m      1\u001b[0m \u001b[38;5;28;01mdef\u001b[39;00m \u001b[38;5;21mterstenyazdır\u001b[39m(x):\n\u001b[0;32m      3\u001b[0m     \u001b[38;5;28;01mif\u001b[39;00m \u001b[38;5;28mtype\u001b[39m(x) \u001b[38;5;241m!=\u001b[39m \u001b[38;5;28mstr\u001b[39m:\n\u001b[1;32m----> 5\u001b[0m         \u001b[38;5;28;01mraise\u001b[39;00m \u001b[38;5;167;01mTypeError\u001b[39;00m(\u001b[38;5;124m\"\u001b[39m\u001b[38;5;124mGirdiğiniz değer str olamlıydı\u001b[39m\u001b[38;5;124m\"\u001b[39m)\n\u001b[0;32m      7\u001b[0m     \u001b[38;5;28;01melse\u001b[39;00m:\n\u001b[0;32m      9\u001b[0m         \u001b[38;5;28;01mreturn\u001b[39;00m x[::\u001b[38;5;241m-\u001b[39m\u001b[38;5;241m1\u001b[39m]\n",
      "\u001b[1;31mTypeError\u001b[0m: Girdiğiniz değer str olamlıydı"
     ]
    }
   ],
   "source": [
    "terstenyazdır([1,2,3,4,5])"
   ]
  },
  {
   "cell_type": "code",
   "execution_count": 57,
   "metadata": {},
   "outputs": [
    {
     "data": {
      "text/plain": [
       "[5, 4, 3, 2, 1]"
      ]
     },
     "execution_count": 57,
     "metadata": {},
     "output_type": "execute_result"
    }
   ],
   "source": [
    "[1,2,3,4,5][::-1]"
   ]
  },
  {
   "cell_type": "code",
   "execution_count": 58,
   "metadata": {},
   "outputs": [],
   "source": [
    "liste = [1,2,3]"
   ]
  },
  {
   "cell_type": "markdown",
   "metadata": {},
   "source": [
    "### Assertion"
   ]
  },
  {
   "cell_type": "code",
   "execution_count": 59,
   "metadata": {},
   "outputs": [],
   "source": [
    "assert len(liste) == 3, \"eleman sayısı 3 olmalı\""
   ]
  },
  {
   "cell_type": "code",
   "execution_count": 60,
   "metadata": {},
   "outputs": [
    {
     "ename": "AssertionError",
     "evalue": "eleman sayısı 2 olmalı",
     "output_type": "error",
     "traceback": [
      "\u001b[1;31m---------------------------------------------------------------------------\u001b[0m",
      "\u001b[1;31mAssertionError\u001b[0m                            Traceback (most recent call last)",
      "Cell \u001b[1;32mIn[60], line 1\u001b[0m\n\u001b[1;32m----> 1\u001b[0m \u001b[38;5;28;01massert\u001b[39;00m \u001b[38;5;28mlen\u001b[39m(liste) \u001b[38;5;241m==\u001b[39m \u001b[38;5;241m2\u001b[39m, \u001b[38;5;124m\"\u001b[39m\u001b[38;5;124meleman sayısı 2 olmalı\u001b[39m\u001b[38;5;124m\"\u001b[39m\n",
      "\u001b[1;31mAssertionError\u001b[0m: eleman sayısı 2 olmalı"
     ]
    }
   ],
   "source": [
    "assert len(liste) == 2, \"eleman sayısı 2 olmalı\""
   ]
  },
  {
   "cell_type": "code",
   "execution_count": 62,
   "metadata": {},
   "outputs": [
    {
     "data": {
      "text/plain": [
       "'12345'"
      ]
     },
     "execution_count": 62,
     "metadata": {},
     "output_type": "execute_result"
    }
   ],
   "source": [
    "sifre = input(\"şifre oluşturun. şifreniz en az 6 karakterden oluşmalıdır\")\n",
    "sifre"
   ]
  },
  {
   "cell_type": "code",
   "execution_count": 63,
   "metadata": {},
   "outputs": [
    {
     "ename": "AssertionError",
     "evalue": "Sireniz 6 veya 6 dan fazka karakterden olmalı",
     "output_type": "error",
     "traceback": [
      "\u001b[1;31m---------------------------------------------------------------------------\u001b[0m",
      "\u001b[1;31mAssertionError\u001b[0m                            Traceback (most recent call last)",
      "Cell \u001b[1;32mIn[63], line 2\u001b[0m\n\u001b[0;32m      1\u001b[0m sifre \u001b[38;5;241m=\u001b[39m \u001b[38;5;28minput\u001b[39m(\u001b[38;5;124m\"\u001b[39m\u001b[38;5;124mşifre oluşturun. şifreniz en az 6 karakterden oluşmalıdır\u001b[39m\u001b[38;5;124m\"\u001b[39m)\n\u001b[1;32m----> 2\u001b[0m \u001b[38;5;28;01massert\u001b[39;00m \u001b[38;5;28mlen\u001b[39m(sifre) \u001b[38;5;241m>\u001b[39m\u001b[38;5;241m=\u001b[39m \u001b[38;5;241m6\u001b[39m, \u001b[38;5;124m\"\u001b[39m\u001b[38;5;124mSireniz 6 veya 6 dan fazka karakterden olmalı\u001b[39m\u001b[38;5;124m\"\u001b[39m\n",
      "\u001b[1;31mAssertionError\u001b[0m: Sireniz 6 veya 6 dan fazka karakterden olmalı"
     ]
    }
   ],
   "source": [
    "sifre = input(\"şifre oluşturun. şifreniz en az 6 karakterden oluşmalıdır\")\n",
    "assert len(sifre) >= 6, \"Sireniz 6 veya 6 dan fazla karakterden oluşmalı\""
   ]
  },
  {
   "cell_type": "code",
   "execution_count": 64,
   "metadata": {},
   "outputs": [],
   "source": [
    "def kayıt(kullanıcı_adı, yaş):\n",
    "\n",
    "    assert isinstance(kullanıcı_adı, str) and kullanıcı_adı, \"Geçerli bir kullanıcı adı girin\"\n",
    "    assert isinstance(yaş, int ) and yaş >= 0, \"Geçerli bir yaş girmediniz\"\n",
    "\n",
    "    print( f\"kullanııc adı: {kullanıcı_adı}, yaş:{yaş}\")"
   ]
  },
  {
   "cell_type": "code",
   "execution_count": 65,
   "metadata": {},
   "outputs": [
    {
     "name": "stdout",
     "output_type": "stream",
     "text": [
      "kullanııc adı: sedat, yaş:32\n"
     ]
    }
   ],
   "source": [
    "kayıt(\"sedat\", 32)"
   ]
  },
  {
   "cell_type": "code",
   "execution_count": 66,
   "metadata": {},
   "outputs": [
    {
     "ename": "AssertionError",
     "evalue": "Geçerli bir yaş girmediniz",
     "output_type": "error",
     "traceback": [
      "\u001b[1;31m---------------------------------------------------------------------------\u001b[0m",
      "\u001b[1;31mAssertionError\u001b[0m                            Traceback (most recent call last)",
      "Cell \u001b[1;32mIn[66], line 1\u001b[0m\n\u001b[1;32m----> 1\u001b[0m \u001b[43mkayıt\u001b[49m\u001b[43m(\u001b[49m\u001b[43m \u001b[49m\u001b[38;5;124;43m\"\u001b[39;49m\u001b[38;5;124;43msedat\u001b[39;49m\u001b[38;5;124;43m\"\u001b[39;49m\u001b[43m,\u001b[49m\u001b[43m \u001b[49m\u001b[38;5;124;43m\"\u001b[39;49m\u001b[38;5;124;43motuz iki\u001b[39;49m\u001b[38;5;124;43m\"\u001b[39;49m\u001b[43m)\u001b[49m\n",
      "Cell \u001b[1;32mIn[64], line 4\u001b[0m, in \u001b[0;36mkayıt\u001b[1;34m(kullanıcı_adı, yaş)\u001b[0m\n\u001b[0;32m      1\u001b[0m \u001b[38;5;28;01mdef\u001b[39;00m \u001b[38;5;21mkayıt\u001b[39m(kullanıcı_adı, yaş):\n\u001b[0;32m      3\u001b[0m     \u001b[38;5;28;01massert\u001b[39;00m \u001b[38;5;28misinstance\u001b[39m(kullanıcı_adı, \u001b[38;5;28mstr\u001b[39m) \u001b[38;5;129;01mand\u001b[39;00m kullanıcı_adı, \u001b[38;5;124m\"\u001b[39m\u001b[38;5;124mGeçerli bir kullanıcı adı girin\u001b[39m\u001b[38;5;124m\"\u001b[39m\n\u001b[1;32m----> 4\u001b[0m     \u001b[38;5;28;01massert\u001b[39;00m \u001b[38;5;28misinstance\u001b[39m(yaş, \u001b[38;5;28mint\u001b[39m ) \u001b[38;5;129;01mand\u001b[39;00m yaş \u001b[38;5;241m>\u001b[39m\u001b[38;5;241m=\u001b[39m \u001b[38;5;241m0\u001b[39m, \u001b[38;5;124m\"\u001b[39m\u001b[38;5;124mGeçerli bir yaş girmediniz\u001b[39m\u001b[38;5;124m\"\u001b[39m\n\u001b[0;32m      6\u001b[0m     \u001b[38;5;28mprint\u001b[39m( \u001b[38;5;124mf\u001b[39m\u001b[38;5;124m\"\u001b[39m\u001b[38;5;124mkullanııc adı: \u001b[39m\u001b[38;5;132;01m{\u001b[39;00mkullanıcı_adı\u001b[38;5;132;01m}\u001b[39;00m\u001b[38;5;124m, yaş:\u001b[39m\u001b[38;5;132;01m{\u001b[39;00myaş\u001b[38;5;132;01m}\u001b[39;00m\u001b[38;5;124m\"\u001b[39m)\n",
      "\u001b[1;31mAssertionError\u001b[0m: Geçerli bir yaş girmediniz"
     ]
    }
   ],
   "source": [
    "kayıt( \"sedat\", \"otuz iki\")"
   ]
  },
  {
   "cell_type": "code",
   "execution_count": 70,
   "metadata": {},
   "outputs": [],
   "source": [
    "def factoriyel(sayı):\n",
    "\n",
    "    if sayı == 1 or sayı == 0:\n",
    "        return 1\n",
    "    \n",
    "    return sayı * factoriyel(sayı - 1)"
   ]
  },
  {
   "cell_type": "code",
   "execution_count": 71,
   "metadata": {},
   "outputs": [
    {
     "data": {
      "text/plain": [
       "1"
      ]
     },
     "execution_count": 71,
     "metadata": {},
     "output_type": "execute_result"
    }
   ],
   "source": [
    "factoriyel(0)"
   ]
  },
  {
   "cell_type": "code",
   "execution_count": 72,
   "metadata": {},
   "outputs": [
    {
     "ename": "RecursionError",
     "evalue": "maximum recursion depth exceeded in comparison",
     "output_type": "error",
     "traceback": [
      "\u001b[1;31m---------------------------------------------------------------------------\u001b[0m",
      "\u001b[1;31mRecursionError\u001b[0m                            Traceback (most recent call last)",
      "Cell \u001b[1;32mIn[72], line 1\u001b[0m\n\u001b[1;32m----> 1\u001b[0m \u001b[43mfactoriyel\u001b[49m\u001b[43m(\u001b[49m\u001b[38;5;241;43m-\u001b[39;49m\u001b[38;5;241;43m2\u001b[39;49m\u001b[43m)\u001b[49m\n",
      "Cell \u001b[1;32mIn[70], line 6\u001b[0m, in \u001b[0;36mfactoriyel\u001b[1;34m(sayı)\u001b[0m\n\u001b[0;32m      3\u001b[0m \u001b[38;5;28;01mif\u001b[39;00m sayı \u001b[38;5;241m==\u001b[39m \u001b[38;5;241m1\u001b[39m \u001b[38;5;129;01mor\u001b[39;00m sayı \u001b[38;5;241m==\u001b[39m \u001b[38;5;241m0\u001b[39m:\n\u001b[0;32m      4\u001b[0m     \u001b[38;5;28;01mreturn\u001b[39;00m \u001b[38;5;241m1\u001b[39m\n\u001b[1;32m----> 6\u001b[0m \u001b[38;5;28;01mreturn\u001b[39;00m sayı \u001b[38;5;241m*\u001b[39m \u001b[43mfactoriyel\u001b[49m\u001b[43m(\u001b[49m\u001b[43msayı\u001b[49m\u001b[43m \u001b[49m\u001b[38;5;241;43m-\u001b[39;49m\u001b[43m \u001b[49m\u001b[38;5;241;43m1\u001b[39;49m\u001b[43m)\u001b[49m\n",
      "Cell \u001b[1;32mIn[70], line 6\u001b[0m, in \u001b[0;36mfactoriyel\u001b[1;34m(sayı)\u001b[0m\n\u001b[0;32m      3\u001b[0m \u001b[38;5;28;01mif\u001b[39;00m sayı \u001b[38;5;241m==\u001b[39m \u001b[38;5;241m1\u001b[39m \u001b[38;5;129;01mor\u001b[39;00m sayı \u001b[38;5;241m==\u001b[39m \u001b[38;5;241m0\u001b[39m:\n\u001b[0;32m      4\u001b[0m     \u001b[38;5;28;01mreturn\u001b[39;00m \u001b[38;5;241m1\u001b[39m\n\u001b[1;32m----> 6\u001b[0m \u001b[38;5;28;01mreturn\u001b[39;00m sayı \u001b[38;5;241m*\u001b[39m \u001b[43mfactoriyel\u001b[49m\u001b[43m(\u001b[49m\u001b[43msayı\u001b[49m\u001b[43m \u001b[49m\u001b[38;5;241;43m-\u001b[39;49m\u001b[43m \u001b[49m\u001b[38;5;241;43m1\u001b[39;49m\u001b[43m)\u001b[49m\n",
      "    \u001b[1;31m[... skipping similar frames: factoriyel at line 6 (2969 times)]\u001b[0m\n",
      "Cell \u001b[1;32mIn[70], line 6\u001b[0m, in \u001b[0;36mfactoriyel\u001b[1;34m(sayı)\u001b[0m\n\u001b[0;32m      3\u001b[0m \u001b[38;5;28;01mif\u001b[39;00m sayı \u001b[38;5;241m==\u001b[39m \u001b[38;5;241m1\u001b[39m \u001b[38;5;129;01mor\u001b[39;00m sayı \u001b[38;5;241m==\u001b[39m \u001b[38;5;241m0\u001b[39m:\n\u001b[0;32m      4\u001b[0m     \u001b[38;5;28;01mreturn\u001b[39;00m \u001b[38;5;241m1\u001b[39m\n\u001b[1;32m----> 6\u001b[0m \u001b[38;5;28;01mreturn\u001b[39;00m sayı \u001b[38;5;241m*\u001b[39m \u001b[43mfactoriyel\u001b[49m\u001b[43m(\u001b[49m\u001b[43msayı\u001b[49m\u001b[43m \u001b[49m\u001b[38;5;241;43m-\u001b[39;49m\u001b[43m \u001b[49m\u001b[38;5;241;43m1\u001b[39;49m\u001b[43m)\u001b[49m\n",
      "Cell \u001b[1;32mIn[70], line 3\u001b[0m, in \u001b[0;36mfactoriyel\u001b[1;34m(sayı)\u001b[0m\n\u001b[0;32m      1\u001b[0m \u001b[38;5;28;01mdef\u001b[39;00m \u001b[38;5;21mfactoriyel\u001b[39m(sayı):\n\u001b[1;32m----> 3\u001b[0m     \u001b[38;5;28;01mif\u001b[39;00m \u001b[43msayı\u001b[49m\u001b[43m \u001b[49m\u001b[38;5;241;43m==\u001b[39;49m\u001b[43m \u001b[49m\u001b[38;5;241;43m1\u001b[39;49m \u001b[38;5;129;01mor\u001b[39;00m sayı \u001b[38;5;241m==\u001b[39m \u001b[38;5;241m0\u001b[39m:\n\u001b[0;32m      4\u001b[0m         \u001b[38;5;28;01mreturn\u001b[39;00m \u001b[38;5;241m1\u001b[39m\n\u001b[0;32m      6\u001b[0m     \u001b[38;5;28;01mreturn\u001b[39;00m sayı \u001b[38;5;241m*\u001b[39m factoriyel(sayı \u001b[38;5;241m-\u001b[39m \u001b[38;5;241m1\u001b[39m)\n",
      "\u001b[1;31mRecursionError\u001b[0m: maximum recursion depth exceeded in comparison"
     ]
    }
   ],
   "source": [
    "factoriyel(-2)"
   ]
  },
  {
   "cell_type": "code",
   "execution_count": 77,
   "metadata": {},
   "outputs": [],
   "source": [
    "def factoriyel(sayı):\n",
    "\n",
    "    assert sayı >= 0, \"Faktöriyel işleminde sayı negatif olmamalıdır\"\n",
    "\n",
    "    if sayı == 1 or sayı == 0:\n",
    "        return 1\n",
    "    \n",
    "    return sayı * factoriyel(sayı - 1)"
   ]
  },
  {
   "cell_type": "code",
   "execution_count": 74,
   "metadata": {},
   "outputs": [
    {
     "data": {
      "text/plain": [
       "120"
      ]
     },
     "execution_count": 74,
     "metadata": {},
     "output_type": "execute_result"
    }
   ],
   "source": [
    "factoriyel(5)"
   ]
  },
  {
   "cell_type": "code",
   "execution_count": 78,
   "metadata": {},
   "outputs": [
    {
     "ename": "AssertionError",
     "evalue": "Faktöriyel işleminde sayı negatif olmamalıdır",
     "output_type": "error",
     "traceback": [
      "\u001b[1;31m---------------------------------------------------------------------------\u001b[0m",
      "\u001b[1;31mAssertionError\u001b[0m                            Traceback (most recent call last)",
      "Cell \u001b[1;32mIn[78], line 1\u001b[0m\n\u001b[1;32m----> 1\u001b[0m \u001b[43mfactoriyel\u001b[49m\u001b[43m(\u001b[49m\u001b[38;5;241;43m-\u001b[39;49m\u001b[38;5;241;43m2\u001b[39;49m\u001b[43m)\u001b[49m\n",
      "Cell \u001b[1;32mIn[77], line 3\u001b[0m, in \u001b[0;36mfactoriyel\u001b[1;34m(sayı)\u001b[0m\n\u001b[0;32m      1\u001b[0m \u001b[38;5;28;01mdef\u001b[39;00m \u001b[38;5;21mfactoriyel\u001b[39m(sayı):\n\u001b[1;32m----> 3\u001b[0m     \u001b[38;5;28;01massert\u001b[39;00m sayı \u001b[38;5;241m>\u001b[39m\u001b[38;5;241m=\u001b[39m \u001b[38;5;241m0\u001b[39m, \u001b[38;5;124m\"\u001b[39m\u001b[38;5;124mFaktöriyel işleminde sayı negatif olmamalıdır\u001b[39m\u001b[38;5;124m\"\u001b[39m\n\u001b[0;32m      5\u001b[0m     \u001b[38;5;28;01mif\u001b[39;00m sayı \u001b[38;5;241m==\u001b[39m \u001b[38;5;241m1\u001b[39m \u001b[38;5;129;01mor\u001b[39;00m sayı \u001b[38;5;241m==\u001b[39m \u001b[38;5;241m0\u001b[39m:\n\u001b[0;32m      6\u001b[0m         \u001b[38;5;28;01mreturn\u001b[39;00m \u001b[38;5;241m1\u001b[39m\n",
      "\u001b[1;31mAssertionError\u001b[0m: Faktöriyel işleminde sayı negatif olmamalıdır"
     ]
    }
   ],
   "source": [
    "factoriyel(-2)"
   ]
  },
  {
   "cell_type": "code",
   "execution_count": null,
   "metadata": {},
   "outputs": [],
   "source": []
  }
 ],
 "metadata": {
  "hide_input": false,
  "kernelspec": {
   "display_name": "Python 3 (ipykernel)",
   "language": "python",
   "name": "python3"
  },
  "language_info": {
   "codemirror_mode": {
    "name": "ipython",
    "version": 3
   },
   "file_extension": ".py",
   "mimetype": "text/x-python",
   "name": "python",
   "nbconvert_exporter": "python",
   "pygments_lexer": "ipython3",
   "version": "3.12.3"
  },
  "toc": {
   "base_numbering": 1,
   "nav_menu": {},
   "number_sections": true,
   "sideBar": true,
   "skip_h1_title": false,
   "title_cell": "Table of Contents",
   "title_sidebar": "Contents",
   "toc_cell": false,
   "toc_position": {
    "height": "calc(100% - 180px)",
    "left": "10px",
    "top": "150px",
    "width": "259.631px"
   },
   "toc_section_display": true,
   "toc_window_display": true
  },
  "varInspector": {
   "cols": {
    "lenName": 16,
    "lenType": 16,
    "lenVar": 40
   },
   "kernels_config": {
    "python": {
     "delete_cmd_postfix": "",
     "delete_cmd_prefix": "del ",
     "library": "var_list.py",
     "varRefreshCmd": "print(var_dic_list())"
    },
    "r": {
     "delete_cmd_postfix": ") ",
     "delete_cmd_prefix": "rm(",
     "library": "var_list.r",
     "varRefreshCmd": "cat(var_dic_list()) "
    }
   },
   "types_to_exclude": [
    "module",
    "function",
    "builtin_function_or_method",
    "instance",
    "_Feature"
   ],
   "window_display": false
  }
 },
 "nbformat": 4,
 "nbformat_minor": 2
}
