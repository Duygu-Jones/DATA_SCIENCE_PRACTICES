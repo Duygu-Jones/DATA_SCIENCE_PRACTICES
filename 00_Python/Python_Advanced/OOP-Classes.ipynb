{
 "cells": [
  {
   "cell_type": "markdown",
   "metadata": {
    "heading_collapsed": true
   },
   "source": [
    "## OOP"
   ]
  },
  {
   "cell_type": "markdown",
   "metadata": {
    "hidden": true
   },
   "source": [
    "Python'da **Nesne Yönelimli Programlama (Object-Oriented Programming, OOP)**, yazılım geliştirmede kullanılan bir paradigma olup, programların **nesneler** (objects) etrafında tasarlandığı ve bu nesnelerin, veriler (özellikler) ve bu verilere uygulanan işlevler (metotlar) içerebildiği bir yaklaşımdır. Bu yaklaşım, programların daha modüler, okunabilir ve yeniden kullanılabilir olmasını sağlar. Veri bilimi projelerinde karmaşık modeller ve algoritmalar oluştururken OOP'nin kullanımı oldukça yaygındır.\n",
    "\n",
    "**OOP Kavramları ve Temel Kavramlar:**\n",
    "\n",
    "1. **Class (Sınıf)**: Sınıf, nesnelerin özelliklerini ve davranışlarını tanımlayan bir yapı taşır. Sınıf, nesnelerin bir şablonu olarak düşünülebilir. \n",
    "   \n",
    "2. **Object (Nesne)**: Sınıftan türetilmiş somut bir örnektir. Nesne, sınıfın belirlediği özellik ve metotlara sahiptir.\n",
    "\n",
    "3. **Attributes (Özellikler)**: Nesnelerin verilerini temsil eden değişkenlerdir. Bir nesneye özgü bilgileri içerir.\n",
    "\n",
    "4. **Methods (Metotlar)**: Nesnelerin işlevlerini tanımlayan fonksiyonlardır. Nesneler üzerindeki davranışları temsil ederler.\n",
    "\n",
    "5. **Encapsulation (Kapsülleme)**: Verilerin ve metotların dışarıdan erişimini sınırlayan bir mekanizmadır. Bir sınıfın içindeki verilerin doğrudan erişilmesini engelleyerek daha güvenli bir yapı sağlar.\n",
    "\n",
    "6. **Inheritance (Kalıtım)**: Bir sınıfın başka bir sınıftan özellik ve metotları miras almasıdır. Bu sayede kod tekrarını azaltmak ve mevcut sınıfları genişletmek mümkündür.\n",
    "\n",
    "7. **Polymorphism (Çok Biçimlilik)**: Aynı metot adının farklı sınıflarda farklı davranışlar sergilemesidir. Bu, aynı işlemin farklı nesnelerde farklı şekilde uygulanmasını sağlar.\n",
    "\n",
    "8. **Abstraction (Soyutlama)**: Gereksiz detayları gizleyerek, önemli bilgilere odaklanma prensibidir. Sadece gerekli özelliklerin ortaya çıkmasını sağlar.\n",
    "\n",
    "---\n",
    "\n",
    "1. **Sınıf (Class) ve Nesne (Object)**\n",
    "\n",
    "Sınıf, bir nesnenin taslağını belirler. Bu sınıftan yaratılan her nesne, aynı özellikleri ve metotları kullanabilir.\n",
    "\n",
    "Örnek:\n",
    "```python\n",
    "# Basit bir sınıf tanımı\n",
    "class Dog:\n",
    "    # Nesneye ait özellikleri tanımlayan yapıcı metot\n",
    "    def __init__(self, name, age):\n",
    "        self.name = name  # Nesne özelliği (attribute)\n",
    "        self.age = age    # Nesne özelliği (attribute)\n",
    "    \n",
    "    # Nesneye ait bir metot\n",
    "    def bark(self):\n",
    "        print(f\"{self.name} is barking!\")\n",
    "\n",
    "# Dog sınıfından bir nesne oluşturma\n",
    "my_dog = Dog(\"Buddy\", 3)\n",
    "\n",
    "# Nesnenin özelliklerine erişim\n",
    "print(f\"My dog's name is {my_dog.name} and it is {my_dog.age} years old.\")\n",
    "\n",
    "# Nesnenin bir metodunu çağırma\n",
    "my_dog.bark()\n",
    "```\n",
    "\n",
    "**Kullanım Alanı**: Veri bilimi projelerinde sınıflar genellikle veri işleme ve modelleme için araçlar tanımlamak için kullanılır. Örneğin, bir modelin parametrelerini ve işlevlerini bir sınıf içinde tanımlamak, kodun daha düzenli ve sürdürülebilir olmasını sağlar.\n",
    "\n",
    "---\n",
    "\n",
    "2. **Kapsülleme (Encapsulation)**\n",
    "Kapsülleme, verilerin dış dünyadan korunmasını sağlar. Genellikle, özelliklere doğrudan erişimi sınırlamak için kullanılır ve sadece belirli metotlar aracılığıyla bu verilere ulaşılmasına izin verir.\n",
    "\n",
    " Örnek:\n",
    "```python\n",
    "class Car:\n",
    "    def __init__(self, brand, model):\n",
    "        self.__brand = brand  # Özelliği özel (private) yapmak için iki alt çizgi kullanılır\n",
    "        self.model = model\n",
    "\n",
    "    def get_brand(self):\n",
    "        return self.__brand  # Özel özelliğe erişim metot ile yapılır\n",
    "\n",
    "    def set_brand(self, brand):\n",
    "        self.__brand = brand  # Özel özellik güncellenebilir\n",
    "    \n",
    "# Car sınıfından bir nesne\n",
    "my_car = Car(\"Tesla\", \"Model S\")\n",
    "\n",
    "# Özel özelliğe doğrudan erişilemez\n",
    "# print(my_car.__brand)  # Bu hata verir\n",
    "\n",
    "# Özel özelliğe metot ile erişim\n",
    "print(my_car.get_brand())\n",
    "```\n",
    "\n",
    "**Kullanım Alanı**: Veri bilimi projelerinde, veri manipülasyonunun kontrollü bir şekilde yapılması önemlidir. Kapsülleme sayesinde, verilerin dışarıdan doğrudan değiştirilmesi önlenebilir, böylece veri tutarlılığı korunur.\n",
    "\n",
    "---\n",
    "\n",
    "3. **Kalıtım (Inheritance)**\n",
    "\n",
    "Kalıtım, bir sınıfın başka bir sınıftan özellik ve metotları miras almasını sağlar. Bu, kodun yeniden kullanılabilirliğini ve genişletilebilirliğini artırır.\n",
    "\n",
    " Örnek:\n",
    "```python\n",
    "# Ana sınıf\n",
    "class Animal:\n",
    "    def __init__(self, name):\n",
    "        self.name = name\n",
    "\n",
    "    def speak(self):\n",
    "        print(f\"{self.name} is making a sound.\")\n",
    "\n",
    "# Alt sınıf, Animal sınıfından miras alır\n",
    "class Dog(Animal):\n",
    "    def speak(self):\n",
    "        print(f\"{self.name} is barking.\")\n",
    "\n",
    "# Alt sınıf, Animal sınıfının özelliklerini alır\n",
    "dog = Dog(\"Buddy\")\n",
    "dog.speak()\n",
    "```\n",
    "\n",
    "**Kullanım Alanı**: Veri bilimi projelerinde, farklı veri işlemleri veya model türleri için temel bir sınıf oluşturulabilir ve bu sınıf, çeşitli veri modellerini uygulamak için genişletilebilir.\n",
    "\n",
    "---\n",
    "\n",
    " 4. **Polimorfizm (Polymorphism)**\n",
    " \n",
    "Polimorfizm, farklı nesnelerin aynı metoda sahip olmalarına rağmen farklı davranışlar sergilemelerini sağlar.\n",
    "\n",
    " Örnek:\n",
    "```python\n",
    "class Cat(Animal):\n",
    "    def speak(self):\n",
    "        print(f\"{self.name} is meowing.\")\n",
    "\n",
    "# Polimorfizm kullanarak birden fazla nesneyi aynı metotla çağırma\n",
    "animals = [Dog(\"Buddy\"), Cat(\"Whiskers\")]\n",
    "\n",
    "for animal in animals:\n",
    "    animal.speak()  # Her biri kendi speak() metodunu çağırır\n",
    "```\n",
    "\n",
    "**Kullanım Alanı**: Veri bilimi projelerinde, aynı işlemi farklı veri modellerine uygulamak gerektiğinde polimorfizm kullanılarak esneklik sağlanabilir.\n",
    "\n",
    "---\n",
    "\n",
    "5. **Soyutlama (Abstraction)**\n",
    "\n",
    "Soyutlama, gereksiz detayları gizleyerek önemli bilgilere odaklanmayı sağlar. Soyut sınıflar, doğrudan örneklenemez ve genellikle diğer sınıflar tarafından miras alınır.\n",
    "\n",
    " Örnek:\n",
    "```python\n",
    "from abc import ABC, abstractmethod\n",
    "\n",
    "# Soyut sınıf\n",
    "class Shape(ABC):\n",
    "    @abstractmethod\n",
    "    def area(self):\n",
    "        pass\n",
    "\n",
    "# Alt sınıf, soyut sınıfın metodunu implement eder\n",
    "class Rectangle(Shape):\n",
    "    def __init__(self, width, height):\n",
    "        self.width = width\n",
    "        self.height = height\n",
    "\n",
    "    def area(self):\n",
    "        return self.width * self.height\n",
    "\n",
    "# Rectangle sınıfından nesne oluşturma\n",
    "rect = Rectangle(10, 20)\n",
    "print(\"Rectangle Area:\", rect.area())\n",
    "```\n",
    "\n",
    "**Kullanım Alanı**: Veri bilimi projelerinde, soyutlama veri işleme işlemlerini genel bir yapıya oturtarak, daha soyut ve modüler bir veri işleme altyapısı sağlar.\n",
    "\n",
    "---\n",
    "\n",
    "**OOP'nin Veri Biliminde Kullanımı:**\n",
    "\n",
    "Veri bilimi projelerinde OOP, büyük veri setlerini işleme, algoritma uygulama ve modelleme süreçlerini organize etmek için kullanılır. İşte birkaç kullanım senaryosu:\n",
    "\n",
    "1. **Veri Modelleme**: Farklı veri kaynakları ve veri türleri için sınıflar oluşturularak, bu verilerin işlenmesi ve analiz edilmesi düzenlenebilir.\n",
    "   \n",
    "2. **Makine Öğrenimi Modelleri**: Makine öğrenimi algoritmalarını sınıflar halinde tanımlamak ve birden fazla modeli bir yapı içinde yönetmek için OOP kullanılabilir.\n",
    "\n",
    "3. **Yeniden Kullanılabilir Kod**: Veri ön işleme ve analiz adımlarını sınıflar olarak tanımlamak, farklı projelerde yeniden kullanılabilirliği artırır.\n",
    "\n",
    "---\n",
    "\n",
    "Sonuç:\n",
    "\n",
    "**Nesne Yönelimli Programlama (OOP)**, veri bilimi projelerinde yapılandırılmış, modüler ve esnek bir kod yapısı oluşturmayı sağlar. Sınıflar ve nesneler sayesinde veri işleme ve modelleme süreçleri daha okunabilir ve yeniden kullanılabilir hale getirilir. OOP, özellikle büyük projelerde kodun yönetimini kolaylaştırarak veri bilimi süreçlerini daha düzenli ve verimli hale getirir."
   ]
  },
  {
   "cell_type": "markdown",
   "metadata": {},
   "source": [
    "## Class"
   ]
  },
  {
   "cell_type": "markdown",
   "metadata": {},
   "source": [
    "Python'da **Class** yapısı, Object-Oriented Programming (OOP) ile programlama yaparken kullanılır ve nesneler oluşturmak için bir şablon sağlar. Bu yapılar sayesinde kod daha modüler, düzenli ve yeniden kullanılabilir hale gelir. Şimdi Python'da Class yapısını ve ilişkili kavramları detaylı bir şekilde açıklayalım.\n",
    "\n",
    "### 1. **Class ve Object**\n",
    "\n",
    "- **Class**: Bir şablondur. İçerisinde **attributes** (nesne özellikleri) ve **methods** (nesneye ait işlevler) tanımlanır.\n",
    "- **Object**: Bir **Class**'tan türetilen somut bir örnektir. Her **Object**, **Class**'ta tanımlanan attributes ve methods'lara sahiptir.\n",
    "\n",
    " Örnek:\n",
    "```python\n",
    "class Person:\n",
    "    def __init__(self, name, age):  # Constructor (yapıcı) metodu\n",
    "        self.name = name  # Attribute (özellik)\n",
    "        self.age = age    # Attribute (özellik)\n",
    "    \n",
    "    def greet(self):  # Method (metot)\n",
    "        return f\"Hello, my name is {self.name}.\"\n",
    "\n",
    "# Object oluşturma\n",
    "person1 = Person(\"John\", 30)\n",
    "print(person1.greet())  # Çıktı: Hello, my name is John.\n",
    "```\n",
    "\n",
    "### 2. **Attributes (Özellikler)**\n",
    "**Attributes**, bir nesnenin sahip olduğu verilerdir. **Class**'ın yapıcı metodu olan `__init__()` ile tanımlanır ve her nesne (object) kendi attributes'larına sahip olur.\n",
    "\n",
    " Örnek:\n",
    "```python\n",
    "class Car:\n",
    "    def __init__(self, brand, model, year):\n",
    "        self.brand = brand\n",
    "        self.model = model\n",
    "        self.year = year\n",
    "\n",
    "# Object oluşturma\n",
    "car1 = Car(\"Toyota\", \"Corolla\", 2021)\n",
    "print(car1.brand)  # Çıktı: Toyota\n",
    "```\n",
    "\n",
    "### 3. **Methods (Metotlar)**\n",
    "**Methods**, **Class**'ın içinde tanımlanan işlevlerdir. Nesneler üzerindeki işlemleri yapmak için kullanılır ve genellikle nesneye ait **attributes**'larla etkileşime girer.\n",
    "\n",
    " Örnek:\n",
    "```python\n",
    "class Person:\n",
    "    def __init__(self, name, age):\n",
    "        self.name = name\n",
    "        self.age = age\n",
    "    \n",
    "    def greet(self):\n",
    "        return f\"Hello, {self.name}! You are {self.age} years old.\"\n",
    "\n",
    "# Object oluşturma\n",
    "person1 = Person(\"Alice\", 28)\n",
    "print(person1.greet())  # Çıktı: Hello, Alice! You are 28 years old.\n",
    "```\n",
    "\n",
    "### 4. **Constructor (Yapıcı Metot)**\n",
    "Python'da `__init__()` metodu, bir **Class**'tan yeni bir **Object** oluşturulurken otomatik olarak çağrılan bir yapıcı (constructor) metottur. Bu metot, nesnenin başlangıç değerlerini belirlemek için kullanılır.\n",
    "\n",
    " Örnek:\n",
    "```python\n",
    "class Student:\n",
    "    def __init__(self, name, grade):\n",
    "        self.name = name\n",
    "        self.grade = grade\n",
    "\n",
    "# Object oluşturma\n",
    "student1 = Student(\"Bob\", \"A\")\n",
    "print(student1.name)  # Çıktı: Bob\n",
    "print(student1.grade)  # Çıktı: A\n",
    "```\n",
    "\n",
    "### 5. **Encapsulation (Kapsülleme)**\n",
    "Encapsulation, bir nesnenin iç durumunu gizlemek ve yalnızca belirli metotlar aracılığıyla bu verilere erişim sağlamak anlamına gelir. Python'da attributes'ları gizlemek için `__` (iki alt çizgi) kullanılır. Bu sayede, o attribute'a dışarıdan doğrudan erişim engellenir.\n",
    "\n",
    " Örnek:\n",
    "```python\n",
    "class BankAccount:\n",
    "    def __init__(self, balance):\n",
    "        self.__balance = balance  # Private attribute\n",
    "\n",
    "    def get_balance(self):\n",
    "        return self.__balance  # Balance'ı sadece bu metotla görebiliriz\n",
    "\n",
    "# Object oluşturma\n",
    "account = BankAccount(1000)\n",
    "print(account.get_balance())  # Çıktı: 1000\n",
    "# print(account.balance)  # Bu hata verecektir çünkü __balance gizli\n",
    "```\n",
    "\n",
    "### 6. **Inheritance (Kalıtım)**\n",
    "Inheritance, bir **Class**'ın başka bir **Class**'tan attributes ve methods'ları miras alması anlamına gelir. Kalıtım, mevcut sınıfların genişletilmesi için kullanılır ve kod tekrarını azaltır.\n",
    "\n",
    " Örnek:\n",
    "```python\n",
    "class Animal:\n",
    "    def __init__(self, name):\n",
    "        self.name = name\n",
    "\n",
    "    def speak(self):\n",
    "        pass  # Boş bir metot, alt sınıflarda doldurulacak\n",
    "\n",
    "class Dog(Animal):  # Dog, Animal'dan miras alır\n",
    "    def speak(self):\n",
    "        return f\"{self.name} barks.\"\n",
    "\n",
    "class Cat(Animal):  # Cat, Animal'dan miras alır\n",
    "    def speak(self):\n",
    "        return f\"{self.name} meows.\"\n",
    "\n",
    "# Object oluşturma\n",
    "dog = Dog(\"Rex\")\n",
    "cat = Cat(\"Whiskers\")\n",
    "print(dog.speak())  # Çıktı: Rex barks.\n",
    "print(cat.speak())  # Çıktı: Whiskers meows.\n",
    "```\n",
    "\n",
    "### 7. **Polymorphism (Çok Biçimlilik)**\n",
    "Polymorphism, aynı isimdeki bir metotun farklı **Class**'larda farklı şekillerde davranması anlamına gelir. Yani aynı metot adı, farklı sınıflarda farklı işlevler görür.\n",
    "\n",
    " Örnek:\n",
    "```python\n",
    "class Animal:\n",
    "    def speak(self):\n",
    "        pass\n",
    "\n",
    "class Dog(Animal):\n",
    "    def speak(self):\n",
    "        return \"Bark\"\n",
    "\n",
    "class Cat(Animal):\n",
    "    def speak(self):\n",
    "        return \"Meow\"\n",
    "\n",
    "def animal_sound(animal):\n",
    "    print(animal.speak())\n",
    "\n",
    "dog = Dog()\n",
    "cat = Cat()\n",
    "animal_sound(dog)  # Çıktı: Bark\n",
    "animal_sound(cat)  # Çıktı: Meow\n",
    "```\n",
    "\n",
    "### 8. **Abstraction (Soyutlama)**\n",
    "Soyutlama, gereksiz detayları gizleyerek önemli olan verilere odaklanmayı sağlar. Python’da **abstract class**’lar (soyut sınıflar), doğrudan kullanılamayan ve sadece alt sınıflar tarafından genişletilen sınıflardır. **ABC (Abstract Base Class)** modülü ile yapılır.\n",
    "\n",
    " Örnek:\n",
    "```python\n",
    "from abc import ABC, abstractmethod\n",
    "\n",
    "class Shape(ABC):  # Soyut sınıf\n",
    "    @abstractmethod\n",
    "    def area(self):\n",
    "        pass\n",
    "\n",
    "class Rectangle(Shape):  # Rectangle, Shape'ten türetilir\n",
    "    def __init__(self, width, height):\n",
    "        self.width = width\n",
    "        self.height = height\n",
    "\n",
    "    def area(self):\n",
    "        return self.width * self.height\n",
    "\n",
    "# Object oluşturma\n",
    "rect = Rectangle(10, 20)\n",
    "print(rect.area())  # Çıktı: 200\n",
    "```\n",
    "\n",
    "### 9. **Method Overriding**\n",
    "Method Overriding, bir alt sınıfın (subclass), üst sınıfta (superclass) tanımlanmış bir metodu kendi ihtiyaçlarına göre yeniden tanımlamasıdır.\n",
    "\n",
    " Örnek:\n",
    "```python\n",
    "class Parent:\n",
    "    def speak(self):\n",
    "        return \"Hello from Parent\"\n",
    "\n",
    "class Child(Parent):\n",
    "    def speak(self):\n",
    "        return \"Hello from Child\"\n",
    "\n",
    "# Object oluşturma\n",
    "child = Child()\n",
    "print(child.speak())  # Çıktı: Hello from Child\n",
    "```\n",
    "\n",
    "### 10. **Class vs Instance Variables**\n",
    "**Class variables** tüm nesneler tarafından paylaşılan değişkenlerdir. **Instance variables** ise her nesneye özgüdür.\n",
    "\n",
    " Örnek:\n",
    "```python\n",
    "class Employee:\n",
    "    company = \"TechCorp\"  # Class variable\n",
    "\n",
    "    def __init__(self, name):\n",
    "        self.name = name  # Instance variable\n",
    "\n",
    "# Object oluşturma\n",
    "emp1 = Employee(\"Alice\")\n",
    "emp2 = Employee(\"Bob\")\n",
    "\n",
    "print(emp1.company)  # Çıktı: TechCorp\n",
    "print(emp2.name)  # Çıktı: Bob\n",
    "```\n",
    "\n",
    "Sonuç:\n",
    "\n",
    "Python'da **Class** yapıları, Object-Oriented Programming (OOP) prensiplerine dayanarak programların daha modüler, esnek ve yeniden kullanılabilir hale gelmesini sağlar. Sınıflar sayesinde kod daha organize ve sürdürülebilir hale gelir. Bu yapılar, büyük projelerde ve karmaşık sistemlerde oldukça faydalıdır.\n",
    "\n",
    "---\n",
    "\n",
    "### **super():**\n",
    "\n",
    "`super().__init__()` ifadesi, **Inheritance** (kalıtım) kullanılan bir Python sınıfında, alt sınıfın (subclass) üst sınıfın (superclass) **`__init__()`** metodunu çağırmasına olanak tanır. Bu, alt sınıfın üst sınıfta tanımlanan **attributes** ve **methods**'ları miras almasını ve kullanmasını sağlar. **super()** fonksiyonu, bir sınıfın üst sınıfının metotlarını çağırmak için kullanılır ve **Multiple Inheritance** (çoklu kalıtım) gibi durumlarda da doğru sıralama ile metotların çalışmasını garanti eder.\n",
    "\n",
    " İlgili Kavramlar:\n",
    " \n",
    " 1. **Inheritance (Kalıtım)**\n",
    " \n",
    "Inheritance, bir sınıfın başka bir sınıftan özellik ve davranışları devralmasıdır. Kalıtım sayesinde, kod tekrarından kaçınılır ve mevcut sınıfların genişletilmesi sağlanır.\n",
    "\n",
    " 2. **Constructor (Yapıcı Metot)**\n",
    "`__init__()` metodu, bir **Object** oluşturulurken otomatik olarak çağrılan yapıcı bir metottur. Bir sınıftan türetilen alt sınıf, kendi yapıcı metodunu tanımlayabilir ve **super()** kullanarak üst sınıfın yapıcı metodunu da çağırabilir.\n",
    "\n",
    " 3. **super()**\n",
    "**super()**, bir alt sınıfın, üst sınıfın **methods** ve **attributes**'larını kullanabilmesini sağlar. Özellikle, çoklu kalıtımda **Method Resolution Order (MRO)** denilen bir sıralama ile hangi sınıfın metodunun çağrılacağı belirlenir.\n",
    "\n",
    "#### `super().__init__()` Nasıl Çalışır?\n",
    " \n",
    "Bir alt sınıfın `__init__()` metodunda `super().__init__()` kullanıldığında, bu, önce üst sınıfın yapıcı metodunu çağırır, ardından alt sınıfın yapıcı metodu devam eder. Bu sayede, üst sınıfın **attributes**'ları ve **methods**'ları da alt sınıfa miras olarak geçer.\n",
    "\n",
    " Örnek:\n",
    "```python\n",
    "class Animal:\n",
    "    def __init__(self, name):\n",
    "        self.name = name\n",
    "        print(f\"{self.name} is an animal.\")\n",
    "\n",
    "class Dog(Animal):\n",
    "    def __init__(self, name, breed):\n",
    "        # Super class'ın __init__() metodunu çağır\n",
    "        super().__init__(name)\n",
    "        self.breed = breed\n",
    "        print(f\"{self.name} is a {self.breed} dog.\")\n",
    "\n",
    "# Object oluşturma\n",
    "dog1 = Dog(\"Buddy\", \"Golden Retriever\")\n",
    "```\n",
    "\n",
    "Çıktı:\n",
    "\n",
    "```\n",
    "Buddy is an animal.\n",
    "Buddy is a Golden Retriever dog.\n",
    "```\n",
    "\n",
    " Açıklama:\n",
    " \n",
    "- `Dog` sınıfı, `Animal` sınıfından kalıtım alıyor.\n",
    "- `Dog` sınıfının `__init__()` metodu, önce `super().__init__(name)` kullanarak **Animal** sınıfının `__init__()` metodunu çağırır. Bu, **Animal** sınıfında tanımlanan `name` özelliğini başlatır ve mesajı yazdırır.\n",
    "- Daha sonra, `Dog` sınıfının kendi `breed` özelliği eklenir ve bu sınıfa özgü bir mesaj yazdırılır.\n",
    "\n",
    " İlgili Kavramlar:\n",
    " \n",
    "1. **Method Overriding**: Alt sınıfın, üst sınıfın metodunu kendi ihtiyacına göre değiştirmesidir. `super()` kullanılarak hem üst sınıfın metodu çağrılır hem de alt sınıfa özgü işlemler yapılır.\n",
    "   \n",
    "2. **Multiple Inheritance**: Bir alt sınıf birden fazla üst sınıftan kalıtım alabilir. Bu durumda, **super()** hangi üst sınıfın metotlarının çağrılacağını **Method Resolution Order (MRO)**'ya göre belirler.\n",
    "\n",
    "#### `super()` ve Multiple Inheritance:\n",
    " \n",
    "Eğer bir sınıf birden fazla üst sınıftan kalıtım alıyorsa, **super()** hangi sınıfın metodunu çağıracağını **MRO** ile belirler. Bu sırayı görmek için `ClassName.mro()` kullanılır.\n",
    "\n",
    " Örnek:\n",
    " \n",
    "```python\n",
    "class A:\n",
    "    def __init__(self):\n",
    "        print(\"A's __init__\")\n",
    "\n",
    "class B(A):\n",
    "    def __init__(self):\n",
    "        super().__init__()\n",
    "        print(\"B's __init__\")\n",
    "\n",
    "class C(A):\n",
    "    def __init__(self):\n",
    "        super().__init__()\n",
    "        print(\"C's __init__\")\n",
    "\n",
    "class D(B, C):\n",
    "    def __init__(self):\n",
    "        super().__init__()\n",
    "        print(\"D's __init__\")\n",
    "\n",
    "# Object oluşturma\n",
    "d = D()\n",
    "\n",
    "# MRO sırasını kontrol etme\n",
    "print(D.mro())\n",
    "```\n",
    "\n",
    " Çıktı:\n",
    " \n",
    "```\n",
    "A's __init__\n",
    "C's __init__\n",
    "B's __init__\n",
    "D's __init__\n",
    "[<class '__main__.D'>, <class '__main__.B'>, <class '__main__.C'>, <class '__main__.A'>, <class 'object'>]\n",
    "```\n",
    "##### Aciklama:\n",
    "\n",
    "**`A` sınıfının `__init__()` metodunun tekrar yazdırılmamasının nedeni**, Python'un **MRO** sırasını takip ederek aynı sınıfın metodunun birden fazla kez çağrılmasını önlemesidir. Yani, **A** bir kez çağrıldığında, Python onu tekrar çağırmaz, bu da metotların tekrar tekrar çalışmasını önleyen verimli bir yapıdır.\n",
    "\n",
    "Bu sıralamanın sebebi, **Python'da çoklu kalıtım** yapısının **Method Resolution Order (MRO)** adı verilen bir kural ile düzenlenmesidir. MRO, çoklu kalıtım sırasında hangi sınıfın metodunun önce çağrılacağını belirler. Python'da MRO, **C3 linearization** algoritmasına dayanır. Bu algoritma, miras alınan sınıfların sıralanmasını etkili bir şekilde düzenler ve çatışmaları önler.\n",
    "\n",
    "MRO'da Python şu adımları izler:\n",
    "\n",
    "1. **Derinlik Öncelikli Arama**: Öncelikle alt sınıfın kendisinden başlar.\n",
    "2. **Sol Öncelikli Arama**: Üst sınıflar arasında soldan sağa doğru ilerler.\n",
    "\n",
    "\n",
    "#### Ornege gore MRO Nasıl Çalışır?\n",
    "\n",
    "1. **D sınıfı** önce kendi yapıcı metodunu çağırır ve `super().__init__()` ile üst sınıfları dolaşmaya başlar.\n",
    "2. **B sınıfı**, ilk sıradadır, bu yüzden önce **B'nin `__init__` metodu** çalışır. `super().__init__()` ile **A** sınıfı yerine önce **C** sınıfına gider.\n",
    "3. **C sınıfı**, `super().__init__()` ile en üstte olan **A** sınıfının `__init__()` metodunu çağırır.\n",
    "4. En üst sınıf olan **A**, hiyerarşide en üstte olduğu için ilk olarak onun `__init__()` metodu çalışır.\n",
    "5. Daha sonra sıra tekrar **C'nin `__init__()`** metoduna geri döner.\n",
    "6. Ardından **B'nin `__init__()`** metoduna geçilir.\n",
    "7. Son olarak **D'nin `__init__()`** metodu tamamlanır.\n",
    "\n",
    "\n",
    " Neden C önce çalışıyor?\n",
    " \n",
    "- **B ve C**, her ikisi de **A** sınıfından miras alıyor. Ancak, **D** sınıfı hem **B** hem de **C** sınıflarını miras alırken, Python soldan sağa doğru ilerlediği için ilk olarak **B**'yi, ardından **C**'yi ele alır.\n",
    "- **super()**, hiyerarşiyi izleyerek önce **C**'ye sonra **A**'ya gitmesine neden olur.\n",
    "  \n",
    "**Özet**: MRO'da **C**'nin `__init__()` metodunun **B**'den önce çağrılmasının sebebi, Python'un çoklu kalıtımda **sol öncelikli** ve **derinlik öncelikli** bir sıralama yapmasıdır. Bu yüzden **D -> B -> C -> A** sıralaması izlenir.\n",
    "\n",
    "#### Sonuç:\n",
    " \n",
    "- **`super().__init__()`**, bir alt sınıfın üst sınıfın yapıcı metodunu çağırmasını sağlar, böylece üst sınıfın özellik ve işlevlerini miras alır.\n",
    "- Bu, OOP'de **Inheritance** ve **Polymorphism**'in düzgün çalışması için önemli bir yapı taşıdır. Özellikle **Multiple Inheritance** senaryolarında, doğru metodun çağrılması için **MRO** sırası izlenir.\n"
   ]
  },
  {
   "cell_type": "code",
   "execution_count": 6,
   "metadata": {
    "ExecuteTime": {
     "end_time": "2024-09-08T19:21:19.013113Z",
     "start_time": "2024-09-08T19:21:19.008843Z"
    }
   },
   "outputs": [
    {
     "data": {
      "text/plain": [
       "array([11, 10,  9,  8,  7])"
      ]
     },
     "execution_count": 6,
     "metadata": {},
     "output_type": "execute_result"
    }
   ],
   "source": [
    "a=np.array([10,9,8,7,6]) \n",
    "\n",
    "a+1"
   ]
  },
  {
   "cell_type": "code",
   "execution_count": 2,
   "metadata": {},
   "outputs": [],
   "source": [
    "class Person:\n",
    "\n",
    "    def __init__(self,isim, yaş, meslek):\n",
    "\n",
    "        self.name = isim\n",
    "        self.age = yaş\n",
    "        self.job = meslek"
   ]
  },
  {
   "cell_type": "code",
   "execution_count": 3,
   "metadata": {},
   "outputs": [
    {
     "ename": "TypeError",
     "evalue": "Person.__init__() missing 3 required positional arguments: 'isim', 'yaş', and 'meslek'",
     "output_type": "error",
     "traceback": [
      "\u001b[1;31m---------------------------------------------------------------------------\u001b[0m",
      "\u001b[1;31mTypeError\u001b[0m                                 Traceback (most recent call last)",
      "Cell \u001b[1;32mIn[3], line 1\u001b[0m\n\u001b[1;32m----> 1\u001b[0m p1 \u001b[38;5;241m=\u001b[39m \u001b[43mPerson\u001b[49m\u001b[43m(\u001b[49m\u001b[43m)\u001b[49m\n",
      "\u001b[1;31mTypeError\u001b[0m: Person.__init__() missing 3 required positional arguments: 'isim', 'yaş', and 'meslek'"
     ]
    }
   ],
   "source": [
    "p1 = Person()"
   ]
  },
  {
   "cell_type": "code",
   "execution_count": 4,
   "metadata": {},
   "outputs": [],
   "source": [
    "p2 = Person(\"Yusuf\", 32, \"data_scientist\")"
   ]
  },
  {
   "cell_type": "code",
   "execution_count": 5,
   "metadata": {},
   "outputs": [
    {
     "data": {
      "text/plain": [
       "'Yusuf'"
      ]
     },
     "execution_count": 5,
     "metadata": {},
     "output_type": "execute_result"
    }
   ],
   "source": [
    "p2.name"
   ]
  },
  {
   "cell_type": "code",
   "execution_count": 6,
   "metadata": {},
   "outputs": [
    {
     "data": {
      "text/plain": [
       "32"
      ]
     },
     "execution_count": 6,
     "metadata": {},
     "output_type": "execute_result"
    }
   ],
   "source": [
    "p2.age"
   ]
  },
  {
   "cell_type": "code",
   "execution_count": 7,
   "metadata": {},
   "outputs": [
    {
     "data": {
      "text/plain": [
       "{'name': 'Yusuf', 'age': 32, 'job': 'data_scientist'}"
      ]
     },
     "execution_count": 7,
     "metadata": {},
     "output_type": "execute_result"
    }
   ],
   "source": [
    "p2.__dict__"
   ]
  },
  {
   "cell_type": "code",
   "execution_count": 8,
   "metadata": {},
   "outputs": [],
   "source": [
    "class Person:\n",
    "\n",
    "    def __init__(self,isim = \"belirtilmedi\", yaş =  \"belirtilmedi\", meslek = \"belirtilmedi\"):\n",
    "\n",
    "        self.name = isim\n",
    "        self.age = yaş\n",
    "        self.job = meslek"
   ]
  },
  {
   "cell_type": "code",
   "execution_count": 9,
   "metadata": {},
   "outputs": [],
   "source": [
    "p3 = Person()"
   ]
  },
  {
   "cell_type": "code",
   "execution_count": 10,
   "metadata": {},
   "outputs": [
    {
     "data": {
      "text/plain": [
       "'belirtilmedi'"
      ]
     },
     "execution_count": 10,
     "metadata": {},
     "output_type": "execute_result"
    }
   ],
   "source": [
    "p3.name"
   ]
  },
  {
   "cell_type": "code",
   "execution_count": 11,
   "metadata": {},
   "outputs": [],
   "source": [
    "p3.name =  \"irem\""
   ]
  },
  {
   "cell_type": "code",
   "execution_count": 12,
   "metadata": {},
   "outputs": [],
   "source": [
    "p3.age = 28"
   ]
  },
  {
   "cell_type": "code",
   "execution_count": 13,
   "metadata": {},
   "outputs": [],
   "source": [
    "p3.job = \"data_analyst\""
   ]
  },
  {
   "cell_type": "code",
   "execution_count": 14,
   "metadata": {},
   "outputs": [
    {
     "data": {
      "text/plain": [
       "{'name': 'irem', 'age': 28, 'job': 'data_analyst'}"
      ]
     },
     "execution_count": 14,
     "metadata": {},
     "output_type": "execute_result"
    }
   ],
   "source": [
    "p3.__dict__"
   ]
  },
  {
   "cell_type": "code",
   "execution_count": 15,
   "metadata": {},
   "outputs": [],
   "source": [
    "p3.salary = 5000"
   ]
  },
  {
   "cell_type": "code",
   "execution_count": 16,
   "metadata": {},
   "outputs": [
    {
     "data": {
      "text/plain": [
       "{'name': 'irem', 'age': 28, 'job': 'data_analyst', 'salary': 5000}"
      ]
     },
     "execution_count": 16,
     "metadata": {},
     "output_type": "execute_result"
    }
   ],
   "source": [
    "p3.__dict__"
   ]
  },
  {
   "cell_type": "code",
   "execution_count": 17,
   "metadata": {},
   "outputs": [],
   "source": [
    "class Person:\n",
    "\n",
    "    def __init__(self,isim, yaş, meslek):\n",
    "\n",
    "        self.name = isim\n",
    "        self.age = yaş\n",
    "        self.job = meslek\n",
    "\n",
    "    def show_info(self):\n",
    "        print(f\"isim: {self.name}, yaş: {self.age}, meslek: {self.job}\")"
   ]
  },
  {
   "cell_type": "code",
   "execution_count": 18,
   "metadata": {},
   "outputs": [],
   "source": [
    "p4 = Person(\"Mustafa\", 29, \"python_developer\")"
   ]
  },
  {
   "cell_type": "code",
   "execution_count": 19,
   "metadata": {},
   "outputs": [
    {
     "data": {
      "text/plain": [
       "{'name': 'Mustafa', 'age': 29, 'job': 'python_developer'}"
      ]
     },
     "execution_count": 19,
     "metadata": {},
     "output_type": "execute_result"
    }
   ],
   "source": [
    "p4.__dict__"
   ]
  },
  {
   "cell_type": "code",
   "execution_count": 20,
   "metadata": {},
   "outputs": [
    {
     "data": {
      "text/plain": [
       "<bound method Person.show_info of <__main__.Person object at 0x000002BE0F293B50>>"
      ]
     },
     "execution_count": 20,
     "metadata": {},
     "output_type": "execute_result"
    }
   ],
   "source": [
    "p4.show_info"
   ]
  },
  {
   "cell_type": "code",
   "execution_count": 21,
   "metadata": {},
   "outputs": [
    {
     "name": "stdout",
     "output_type": "stream",
     "text": [
      "isim: Mustafa, yaş: 29, meslek: python_developer\n"
     ]
    }
   ],
   "source": [
    "p4.show_info()"
   ]
  },
  {
   "cell_type": "markdown",
   "metadata": {},
   "source": [
    "### Example: class attribute & instance attribute"
   ]
  },
  {
   "cell_type": "code",
   "execution_count": 22,
   "metadata": {},
   "outputs": [],
   "source": [
    "class Okul:\n",
    "\n",
    "    eğitim_sistemi = \"Devlet Okulu\"\n",
    "\n",
    "    def __init__(self, okul_ismi, öğrenci_sayısı):\n",
    "\n",
    "        self.school_name = okul_ismi\n",
    "        self.count_of_student = öğrenci_sayısı\n",
    "        "
   ]
  },
  {
   "cell_type": "code",
   "execution_count": 23,
   "metadata": {},
   "outputs": [],
   "source": [
    "okul1 = Okul(\"Atatürk Lisesi\", 560)\n",
    "okul2 = Okul(\"Cumhuriyet Lisesi\", 380)"
   ]
  },
  {
   "cell_type": "code",
   "execution_count": 24,
   "metadata": {},
   "outputs": [
    {
     "data": {
      "text/plain": [
       "'Devlet Okulu'"
      ]
     },
     "execution_count": 24,
     "metadata": {},
     "output_type": "execute_result"
    }
   ],
   "source": [
    "okul1."
   ]
  },
  {
   "cell_type": "code",
   "execution_count": 25,
   "metadata": {},
   "outputs": [],
   "source": [
    "Okul.eğitim_sistemi = \"Özel Okullar\""
   ]
  },
  {
   "cell_type": "code",
   "execution_count": 26,
   "metadata": {},
   "outputs": [
    {
     "data": {
      "text/plain": [
       "'Özel Okullar'"
      ]
     },
     "execution_count": 26,
     "metadata": {},
     "output_type": "execute_result"
    }
   ],
   "source": [
    "okul1.eğitim_sistemi"
   ]
  },
  {
   "cell_type": "code",
   "execution_count": 27,
   "metadata": {},
   "outputs": [],
   "source": [
    "class Employees:\n",
    "\n",
    "    def __init__(self, isim, soyisim, yaş, maaş):\n",
    "\n",
    "        self.name = isim\n",
    "        self.surname = soyisim\n",
    "        self.age = yaş\n",
    "        self.salary = maaş"
   ]
  },
  {
   "cell_type": "code",
   "execution_count": 28,
   "metadata": {},
   "outputs": [],
   "source": [
    "e1 = Employees(\"Mehmet\", \"S\", 36, 4500)"
   ]
  },
  {
   "cell_type": "code",
   "execution_count": 29,
   "metadata": {},
   "outputs": [
    {
     "data": {
      "text/plain": [
       "{'name': 'Mehmet', 'surname': 'S', 'age': 36, 'salary': 4500}"
      ]
     },
     "execution_count": 29,
     "metadata": {},
     "output_type": "execute_result"
    }
   ],
   "source": [
    "e1.__dict__"
   ]
  },
  {
   "cell_type": "code",
   "execution_count": 30,
   "metadata": {},
   "outputs": [],
   "source": [
    "class Employees:\n",
    "\n",
    "    def __init__(self, isim, soyisim, yaş, maaş, artış_miktarı = 1.3):\n",
    "\n",
    "        self.name = isim\n",
    "        self.surname = soyisim\n",
    "        self.age = yaş\n",
    "        self.salary = maaş\n",
    "        self.raise_amount = artış_miktarı\n",
    "\n",
    "    def salary_increase(self):\n",
    "\n",
    "        self.salary = self.salary * self.raise_amount"
   ]
  },
  {
   "cell_type": "code",
   "execution_count": 32,
   "metadata": {},
   "outputs": [],
   "source": [
    "e2 = Employees(\"Murat\", \"Ç\", 35, 4000)"
   ]
  },
  {
   "cell_type": "code",
   "execution_count": 33,
   "metadata": {},
   "outputs": [
    {
     "data": {
      "text/plain": [
       "{'name': 'Murat',\n",
       " 'surname': 'Ç',\n",
       " 'age': 35,\n",
       " 'salary': 4000,\n",
       " 'raise_amount': 1.3}"
      ]
     },
     "execution_count": 33,
     "metadata": {},
     "output_type": "execute_result"
    }
   ],
   "source": [
    "e2.__dict__"
   ]
  },
  {
   "cell_type": "code",
   "execution_count": 34,
   "metadata": {},
   "outputs": [],
   "source": [
    "e2.salary_increase()"
   ]
  },
  {
   "cell_type": "code",
   "execution_count": 35,
   "metadata": {},
   "outputs": [
    {
     "data": {
      "text/plain": [
       "{'name': 'Murat',\n",
       " 'surname': 'Ç',\n",
       " 'age': 35,\n",
       " 'salary': 5200.0,\n",
       " 'raise_amount': 1.3}"
      ]
     },
     "execution_count": 35,
     "metadata": {},
     "output_type": "execute_result"
    }
   ],
   "source": [
    "e2.__dict__"
   ]
  },
  {
   "cell_type": "code",
   "execution_count": 36,
   "metadata": {},
   "outputs": [],
   "source": [
    "e2.salary_increase()"
   ]
  },
  {
   "cell_type": "code",
   "execution_count": 37,
   "metadata": {},
   "outputs": [
    {
     "data": {
      "text/plain": [
       "{'name': 'Murat',\n",
       " 'surname': 'Ç',\n",
       " 'age': 35,\n",
       " 'salary': 6760.0,\n",
       " 'raise_amount': 1.3}"
      ]
     },
     "execution_count": 37,
     "metadata": {},
     "output_type": "execute_result"
    }
   ],
   "source": [
    "e2.__dict__"
   ]
  },
  {
   "cell_type": "code",
   "execution_count": 39,
   "metadata": {},
   "outputs": [],
   "source": [
    "class Employees:\n",
    "\n",
    "    artış_oranı = 1.5\n",
    "\n",
    "    def __init__(self, isim, soyisim, yaş, maaş, artış_miktarı = 1.3):\n",
    "\n",
    "        self.name = isim\n",
    "        self.surname = soyisim\n",
    "        self.age = yaş\n",
    "        self.salary = maaş\n",
    "        self.raise_amount = artış_miktarı\n",
    "\n",
    "    def salary_increase(self):\n",
    "\n",
    "        self.salary = self.salary * Employees.artış_oranı"
   ]
  },
  {
   "cell_type": "code",
   "execution_count": 40,
   "metadata": {},
   "outputs": [],
   "source": [
    "e3 = Employees(\"Metehan\", \"B\", 24, 7500)"
   ]
  },
  {
   "cell_type": "code",
   "execution_count": 41,
   "metadata": {},
   "outputs": [
    {
     "data": {
      "text/plain": [
       "{'name': 'Metehan',\n",
       " 'surname': 'B',\n",
       " 'age': 24,\n",
       " 'salary': 7500,\n",
       " 'raise_amount': 1.3}"
      ]
     },
     "execution_count": 41,
     "metadata": {},
     "output_type": "execute_result"
    }
   ],
   "source": [
    "e3.__dict__"
   ]
  },
  {
   "cell_type": "code",
   "execution_count": 42,
   "metadata": {},
   "outputs": [],
   "source": [
    "e3.salary_increase()"
   ]
  },
  {
   "cell_type": "code",
   "execution_count": 43,
   "metadata": {},
   "outputs": [
    {
     "data": {
      "text/plain": [
       "{'name': 'Metehan',\n",
       " 'surname': 'B',\n",
       " 'age': 24,\n",
       " 'salary': 11250.0,\n",
       " 'raise_amount': 1.3}"
      ]
     },
     "execution_count": 43,
     "metadata": {},
     "output_type": "execute_result"
    }
   ],
   "source": [
    "e3.__dict__\n"
   ]
  },
  {
   "cell_type": "markdown",
   "metadata": {},
   "source": [
    "### Example: class method & instance method"
   ]
  },
  {
   "cell_type": "code",
   "execution_count": 44,
   "metadata": {},
   "outputs": [],
   "source": [
    "class Employees:\n",
    "\n",
    "    employee_count = 0\n",
    "\n",
    "    def __init__(self, isim, soyisim, yaş, maaş, artış_miktarı = 1.3):\n",
    "\n",
    "        self.name = isim\n",
    "        self.surname = soyisim\n",
    "        self.age = yaş\n",
    "        self.salary = maaş\n",
    "        self.raise_amount = artış_miktarı\n",
    "        Employees.employee_count += 1\n",
    "\n",
    "    def salary_increase(self):\n",
    "\n",
    "        self.salary = self.salary * Employees.artış_oranı\n",
    "\n",
    "    @classmethod\n",
    "    def number_of_employee(cls):\n",
    "\n",
    "        return f\"Number of total employees: {cls.employee_count}\"\n"
   ]
  },
  {
   "cell_type": "code",
   "execution_count": 45,
   "metadata": {},
   "outputs": [],
   "source": [
    "e4 = Employees(\"Mustafa\", \"K\", 25, 5000)\n",
    "e5 = Employees(\"Murat\", \"O\", 35, 6000)"
   ]
  },
  {
   "cell_type": "code",
   "execution_count": 46,
   "metadata": {},
   "outputs": [
    {
     "data": {
      "text/plain": [
       "{'name': 'Mustafa',\n",
       " 'surname': 'K',\n",
       " 'age': 25,\n",
       " 'salary': 5000,\n",
       " 'raise_amount': 1.3}"
      ]
     },
     "execution_count": 46,
     "metadata": {},
     "output_type": "execute_result"
    }
   ],
   "source": [
    "e4.__dict__"
   ]
  },
  {
   "cell_type": "code",
   "execution_count": 47,
   "metadata": {},
   "outputs": [
    {
     "data": {
      "text/plain": [
       "{'name': 'Murat',\n",
       " 'surname': 'O',\n",
       " 'age': 35,\n",
       " 'salary': 6000,\n",
       " 'raise_amount': 1.3}"
      ]
     },
     "execution_count": 47,
     "metadata": {},
     "output_type": "execute_result"
    }
   ],
   "source": [
    "e5.__dict__"
   ]
  },
  {
   "cell_type": "code",
   "execution_count": 48,
   "metadata": {},
   "outputs": [
    {
     "data": {
      "text/plain": [
       "'Number of total employees: 2'"
      ]
     },
     "execution_count": 48,
     "metadata": {},
     "output_type": "execute_result"
    }
   ],
   "source": [
    "Employees.number_of_employee()"
   ]
  },
  {
   "cell_type": "markdown",
   "metadata": {},
   "source": [
    "### Example: inheritance(kalıtım - miras)"
   ]
  },
  {
   "cell_type": "code",
   "execution_count": 49,
   "metadata": {},
   "outputs": [],
   "source": [
    "class Employees:\n",
    "\n",
    "    employee_count = 0\n",
    "\n",
    "    def __init__(self, isim, soyisim, yaş, maaş, artış_miktarı = 1.3):\n",
    "\n",
    "        self.name = isim\n",
    "        self.surname = soyisim\n",
    "        self.age = yaş\n",
    "        self.salary = maaş\n",
    "        self.raise_amount = artış_miktarı\n",
    "        Employees.employee_count += 1\n",
    "\n",
    "    def show_person_info(self):\n",
    "        print(f\"İsim: {self.name}, soyisim: {self.surname}, yaş: {self.age}, maaş: {self.salary} \")\n",
    "\n",
    "    def salary_increase(self):\n",
    "\n",
    "        self.salary = self.salary * Employees.artış_oranı\n",
    "\n",
    "    @classmethod\n",
    "    def number_of_employee(cls):\n",
    "\n",
    "        return f\"Number of total employees: {cls.employee_count}\""
   ]
  },
  {
   "cell_type": "code",
   "execution_count": 50,
   "metadata": {},
   "outputs": [],
   "source": [
    "class Programmer(Employees):\n",
    "    pass"
   ]
  },
  {
   "cell_type": "code",
   "execution_count": 51,
   "metadata": {},
   "outputs": [],
   "source": [
    "p1 = Programmer(\"Yusuf\", \"T\", 34, 6000)"
   ]
  },
  {
   "cell_type": "code",
   "execution_count": 52,
   "metadata": {},
   "outputs": [
    {
     "data": {
      "text/plain": [
       "{'name': 'Yusuf',\n",
       " 'surname': 'T',\n",
       " 'age': 34,\n",
       " 'salary': 6000,\n",
       " 'raise_amount': 1.3}"
      ]
     },
     "execution_count": 52,
     "metadata": {},
     "output_type": "execute_result"
    }
   ],
   "source": [
    "p1.__dict__"
   ]
  },
  {
   "cell_type": "code",
   "execution_count": 53,
   "metadata": {},
   "outputs": [
    {
     "data": {
      "text/plain": [
       "'Number of total employees: 1'"
      ]
     },
     "execution_count": 53,
     "metadata": {},
     "output_type": "execute_result"
    }
   ],
   "source": [
    "Employees.number_of_employee()"
   ]
  },
  {
   "cell_type": "code",
   "execution_count": 54,
   "metadata": {},
   "outputs": [],
   "source": [
    "class Programmer():\n",
    "    \n",
    "    def __init__(self, isim, soyisim, yaş, maaş, dil ):\n",
    "\n",
    "        self.name = isim\n",
    "        self.surname = soyisim\n",
    "        self.age = yaş\n",
    "        self.salary = maaş\n",
    "        self.program_name = dil"
   ]
  },
  {
   "cell_type": "code",
   "execution_count": 55,
   "metadata": {},
   "outputs": [],
   "source": [
    "class Programmer(Employees):\n",
    "    \n",
    "    def __init__(self, isim, soyisim, yaş, maaş,dil):\n",
    "        super().__init__(isim, soyisim, yaş, maaş)\n",
    "        self.program_name = dil"
   ]
  },
  {
   "cell_type": "code",
   "execution_count": 56,
   "metadata": {},
   "outputs": [
    {
     "ename": "TypeError",
     "evalue": "Programmer.__init__() missing 1 required positional argument: 'dil'",
     "output_type": "error",
     "traceback": [
      "\u001b[1;31m---------------------------------------------------------------------------\u001b[0m",
      "\u001b[1;31mTypeError\u001b[0m                                 Traceback (most recent call last)",
      "Cell \u001b[1;32mIn[56], line 1\u001b[0m\n\u001b[1;32m----> 1\u001b[0m p2 \u001b[38;5;241m=\u001b[39m \u001b[43mProgrammer\u001b[49m\u001b[43m(\u001b[49m\u001b[38;5;124;43m\"\u001b[39;49m\u001b[38;5;124;43mSedat\u001b[39;49m\u001b[38;5;124;43m\"\u001b[39;49m\u001b[43m,\u001b[49m\u001b[43m \u001b[49m\u001b[38;5;124;43m\"\u001b[39;49m\u001b[38;5;124;43mA\u001b[39;49m\u001b[38;5;124;43m\"\u001b[39;49m\u001b[43m,\u001b[49m\u001b[43m \u001b[49m\u001b[38;5;241;43m32\u001b[39;49m\u001b[43m,\u001b[49m\u001b[43m \u001b[49m\u001b[38;5;241;43m4000\u001b[39;49m\u001b[43m)\u001b[49m\n",
      "\u001b[1;31mTypeError\u001b[0m: Programmer.__init__() missing 1 required positional argument: 'dil'"
     ]
    }
   ],
   "source": [
    "p2 = Programmer(\"Sedat\", \"A\", 32, 4000)"
   ]
  },
  {
   "cell_type": "code",
   "execution_count": 57,
   "metadata": {},
   "outputs": [],
   "source": [
    "p3 = Programmer(\"Sedat\", \"A\", 32, 4000, \"python\")"
   ]
  },
  {
   "cell_type": "code",
   "execution_count": 59,
   "metadata": {},
   "outputs": [
    {
     "name": "stdout",
     "output_type": "stream",
     "text": [
      "İsim: Sedat, soyisim: A, yaş: 32, maaş: 4000 \n"
     ]
    }
   ],
   "source": [
    "p3.show_person_info()"
   ]
  },
  {
   "cell_type": "code",
   "execution_count": 60,
   "metadata": {},
   "outputs": [],
   "source": [
    "class Programmer(Employees):\n",
    "    \n",
    "    def __init__(self, isim, soyisim, yaş, maaş,dil):\n",
    "        super().__init__(isim, soyisim, yaş, maaş)\n",
    "        self.program_name = dil\n",
    "\n",
    "    def show_programmer_info(self, tecrübe_yılı):\n",
    "        self.experience = tecrübe_yılı\n",
    "        print(f\"İsim: {self.name}, soyisim: {self.surname}, yaş: {self.age}, maaş: {self.salary}, tecrübe yılı: {self.experience} \")"
   ]
  },
  {
   "cell_type": "code",
   "execution_count": 62,
   "metadata": {},
   "outputs": [],
   "source": [
    "p4 = Programmer(\"Kader\", \"R\", 25, 5000, \"C+\")"
   ]
  },
  {
   "cell_type": "code",
   "execution_count": 63,
   "metadata": {},
   "outputs": [
    {
     "ename": "TypeError",
     "evalue": "Programmer.show_programmer_info() missing 1 required positional argument: 'tecrübe_yılı'",
     "output_type": "error",
     "traceback": [
      "\u001b[1;31m---------------------------------------------------------------------------\u001b[0m",
      "\u001b[1;31mTypeError\u001b[0m                                 Traceback (most recent call last)",
      "Cell \u001b[1;32mIn[63], line 1\u001b[0m\n\u001b[1;32m----> 1\u001b[0m \u001b[43mp4\u001b[49m\u001b[38;5;241;43m.\u001b[39;49m\u001b[43mshow_programmer_info\u001b[49m\u001b[43m(\u001b[49m\u001b[43m)\u001b[49m\n",
      "\u001b[1;31mTypeError\u001b[0m: Programmer.show_programmer_info() missing 1 required positional argument: 'tecrübe_yılı'"
     ]
    }
   ],
   "source": [
    "p4.show_programmer_info()"
   ]
  },
  {
   "cell_type": "code",
   "execution_count": 64,
   "metadata": {},
   "outputs": [
    {
     "name": "stdout",
     "output_type": "stream",
     "text": [
      "İsim: Kader, soyisim: R, yaş: 25, maaş: 5000, tecrübe yılı: 6 \n"
     ]
    }
   ],
   "source": [
    "p4.show_programmer_info(6)"
   ]
  },
  {
   "cell_type": "code",
   "execution_count": 65,
   "metadata": {},
   "outputs": [],
   "source": [
    "import math"
   ]
  },
  {
   "cell_type": "code",
   "execution_count": 66,
   "metadata": {},
   "outputs": [
    {
     "ename": "TypeError",
     "evalue": "math.factorial() takes exactly one argument (0 given)",
     "output_type": "error",
     "traceback": [
      "\u001b[1;31m---------------------------------------------------------------------------\u001b[0m",
      "\u001b[1;31mTypeError\u001b[0m                                 Traceback (most recent call last)",
      "Cell \u001b[1;32mIn[66], line 1\u001b[0m\n\u001b[1;32m----> 1\u001b[0m \u001b[43mmath\u001b[49m\u001b[38;5;241;43m.\u001b[39;49m\u001b[43mfactorial\u001b[49m\u001b[43m(\u001b[49m\u001b[43m)\u001b[49m\n",
      "\u001b[1;31mTypeError\u001b[0m: math.factorial() takes exactly one argument (0 given)"
     ]
    }
   ],
   "source": [
    "math.factorial()"
   ]
  },
  {
   "cell_type": "code",
   "execution_count": 67,
   "metadata": {},
   "outputs": [
    {
     "data": {
      "text/plain": [
       "24"
      ]
     },
     "execution_count": 67,
     "metadata": {},
     "output_type": "execute_result"
    }
   ],
   "source": [
    "math.factorial(4)"
   ]
  },
  {
   "cell_type": "code",
   "execution_count": 69,
   "metadata": {},
   "outputs": [],
   "source": [
    "class Manager(Employees):\n",
    "\n",
    "    def __init__(self, isim, soyisim, yaş, maaş, çalışan = None):\n",
    "        super().__init__(isim, soyisim, yaş, maaş)\n",
    "        if çalışan is None:\n",
    "            self.employee = []\n",
    "        else:\n",
    "            self.employee = çalışan\n",
    "\n",
    "    def add_employee(self, çalışan):\n",
    "        self.employee.append(çalışan)\n",
    "\n",
    "    def remove_employee(self, çalışan):\n",
    "        self.employee.remove(çalışan)\n",
    "\n",
    "    def show_employee(self):\n",
    "        for i in self.employee:\n",
    "            i.show_person_info()\n",
    "    "
   ]
  },
  {
   "cell_type": "code",
   "execution_count": 70,
   "metadata": {},
   "outputs": [],
   "source": [
    "m1 = Manager(\"Cennet\", \"Y\", 30, 5000)"
   ]
  },
  {
   "cell_type": "code",
   "execution_count": 71,
   "metadata": {},
   "outputs": [
    {
     "name": "stdout",
     "output_type": "stream",
     "text": [
      "İsim: Cennet, soyisim: Y, yaş: 30, maaş: 5000 \n"
     ]
    }
   ],
   "source": [
    "m1.show_person_info()"
   ]
  },
  {
   "cell_type": "code",
   "execution_count": 72,
   "metadata": {},
   "outputs": [],
   "source": [
    "e6 = Employees(\"Vedat\", \"K\", 24, 3000)\n",
    "e7 = Employees(\"Serhat\", \"Ç\", 36, 4500)\n",
    "p5 = Programmer(\"Kader\", \"R\", 33, 6000, \"python\")"
   ]
  },
  {
   "cell_type": "code",
   "execution_count": 73,
   "metadata": {},
   "outputs": [],
   "source": [
    "m1.add_employee(e6)"
   ]
  },
  {
   "cell_type": "code",
   "execution_count": 74,
   "metadata": {},
   "outputs": [],
   "source": [
    "m1.add_employee(p5)"
   ]
  },
  {
   "cell_type": "code",
   "execution_count": 75,
   "metadata": {},
   "outputs": [
    {
     "data": {
      "text/plain": [
       "{'name': 'Cennet',\n",
       " 'surname': 'Y',\n",
       " 'age': 30,\n",
       " 'salary': 5000,\n",
       " 'raise_amount': 1.3,\n",
       " 'employee': [<__main__.Employees at 0x2be10440a00>,\n",
       "  <__main__.Programmer at 0x2be103e23b0>]}"
      ]
     },
     "execution_count": 75,
     "metadata": {},
     "output_type": "execute_result"
    }
   ],
   "source": [
    "m1.__dict__"
   ]
  },
  {
   "cell_type": "code",
   "execution_count": 76,
   "metadata": {},
   "outputs": [
    {
     "name": "stdout",
     "output_type": "stream",
     "text": [
      "İsim: Vedat, soyisim: K, yaş: 24, maaş: 3000 \n",
      "İsim: Kader, soyisim: R, yaş: 33, maaş: 6000 \n"
     ]
    }
   ],
   "source": [
    "m1.show_employee()"
   ]
  },
  {
   "cell_type": "code",
   "execution_count": 77,
   "metadata": {},
   "outputs": [
    {
     "data": {
      "text/plain": [
       "'Number of total employees: 7'"
      ]
     },
     "execution_count": 77,
     "metadata": {},
     "output_type": "execute_result"
    }
   ],
   "source": [
    "Employees.number_of_employee()"
   ]
  },
  {
   "cell_type": "code",
   "execution_count": 78,
   "metadata": {},
   "outputs": [
    {
     "ename": "ValueError",
     "evalue": "list.remove(x): x not in list",
     "output_type": "error",
     "traceback": [
      "\u001b[1;31m---------------------------------------------------------------------------\u001b[0m",
      "\u001b[1;31mValueError\u001b[0m                                Traceback (most recent call last)",
      "Cell \u001b[1;32mIn[78], line 1\u001b[0m\n\u001b[1;32m----> 1\u001b[0m \u001b[43mm1\u001b[49m\u001b[38;5;241;43m.\u001b[39;49m\u001b[43mremove_employee\u001b[49m\u001b[43m(\u001b[49m\u001b[43me7\u001b[49m\u001b[43m)\u001b[49m\n",
      "Cell \u001b[1;32mIn[69], line 14\u001b[0m, in \u001b[0;36mManager.remove_employee\u001b[1;34m(self, çalışan)\u001b[0m\n\u001b[0;32m     13\u001b[0m \u001b[38;5;28;01mdef\u001b[39;00m \u001b[38;5;21mremove_employee\u001b[39m(\u001b[38;5;28mself\u001b[39m, çalışan):\n\u001b[1;32m---> 14\u001b[0m     \u001b[38;5;28;43mself\u001b[39;49m\u001b[38;5;241;43m.\u001b[39;49m\u001b[43memployee\u001b[49m\u001b[38;5;241;43m.\u001b[39;49m\u001b[43mremove\u001b[49m\u001b[43m(\u001b[49m\u001b[43mçalışan\u001b[49m\u001b[43m)\u001b[49m\n",
      "\u001b[1;31mValueError\u001b[0m: list.remove(x): x not in list"
     ]
    }
   ],
   "source": [
    "m1.remove_employee(e7)"
   ]
  },
  {
   "cell_type": "code",
   "execution_count": 79,
   "metadata": {},
   "outputs": [],
   "source": [
    "m1.remove_employee(e6)"
   ]
  },
  {
   "cell_type": "code",
   "execution_count": 80,
   "metadata": {},
   "outputs": [
    {
     "name": "stdout",
     "output_type": "stream",
     "text": [
      "İsim: Kader, soyisim: R, yaş: 33, maaş: 6000 \n"
     ]
    }
   ],
   "source": [
    "m1.show_employee()"
   ]
  },
  {
   "cell_type": "code",
   "execution_count": 81,
   "metadata": {},
   "outputs": [],
   "source": [
    "import pandas as pd\n",
    "from datetime import datetime\n",
    "\n",
    "class Employees:\n",
    "    raise_rate = 1.3\n",
    "    employee_log = []\n",
    "\n",
    "    def __init__(self, isim, soyisim, maaş):\n",
    "        self.name = isim\n",
    "        self.surname = soyisim\n",
    "        self.salary = maaş\n",
    "\n",
    "    def show_info(self):\n",
    "        print(f\"Name: {self.name} Surname: {self.surname} Salary: {self.salary}\")\n",
    "\n",
    "    @classmethod\n",
    "    def log_employee_action(cls, durum, çalışan):\n",
    "        cls.employee_log.append({\n",
    "            \"Action\": durum,\n",
    "            \"Name\": çalışan.name,\n",
    "            \"Surname\": çalışan.surname,\n",
    "            \"Salary\": çalışan.salary,\n",
    "            \"process_time\": datetime.now().strftime(\"%Y-%m-%d %H:%M:%S\")\n",
    "        })\n",
    "\n",
    "        \n",
    "class Programmer(Employees):\n",
    "    def __init__(self, isim, soyisim, maaş, dil):\n",
    "        super().__init__(isim, soyisim, maaş)\n",
    "        self.program_language = dil\n",
    "    raise_rate = 1.5\n",
    "\n",
    "class Manager(Employees):\n",
    "    def __init__(self, isim, soyisim, maaş, çalışan=None):\n",
    "        super().__init__(isim, soyisim, maaş)\n",
    "        self.employee = çalışan if çalışan else []\n",
    "\n",
    "    def add_employe(self, çalışan):\n",
    "        if çalışan not in self.employee:\n",
    "            self.employee.append(çalışan)\n",
    "            Employees.log_employee_action(\"Added\", çalışan)\n",
    "\n",
    "    def remove_employe(self, çalışan):\n",
    "        if çalışan in self.employee:\n",
    "            self.employee.remove(çalışan)\n",
    "            Employees.log_employee_action(\"Removed\", çalışan)\n",
    "\n",
    "    def show_employe(self):\n",
    "        for i in self.employee:\n",
    "            i.show_info()\n"
   ]
  },
  {
   "cell_type": "markdown",
   "metadata": {},
   "source": [
    "Bu kod, **Employees** (Çalışanlar) sınıfını temel alarak, programcılar ve yöneticiler için bir çalışan yönetim sistemi oluşturur. \n",
    "\n",
    "\n",
    "1. **Employees (Çalışanlar) Sınıfı**: \n",
    "   - Çalışanlar için temel sınıftır. Her çalışan için isim, soyisim ve maaş gibi bilgileri tutar. \n",
    "   - **show_info** metodu, çalışan bilgilerini gösterir.\n",
    "   - **log_employee_action** sınıf metodu, çalışanlar üzerinde yapılan işlemleri (ekleme/çıkarma) bir log listesine kaydeder.\n",
    "\n",
    "2. **Programmer (Programcı) Sınıfı**:\n",
    "   - **Employees** sınıfından kalıtım alır.\n",
    "   - Ek olarak programlama dili (language) bilgisini tutar.\n",
    "   - **raise_rate** değeri programcılara özel zam oranıdır.\n",
    "\n",
    "3. **Manager (Yönetici) Sınıfı**:\n",
    "   - **Employees** sınıfından kalıtım alır.\n",
    "   - Yöneticinin ekleyip çıkarabileceği çalışan listesini tutar.\n",
    "   - **add_employe** ve **remove_employe** metotları, çalışan ekleme ve çıkarmaya olanak sağlar ve bu işlemler log'a kaydedilir.\n",
    "   - **show_employe** metodu, yöneticiye bağlı çalışanların bilgilerini gösterir.\n",
    "\n",
    "Bu yapı, çalışanları ekleyip yönetmek için basit bir sistem oluşturur.\n",
    "\n",
    "---\n",
    "\n",
    "**`@classmethod`**, Python'da bir sınıf metodu tanımlamak için kullanılır. Normalde bir sınıfın metotları, o sınıfın bir **object**'ine (örneğine) bağlı olarak çalışır. Ancak **`@classmethod`** ile tanımlanan metotlar, sınıfın kendisine bağlıdır ve **class** üzerinde işlem yapmak için kullanılır, **object** değil. Bu nedenle, sınıfı temsil eden ilk parametre olarak **`cls`** kullanılır (sınıfın kendisini ifade eder).\n",
    "\n",
    "- **Sınıfa bağlıdır**: Bir **object** yerine, doğrudan sınıfla çalışır.\n",
    "- **Sınıf değişkenlerine erişim sağlar**: Sınıfın özelliklerine (**class attributes**) erişebilir ve onları değiştirebilir.\n",
    "- **`cls` parametresi**: `cls`, sınıfın kendisini ifade eder, tıpkı `self`'in bir nesneyi ifade etmesi gibi. `cls` sayesinde, sınıfa ait değişkenler ve metotlar üzerinde işlem yapılabilir.\n",
    "\n",
    "\n",
    " `log_employee_action`'da Kullanımı:\n",
    " \n",
    "Senin örneğinde `@classmethod` ile tanımlanan **`log_employee_action`** metodu, çalışanlar üzerinde yapılan işlemleri (örneğin, ekleme veya çıkarma) sınıfın genel `employee_log` listesine kaydeder. Burada **`cls`**, sınıfın kendisine erişimi sağlar ve bu metot, sınıfa ait `employee_log` üzerinde işlem yapar.\n",
    "\n",
    "```python\n",
    "@classmethod\n",
    "def log_employee_action(cls, durum, çalışan):\n",
    "    cls.employee_log.append({\n",
    "        \"Action\": durum,\n",
    "        \"Name\": çalışan.name,\n",
    "        \"Surname\": çalışan.surname,\n",
    "        \"Salary\": çalışan.salary,\n",
    "        \"process_time\": datetime.now().strftime(\"%Y-%m-%d %H:%M:%S\")\n",
    "    })\n",
    "```\n",
    "\n",
    "Bu örnekte, `cls.employee_log.append()` ifadesi ile tüm sınıf çapında bir log tutulur ve herhangi bir çalışan üzerinde işlem yapıldığında (ekleme/çıkarma gibi), bu işlem loglanır."
   ]
  },
  {
   "cell_type": "code",
   "execution_count": 82,
   "metadata": {},
   "outputs": [],
   "source": [
    "e11 = Employees(\"Murat\", \"K\", 5000)"
   ]
  },
  {
   "cell_type": "code",
   "execution_count": 83,
   "metadata": {},
   "outputs": [],
   "source": [
    "e121 = Employees(\"Mustafa\", \"M\", 4000)"
   ]
  },
  {
   "cell_type": "code",
   "execution_count": 84,
   "metadata": {},
   "outputs": [],
   "source": [
    "e13 = Employees(\"İrem\", \"T\", 6000)"
   ]
  },
  {
   "cell_type": "code",
   "execution_count": 85,
   "metadata": {},
   "outputs": [],
   "source": [
    "e14 = Employees(\"Kader\", \"Z\", 4500)"
   ]
  },
  {
   "cell_type": "code",
   "execution_count": 86,
   "metadata": {},
   "outputs": [],
   "source": [
    "p1 = Programmer(\"Şule\", \"Ç\", 3000, \"python\")"
   ]
  },
  {
   "cell_type": "code",
   "execution_count": 87,
   "metadata": {},
   "outputs": [],
   "source": [
    "p2 = Programmer(\"Hüma\", \"A\", 4000, \"python\")"
   ]
  },
  {
   "cell_type": "code",
   "execution_count": 88,
   "metadata": {},
   "outputs": [],
   "source": [
    "m1 = Manager(\"Mustafa\", \"K\", 8000)"
   ]
  },
  {
   "cell_type": "code",
   "execution_count": 89,
   "metadata": {},
   "outputs": [],
   "source": [
    "m1.add_employe(e11)"
   ]
  },
  {
   "cell_type": "code",
   "execution_count": 90,
   "metadata": {},
   "outputs": [],
   "source": [
    "m1.add_employe(e14)"
   ]
  },
  {
   "cell_type": "code",
   "execution_count": 91,
   "metadata": {},
   "outputs": [],
   "source": [
    "m1.add_employe(p2)"
   ]
  },
  {
   "cell_type": "code",
   "execution_count": 92,
   "metadata": {},
   "outputs": [],
   "source": [
    "m1.remove_employe(e11)"
   ]
  },
  {
   "cell_type": "code",
   "execution_count": 93,
   "metadata": {},
   "outputs": [],
   "source": [
    "m1.add_employe(e121)"
   ]
  },
  {
   "cell_type": "code",
   "execution_count": 94,
   "metadata": {},
   "outputs": [],
   "source": [
    "employee_df = pd.DataFrame(Employees.employee_log)\n",
    "employee_df.to_excel(\"log_kayıtları.xlsx\", index=False)"
   ]
  },
  {
   "cell_type": "markdown",
   "metadata": {},
   "source": [
    "## **Other Decorators**"
   ]
  },
  {
   "cell_type": "markdown",
   "metadata": {},
   "source": [
    "Evet, Python'da sınıf yapılarında ve fonksiyonlarda kullanılan birkaç farklı **`@`** ile başlayan **decorator** (dekoratör) bulunmaktadır. Bu dekoratörler, sınıf ya da fonksiyonlara ek özellikler eklemek veya işlevlerini değiştirmek için kullanılır. Sınıflarda ve fonksiyonlarda en yaygın olarak kullanılan **decorator**'lar şunlardır:\n",
    "\n",
    "### 1. **@classmethod**:\n",
    "- **class-level** metotları tanımlamak için kullanılır.\n",
    "- Bir sınıfa bağlı olarak çalışır ve **class attributes**'lara erişim sağlar.\n",
    "  \n",
    " Kullanım:\n",
    " \n",
    "```python\n",
    "class MyClass:\n",
    "    class_variable = \"Hello\"\n",
    "\n",
    "    @classmethod\n",
    "    def class_method(cls):\n",
    "        return cls.class_variable\n",
    "\n",
    "print(MyClass.class_method())  # Çıktı: Hello\n",
    "```\n",
    "\n",
    "### 2. **@staticmethod**:\n",
    "- Bir sınıfa bağlıdır, ancak **instance** veya **class attributes**'lara erişim gerektirmez.\n",
    "- Normal bir fonksiyon gibi çalışır, fakat sınıfın bir parçası olarak tanımlanır.\n",
    "  \n",
    " Kullanım:\n",
    "```python\n",
    "class MyClass:\n",
    "    @staticmethod\n",
    "    def static_method():\n",
    "        return \"This is a static method.\"\n",
    "\n",
    "print(MyClass.static_method())  # Çıktı: This is a static method.\n",
    "```\n",
    "\n",
    "- **`staticmethod`**'in farkı, `self` ya da `cls` parametresi almaz, çünkü sınıfa veya sınıfın bir örneğine (instance) özel bir işlem yapmaz.\n",
    "\n",
    "### 3. **@property**:\n",
    "- Bir **getter** metodu olarak çalışır. **Attributes**'lara, sanki bir özellik gibi davranarak erişim sağlar.\n",
    "- Python'da **encapsulation** sağlamak ve sınıf içi değişkenlere güvenli erişim sağlamak için kullanılır.\n",
    "\n",
    " Kullanım:\n",
    "```python\n",
    "class MyClass:\n",
    "    def __init__(self, value):\n",
    "        self._value = value\n",
    "    \n",
    "    @property\n",
    "    def value(self):\n",
    "        return self._value\n",
    "\n",
    "obj = MyClass(10)\n",
    "print(obj.value)  # Çıktı: 10\n",
    "```\n",
    "\n",
    "- Bu sayede, `obj.value` bir metot çağırma gibi görünmez, doğrudan bir özellikmiş gibi davranır.\n",
    "\n",
    "### 4. **@abstractmethod**:\n",
    "- **Abstract Base Class (ABC)** kullanarak soyut bir sınıf ve soyut metot tanımlamak için kullanılır. \n",
    "- Bu dekoratör, bir sınıfın alt sınıflarında mutlaka uygulanması gereken metotları tanımlar.\n",
    "\n",
    " Kullanım:\n",
    "```python\n",
    "from abc import ABC, abstractmethod\n",
    "\n",
    "class MyAbstractClass(ABC):\n",
    "    @abstractmethod\n",
    "    def my_method(self):\n",
    "        pass\n",
    "\n",
    "class SubClass(MyAbstractClass):\n",
    "    def my_method(self):\n",
    "        print(\"Implemented in subclass\")\n",
    "\n",
    "obj = SubClass()\n",
    "obj.my_method()  # Çıktı: Implemented in subclass\n",
    "```\n",
    "\n",
    "- **@abstractmethod** kullanıldığında, soyut sınıfın metotları alt sınıf tarafından mutlaka tanımlanmalıdır.\n",
    "\n",
    "### 5. **@dataclass**:\n",
    "- Python 3.7 ve sonrası sürümlerde tanıtılmıştır. **Dataclass**, sınıflar için otomatik olarak belirli özelliklerin (örneğin, `__init__`, `__repr__`) oluşturulmasını sağlar.\n",
    "\n",
    " Kullanım:\n",
    "```python\n",
    "from dataclasses import dataclass\n",
    "\n",
    "@dataclass\n",
    "class MyDataClass:\n",
    "    name: str\n",
    "    age: int\n",
    "\n",
    "obj = MyDataClass(\"Alice\", 30)\n",
    "print(obj)  # Çıktı: MyDataClass(name='Alice', age=30)\n",
    "```\n",
    "\n",
    "- **@dataclass**, sınıfın `__init__`, `__repr__`, `__eq__` gibi metotlarını otomatik olarak oluşturur, böylece manuel olarak yazmaya gerek kalmaz.\n",
    "\n",
    " Sonuç:\n",
    "Python'da **`@`** ile başlayan birçok **decorator** vardır ve bu dekoratörler, sınıf yapısındaki metotların nasıl çalıştığını değiştirmek, genişletmek veya onları belirli bir şablona uydurmak için kullanılır. Bunlar, OOP'nin esnekliğini artırmak ve sınıf yapısını daha düzenli hale getirmek için çok faydalıdır."
   ]
  }
 ],
 "metadata": {
  "hide_input": false,
  "kernelspec": {
   "display_name": "Python 3 (ipykernel)",
   "language": "python",
   "name": "python3"
  },
  "language_info": {
   "codemirror_mode": {
    "name": "ipython",
    "version": 3
   },
   "file_extension": ".py",
   "mimetype": "text/x-python",
   "name": "python",
   "nbconvert_exporter": "python",
   "pygments_lexer": "ipython3",
   "version": "3.12.3"
  },
  "toc": {
   "base_numbering": 1,
   "nav_menu": {},
   "number_sections": true,
   "sideBar": true,
   "skip_h1_title": false,
   "title_cell": "Table of Contents",
   "title_sidebar": "Contents",
   "toc_cell": false,
   "toc_position": {
    "height": "calc(100% - 180px)",
    "left": "10px",
    "top": "150px",
    "width": "339.801px"
   },
   "toc_section_display": true,
   "toc_window_display": true
  },
  "varInspector": {
   "cols": {
    "lenName": 16,
    "lenType": 16,
    "lenVar": 40
   },
   "kernels_config": {
    "python": {
     "delete_cmd_postfix": "",
     "delete_cmd_prefix": "del ",
     "library": "var_list.py",
     "varRefreshCmd": "print(var_dic_list())"
    },
    "r": {
     "delete_cmd_postfix": ") ",
     "delete_cmd_prefix": "rm(",
     "library": "var_list.r",
     "varRefreshCmd": "cat(var_dic_list()) "
    }
   },
   "types_to_exclude": [
    "module",
    "function",
    "builtin_function_or_method",
    "instance",
    "_Feature"
   ],
   "window_display": false
  }
 },
 "nbformat": 4,
 "nbformat_minor": 2
}
