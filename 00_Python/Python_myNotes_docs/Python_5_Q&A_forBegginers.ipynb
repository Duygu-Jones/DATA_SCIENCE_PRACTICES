{
 "cells": [
  {
   "cell_type": "markdown",
   "metadata": {},
   "source": [
    "# <p style=\"background-color:dodgerblue;font-family:newtimeroman;font-size:200%;color:white;text-align:center;border-radius:20px 20px;\"><b>5 Q&A for Python Beginners</b></p>\n",
    "\n",
    "<p style=\"text-align: right;\"><font color='Magenta'> <b>Duygu Jones</b><font color='black'><p>\n",
    "    \n",
    "<p style=\"text-align: right;\"><font color='dodgerblue'> <b>Data_Science  | 2024</b><font color='orange'><p>\n",
    "\n",
    "<b>Follow me </b>[Linkedin](https://www.linkedin.com/in/duygujones/) | [GitHub](https://github.com/Duygu-Jones) | [Kaggle](https://www.kaggle.com/duygujones) | [Tableau](https://public.tableau.com/app/profile/duygu.jones/vizzes) | [Source]() "
   ]
  },
  {
   "cell_type": "markdown",
   "metadata": {},
   "source": [
    "1 - Take two inputs from the user. If these inputs are integers, print their product. "
   ]
  },
  {
   "cell_type": "code",
   "execution_count": 2,
   "metadata": {},
   "outputs": [
    {
     "name": "stdout",
     "output_type": "stream",
     "text": [
      "multiplication result:  45\n"
     ]
    }
   ],
   "source": [
    "num1 = input(\"Please enter your first integer\")\n",
    "num2 = input(\"Please enter your second integer\")\n",
    "\n",
    "if num1.isdigit() and num2.isdigit():\n",
    "    num1= int(num1)\n",
    "    num2= int(num2)\n",
    "    result= num1 * num2\n",
    "    print (\"multiplication result: \", result)\n",
    "    \n",
    "else:\n",
    "    print (\"Please enter a valid integer\")"
   ]
  },
  {
   "cell_type": "markdown",
   "metadata": {},
   "source": [
    "2 - Ask the user for a number. If the number is odd, print twice its value; if it is even, print its square. "
   ]
  },
  {
   "cell_type": "code",
   "execution_count": 5,
   "metadata": {},
   "outputs": [
    {
     "name": "stdout",
     "output_type": "stream",
     "text": [
      "double of the number:  6\n"
     ]
    }
   ],
   "source": [
    "number = int(input(\"Please enter a number\"))\n",
    "\n",
    "if number%2 != 0:\n",
    "    print(\"double of the number: \", number*2)\n",
    "    \n",
    "else:\n",
    "    print (\"square of the number: \", number**2)"
   ]
  },
  {
   "cell_type": "markdown",
   "metadata": {},
   "source": [
    "3 - Ask the user for two integers. Write an algorithm that returns True if the numbers are equal or if the difference between the numbers is a multiple of 5. Otherwise, you should receive a False output."
   ]
  },
  {
   "cell_type": "code",
   "execution_count": 13,
   "metadata": {},
   "outputs": [
    {
     "name": "stdout",
     "output_type": "stream",
     "text": [
      "Both numbers are equal:  False\n",
      "difference between the numbers is a multiple of 5:  False\n"
     ]
    }
   ],
   "source": [
    "num1 = int(input(\"Please enter your first integer\"))\n",
    "num2 = int(input(\"Please enter your second integer\"))\n",
    "\n",
    "if num1 == num2: \n",
    "    print(\"Both numbers are equal: \", True)\n",
    "\n",
    "elif abs(num1-num2) % 5 ==0:\n",
    "    print(\"difference between the numbers is a multiple of 5: \", True)\n",
    "    \n",
    "else:\n",
    "    print(\"Both numbers are equal: \", False)\n",
    "    print(\"difference between the numbers is a multiple of 5: \", False)\n",
    "    \n"
   ]
  },
  {
   "cell_type": "markdown",
   "metadata": {},
   "source": [
    "4 - Ask the user for their exam score. Print the corresponding letter grade. Do not forget to specify that scores outside the 0-100 range are invalid.\n",
    "- For scores from 80 to 100, \"A\",\n",
    "- For scores from 65 to 79, \"B\",\n",
    "- For scores from 55 to 64, \"C\",\n",
    "- For scores from 35 to 54, \"D\",\n",
    "- For scores from 0 to 34, \"F\"."
   ]
  },
  {
   "cell_type": "code",
   "execution_count": 17,
   "metadata": {},
   "outputs": [
    {
     "name": "stdout",
     "output_type": "stream",
     "text": [
      "The letter grade corresponding to your score is: D: Needs Improvement\n"
     ]
    }
   ],
   "source": [
    "score = int(input(\"Please enter your exam score (in the range of 0-100)\"))\n",
    "\n",
    "if 0 <= score <= 100:\n",
    "    if 80 <= score >= 100:\n",
    "        grade = \"A: Excellent\"\n",
    "        \n",
    "    elif 65 <= score <= 79:\n",
    "        grade = \"B: Good\"\n",
    "    elif 55 <= score <= 64:\n",
    "        grade = \"C: Satisfactory\"\n",
    "    elif 35 <= score <= 54:\n",
    "        grade = \"D: Needs Improvement\"   \n",
    "    else:\n",
    "        grade = \"F: Fail\"   \n",
    "    print(\"The letter grade corresponding to your score is:\", grade)     \n",
    "else:\n",
    "    print(\"You entered an invalid score. Please enter a score between 0 and 100.\")       "
   ]
  },
  {
   "cell_type": "markdown",
   "metadata": {},
   "source": [
    "5 - Ask the user to enter a time in seconds (current time). Print the entered seconds in terms of hours, minutes, and seconds.\n",
    "Example: 19520 seconds >> 5 hours, 25 minutes, 20 seconds."
   ]
  },
  {
   "cell_type": "code",
   "execution_count": 32,
   "metadata": {},
   "outputs": [
    {
     "name": "stdout",
     "output_type": "stream",
     "text": [
      "96 hours, 1 mins, 18 secs\n"
     ]
    }
   ],
   "source": [
    "time = int(input(\"Please enter a second value. Exmp: 19520\" ))\n",
    "\n",
    "hours = time // 3600\n",
    "time %= 3600\n",
    "minutes = time // 60\n",
    "seconds = time % 60\n",
    "\n",
    "print(hours,\"hours,\", minutes,\"mins,\", seconds,\"secs\")\n",
    "\n"
   ]
  },
  {
   "cell_type": "code",
   "execution_count": null,
   "metadata": {},
   "outputs": [],
   "source": []
  }
 ],
 "metadata": {
  "kernelspec": {
   "display_name": "base",
   "language": "python",
   "name": "python3"
  },
  "language_info": {
   "codemirror_mode": {
    "name": "ipython",
    "version": 3
   },
   "file_extension": ".py",
   "mimetype": "text/x-python",
   "name": "python",
   "nbconvert_exporter": "python",
   "pygments_lexer": "ipython3",
   "version": "3.11.4"
  },
  "orig_nbformat": 4
 },
 "nbformat": 4,
 "nbformat_minor": 2
}
