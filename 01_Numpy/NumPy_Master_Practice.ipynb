{
 "cells": [
  {
   "cell_type": "markdown",
   "id": "1314207c",
   "metadata": {},
   "source": [
    "# <p style=\"background-color:dodgerblue;font-family:newtimeroman;font-size:200%;color:white;text-align:center;border-radius:20px 20px;\"><b>Numpy Pracitce</b></p>\n",
    "\n",
    "<p style=\"text-align: right;\"><font color='Magenta'> <b>Duygu Jones</b><font color='black'><p>\n",
    "    \n",
    "<p style=\"text-align: right;\"><font color='dodgerblue'> <b>Data_Science  | 2024</b><font color='orange'><p>\n",
    "\n",
    "<b>Follow me </b>[Linkedin](https://www.linkedin.com/in/duygujones/) | [GitHub](https://github.com/Duygu-Jones) | [Kaggle](https://www.kaggle.com/duygujones) | [Tableau](https://public.tableau.com/app/profile/duygu.jones/vizzes) | [Source]() \n",
    "\n"
   ]
  },
  {
   "cell_type": "markdown",
   "id": "8df9ae2f",
   "metadata": {},
   "source": [
    "## <font color='green'> <b> Importing Libraries <b> <font color='black'>"
   ]
  },
  {
   "cell_type": "code",
   "execution_count": 1,
   "id": "4947b85f",
   "metadata": {
    "ExecuteTime": {
     "end_time": "2024-04-07T16:43:59.434029Z",
     "start_time": "2024-04-07T16:43:59.218489Z"
    }
   },
   "outputs": [],
   "source": [
    "import numpy as np"
   ]
  },
  {
   "cell_type": "code",
   "execution_count": 2,
   "id": "41af0628",
   "metadata": {
    "ExecuteTime": {
     "end_time": "2024-04-07T16:44:06.698283Z",
     "start_time": "2024-04-07T16:44:06.683541Z"
    }
   },
   "outputs": [
    {
     "data": {
      "text/plain": [
       "'1.26.4'"
      ]
     },
     "execution_count": 2,
     "metadata": {},
     "output_type": "execute_result"
    }
   ],
   "source": [
    "np.__version__"
   ]
  },
  {
   "cell_type": "markdown",
   "id": "d41910cf",
   "metadata": {},
   "source": [
    "## <font color='green'> <b> Creating Arrays <b> <font color='black'>"
   ]
  },
  {
   "cell_type": "code",
   "execution_count": 3,
   "id": "df20d74d",
   "metadata": {
    "ExecuteTime": {
     "end_time": "2024-04-07T16:44:31.395637Z",
     "start_time": "2024-04-07T16:44:31.388352Z"
    }
   },
   "outputs": [
    {
     "data": {
      "text/plain": [
       "array([0, 1, 2, 3, 4, 5, 6, 7, 8, 9])"
      ]
     },
     "execution_count": 3,
     "metadata": {},
     "output_type": "execute_result"
    }
   ],
   "source": [
    "np.arange(10)"
   ]
  },
  {
   "cell_type": "code",
   "execution_count": 4,
   "id": "ad70d072",
   "metadata": {
    "ExecuteTime": {
     "end_time": "2024-04-07T16:44:38.584303Z",
     "start_time": "2024-04-07T16:44:38.573809Z"
    }
   },
   "outputs": [
    {
     "data": {
      "text/plain": [
       "array([[0, 1, 2, 3, 4],\n",
       "       [5, 6, 7, 8, 9]])"
      ]
     },
     "execution_count": 4,
     "metadata": {},
     "output_type": "execute_result"
    }
   ],
   "source": [
    "np.arange(10).reshape((2,5))"
   ]
  },
  {
   "cell_type": "code",
   "execution_count": 5,
   "id": "c4ec2514",
   "metadata": {
    "ExecuteTime": {
     "end_time": "2024-04-07T16:44:46.323122Z",
     "start_time": "2024-04-07T16:44:46.312124Z"
    }
   },
   "outputs": [
    {
     "data": {
      "text/plain": [
       "array([0., 0., 0., 0., 0., 0., 0., 0., 0., 0.])"
      ]
     },
     "execution_count": 5,
     "metadata": {},
     "output_type": "execute_result"
    }
   ],
   "source": [
    "np.zeros(10)"
   ]
  },
  {
   "cell_type": "code",
   "execution_count": 6,
   "id": "6d9fbc7e",
   "metadata": {
    "ExecuteTime": {
     "end_time": "2024-04-07T16:44:54.637006Z",
     "start_time": "2024-04-07T16:44:54.623799Z"
    }
   },
   "outputs": [
    {
     "data": {
      "text/plain": [
       "array([[1., 1., 1., 1., 1., 1., 1., 1.],\n",
       "       [1., 1., 1., 1., 1., 1., 1., 1.],\n",
       "       [1., 1., 1., 1., 1., 1., 1., 1.]])"
      ]
     },
     "execution_count": 6,
     "metadata": {},
     "output_type": "execute_result"
    }
   ],
   "source": [
    "np.ones((3,8))"
   ]
  },
  {
   "cell_type": "code",
   "execution_count": 7,
   "id": "8e91bfcb",
   "metadata": {
    "ExecuteTime": {
     "end_time": "2024-04-07T16:45:03.749974Z",
     "start_time": "2024-04-07T16:45:02.728688Z"
    }
   },
   "outputs": [
    {
     "ename": "TypeError",
     "evalue": "full() missing 1 required positional argument: 'fill_value'",
     "output_type": "error",
     "traceback": [
      "\u001b[1;31m---------------------------------------------------------------------------\u001b[0m",
      "\u001b[1;31mTypeError\u001b[0m                                 Traceback (most recent call last)",
      "Cell \u001b[1;32mIn[7], line 1\u001b[0m\n\u001b[1;32m----> 1\u001b[0m np\u001b[38;5;241m.\u001b[39mfull((\u001b[38;5;241m3\u001b[39m,\u001b[38;5;241m5\u001b[39m))\n",
      "\u001b[1;31mTypeError\u001b[0m: full() missing 1 required positional argument: 'fill_value'"
     ]
    }
   ],
   "source": [
    "np.full((3,5))"
   ]
  },
  {
   "cell_type": "code",
   "execution_count": 8,
   "id": "e8fb4d11",
   "metadata": {
    "ExecuteTime": {
     "end_time": "2024-04-07T16:45:10.695839Z",
     "start_time": "2024-04-07T16:45:10.685658Z"
    }
   },
   "outputs": [
    {
     "data": {
      "text/plain": [
       "array([[8, 8, 8, 8, 8],\n",
       "       [8, 8, 8, 8, 8],\n",
       "       [8, 8, 8, 8, 8]])"
      ]
     },
     "execution_count": 8,
     "metadata": {},
     "output_type": "execute_result"
    }
   ],
   "source": [
    "np.full((3,5),8)"
   ]
  },
  {
   "cell_type": "code",
   "execution_count": 9,
   "id": "3992607d",
   "metadata": {
    "ExecuteTime": {
     "end_time": "2024-04-07T16:45:20.389986Z",
     "start_time": "2024-04-07T16:45:20.382158Z"
    }
   },
   "outputs": [
    {
     "data": {
      "text/plain": [
       "array([], dtype=int32)"
      ]
     },
     "execution_count": 9,
     "metadata": {},
     "output_type": "execute_result"
    }
   ],
   "source": [
    "np.arange(20,2) # 2 farkli deger yazilacak ise baslangic belirtilmelidir"
   ]
  },
  {
   "cell_type": "code",
   "execution_count": 10,
   "id": "1da29a40",
   "metadata": {
    "ExecuteTime": {
     "end_time": "2024-04-07T16:45:26.184923Z",
     "start_time": "2024-04-07T16:45:26.175121Z"
    }
   },
   "outputs": [
    {
     "data": {
      "text/plain": [
       "array([ 0,  2,  4,  6,  8, 10, 12, 14, 16, 18])"
      ]
     },
     "execution_count": 10,
     "metadata": {},
     "output_type": "execute_result"
    }
   ],
   "source": [
    "np.arange(0,20,2)"
   ]
  },
  {
   "cell_type": "code",
   "execution_count": null,
   "id": "1e307c6d",
   "metadata": {},
   "outputs": [],
   "source": [
    "np.linspace()"
   ]
  },
  {
   "cell_type": "code",
   "execution_count": 12,
   "id": "9c0211f8",
   "metadata": {
    "ExecuteTime": {
     "end_time": "2024-04-07T16:53:36.780539Z",
     "start_time": "2024-04-07T16:53:36.768303Z"
    }
   },
   "outputs": [
    {
     "data": {
      "text/plain": [
       "array([0.  , 0.25, 0.5 , 0.75, 1.  ])"
      ]
     },
     "execution_count": 12,
     "metadata": {},
     "output_type": "execute_result"
    }
   ],
   "source": [
    "np.linspace(0,1,5)"
   ]
  },
  {
   "cell_type": "code",
   "execution_count": 11,
   "id": "4f0a17b1",
   "metadata": {
    "ExecuteTime": {
     "end_time": "2024-04-07T16:52:24.603507Z",
     "start_time": "2024-04-07T16:52:22.970753Z"
    }
   },
   "outputs": [
    {
     "data": {
      "text/plain": [
       "[<matplotlib.lines.Line2D at 0x208300dc190>]"
      ]
     },
     "execution_count": 11,
     "metadata": {},
     "output_type": "execute_result"
    },
    {
     "data": {
      "image/png": "[encoded data removed]",
      "text/plain": [
       "<Figure size 640x480 with 1 Axes>"
      ]
     },
     "metadata": {},
     "output_type": "display_data"
    }
   ],
   "source": [
    "import matplotlib.pyplot as plt\n",
    "\n",
    "N= 8\n",
    "y= np.zeros(N)\n",
    "x1 = np.linspace(0,10,N, endpoint=True) #esit araliklarla verilen adet kadar nokta/gozlem olusturur\n",
    "x2= np.linspace(0,10,N, endpoint=False)\n",
    "\n",
    "plt.plot(x1,y,'o')"
   ]
  },
  {
   "cell_type": "code",
   "execution_count": 13,
   "id": "a2b5b002",
   "metadata": {
    "ExecuteTime": {
     "end_time": "2024-04-07T16:54:05.563004Z",
     "start_time": "2024-04-07T16:54:05.553128Z"
    }
   },
   "outputs": [
    {
     "data": {
      "text/plain": [
       "array([[1., 0., 0., 0., 0.],\n",
       "       [0., 1., 0., 0., 0.],\n",
       "       [0., 0., 1., 0., 0.],\n",
       "       [0., 0., 0., 1., 0.],\n",
       "       [0., 0., 0., 0., 1.]])"
      ]
     },
     "execution_count": 13,
     "metadata": {},
     "output_type": "execute_result"
    }
   ],
   "source": [
    "np.eye(5) # kosegeni 1 den olusan 0 matrixi olusturur"
   ]
  },
  {
   "cell_type": "code",
   "execution_count": 15,
   "id": "c5e8fcc3",
   "metadata": {
    "ExecuteTime": {
     "end_time": "2024-04-07T16:57:52.105701Z",
     "start_time": "2024-04-07T16:57:52.095816Z"
    }
   },
   "outputs": [
    {
     "data": {
      "text/plain": [
       "array([[ 0.92691895, -0.23643597,  1.13626291,  1.32963416,  0.01411811],\n",
       "       [ 2.01010877, -0.46721988,  0.13980401,  1.89321565, -0.11066199],\n",
       "       [-0.08537896,  1.16628004, -1.622333  , -0.2461781 ,  0.87725971]])"
      ]
     },
     "execution_count": 15,
     "metadata": {},
     "output_type": "execute_result"
    }
   ],
   "source": [
    "np.random.normal(0,1,(3,5)) # mean=0,std=1,dimention()"
   ]
  },
  {
   "cell_type": "code",
   "execution_count": 17,
   "id": "f49ad127",
   "metadata": {
    "ExecuteTime": {
     "end_time": "2024-04-07T16:58:58.777946Z",
     "start_time": "2024-04-07T16:58:58.768326Z"
    }
   },
   "outputs": [
    {
     "data": {
      "text/plain": [
       "array([[-7.83369704, 11.63705019, -5.76434843, 13.17934189,  5.90418435],\n",
       "       [ 4.33812594,  9.94580324,  4.49453199,  9.0805498 , -1.64116635],\n",
       "       [ 7.23588245, 10.37008042,  5.76028493, 14.25409511,  3.72507664]])"
      ]
     },
     "execution_count": 17,
     "metadata": {},
     "output_type": "execute_result"
    }
   ],
   "source": [
    "np.random.normal(4,6,(3,5)) # mean=4,std=6,dimention()"
   ]
  },
  {
   "cell_type": "code",
   "execution_count": 27,
   "id": "73866f63",
   "metadata": {
    "ExecuteTime": {
     "end_time": "2024-04-07T17:38:02.103526Z",
     "start_time": "2024-04-07T17:38:02.095470Z"
    }
   },
   "outputs": [
    {
     "name": "stdout",
     "output_type": "stream",
     "text": [
      "x1 ndim:  1\n",
      "x1 shape: (4,)\n",
      "x1 size:  4\n"
     ]
    }
   ],
   "source": [
    "np.random.seed(42)\n",
    "\n",
    "x1=np.random.randint(10,size=4)\n",
    "x2=np.random.randint(10,size=(3,5))\n",
    "x3=np.random.randint(10,size=(3,5,3))\n",
    "\n",
    "print('x1 ndim: ', x1.ndim)\n",
    "print('x1 shape:',x1.shape)\n",
    "print('x1 size: ', x1.size)"
   ]
  },
  {
   "cell_type": "code",
   "execution_count": 26,
   "id": "476b3ccc",
   "metadata": {
    "ExecuteTime": {
     "end_time": "2024-04-07T17:37:59.971192Z",
     "start_time": "2024-04-07T17:37:59.962638Z"
    }
   },
   "outputs": [
    {
     "name": "stdout",
     "output_type": "stream",
     "text": [
      "x2 ndim:  2\n",
      "x2 shape: (3, 5)\n",
      "x2 size:  15\n"
     ]
    }
   ],
   "source": [
    "print('x2 ndim: ', x2.ndim)\n",
    "print('x2 shape:',x2.shape)\n",
    "print('x2 size: ', x2.size)"
   ]
  },
  {
   "cell_type": "code",
   "execution_count": 25,
   "id": "bc57978e",
   "metadata": {
    "ExecuteTime": {
     "end_time": "2024-04-07T17:37:58.544938Z",
     "start_time": "2024-04-07T17:37:58.537347Z"
    },
    "scrolled": true
   },
   "outputs": [
    {
     "name": "stdout",
     "output_type": "stream",
     "text": [
      "x3 ndim:  3\n",
      "x3 shape: (3, 5, 3)\n",
      "x3 size:  45\n"
     ]
    }
   ],
   "source": [
    "print('x3 ndim: ', x3.ndim)\n",
    "print('x3 shape:',x3.shape)\n",
    "print('x3 size: ', x3.size)"
   ]
  },
  {
   "cell_type": "markdown",
   "id": "5abe3877",
   "metadata": {},
   "source": [
    "## <font color='green'> <b> Indexing & Slicing <b> <font color='black'>"
   ]
  },
  {
   "cell_type": "code",
   "execution_count": 29,
   "id": "3a4bd60d",
   "metadata": {
    "ExecuteTime": {
     "end_time": "2024-04-07T17:39:20.023424Z",
     "start_time": "2024-04-07T17:39:20.013503Z"
    }
   },
   "outputs": [
    {
     "data": {
      "text/plain": [
       "array([ 0,  1,  2,  3,  4,  5,  6,  7,  8,  9, 10, 11])"
      ]
     },
     "execution_count": 29,
     "metadata": {},
     "output_type": "execute_result"
    }
   ],
   "source": [
    "a= np.arange(12)\n",
    "a"
   ]
  },
  {
   "cell_type": "code",
   "execution_count": 30,
   "id": "aa380dff",
   "metadata": {
    "ExecuteTime": {
     "end_time": "2024-04-07T17:40:17.294284Z",
     "start_time": "2024-04-07T17:40:17.283616Z"
    }
   },
   "outputs": [
    {
     "data": {
      "text/plain": [
       "array([ 0,  2,  4,  6,  8, 10])"
      ]
     },
     "execution_count": 30,
     "metadata": {},
     "output_type": "execute_result"
    }
   ],
   "source": [
    "a[::2] # cift sayilari getir"
   ]
  },
  {
   "cell_type": "code",
   "execution_count": 31,
   "id": "1e45b5f8",
   "metadata": {
    "ExecuteTime": {
     "end_time": "2024-04-07T17:40:46.239192Z",
     "start_time": "2024-04-07T17:40:46.228856Z"
    }
   },
   "outputs": [
    {
     "data": {
      "text/plain": [
       "array([ 5,  6,  7,  8,  9, 10])"
      ]
     },
     "execution_count": 31,
     "metadata": {},
     "output_type": "execute_result"
    }
   ],
   "source": [
    "a[5:11]"
   ]
  },
  {
   "cell_type": "code",
   "execution_count": 34,
   "id": "0f1e1a2b",
   "metadata": {
    "ExecuteTime": {
     "end_time": "2024-04-07T17:41:09.243328Z",
     "start_time": "2024-04-07T17:41:09.234015Z"
    }
   },
   "outputs": [
    {
     "data": {
      "text/plain": [
       "array([ 0,  1,  2,  3,  4, -2, -2, -2, -2, -2, -2, 11])"
      ]
     },
     "execution_count": 34,
     "metadata": {},
     "output_type": "execute_result"
    }
   ],
   "source": [
    "a[5:11] = -2\n",
    "a"
   ]
  },
  {
   "cell_type": "code",
   "execution_count": 35,
   "id": "f85c0bc4",
   "metadata": {
    "ExecuteTime": {
     "end_time": "2024-04-07T17:41:37.487330Z",
     "start_time": "2024-04-07T17:41:37.475907Z"
    }
   },
   "outputs": [
    {
     "data": {
      "text/plain": [
       "array([ 4, -2, -2])"
      ]
     },
     "execution_count": 35,
     "metadata": {},
     "output_type": "execute_result"
    }
   ],
   "source": [
    "a[[4,5,7]] # cift [[]] icinde bagimsiz olarak o indexteki elemani getirebiliriz # 4.index, 5.index ve 7.index elemanlarini getirir"
   ]
  },
  {
   "cell_type": "markdown",
   "id": "cd4a3e73",
   "metadata": {},
   "source": [
    "### <font color='green'> <b> Slicing of Multidimentional Arrays  <b> <font color='black'> "
   ]
  },
  {
   "cell_type": "code",
   "execution_count": 36,
   "id": "cca941c6",
   "metadata": {
    "ExecuteTime": {
     "end_time": "2024-04-07T17:44:33.840057Z",
     "start_time": "2024-04-07T17:44:33.829645Z"
    }
   },
   "outputs": [
    {
     "data": {
      "text/plain": [
       "array([[ 0,  1,  2],\n",
       "       [ 3,  4,  5],\n",
       "       [ 6,  7,  8],\n",
       "       [ 9, 10, 11]])"
      ]
     },
     "execution_count": 36,
     "metadata": {},
     "output_type": "execute_result"
    }
   ],
   "source": [
    "b= np.arange(12).reshape(4,3)\n",
    "b"
   ]
  },
  {
   "cell_type": "code",
   "execution_count": 37,
   "id": "2500fb93",
   "metadata": {
    "ExecuteTime": {
     "end_time": "2024-04-07T17:45:09.189298Z",
     "start_time": "2024-04-07T17:45:09.181601Z"
    }
   },
   "outputs": [
    {
     "data": {
      "text/plain": [
       "1"
      ]
     },
     "execution_count": 37,
     "metadata": {},
     "output_type": "execute_result"
    }
   ],
   "source": [
    "# eleman 1'i getirmek icin;\n",
    "b[0,1]"
   ]
  },
  {
   "cell_type": "code",
   "execution_count": 38,
   "id": "5e17bb27",
   "metadata": {
    "ExecuteTime": {
     "end_time": "2024-04-07T17:45:43.743174Z",
     "start_time": "2024-04-07T17:45:43.733279Z"
    }
   },
   "outputs": [
    {
     "data": {
      "text/plain": [
       "array([[0, 1, 2],\n",
       "       [3, 4, 5]])"
      ]
     },
     "execution_count": 38,
     "metadata": {},
     "output_type": "execute_result"
    }
   ],
   "source": [
    "#ilk iki satiri almak icin;\n",
    "b[:2] #stop haric"
   ]
  },
  {
   "cell_type": "code",
   "execution_count": 39,
   "id": "54ac9dee",
   "metadata": {
    "ExecuteTime": {
     "end_time": "2024-04-07T17:46:37.055862Z",
     "start_time": "2024-04-07T17:46:37.047293Z"
    }
   },
   "outputs": [
    {
     "data": {
      "text/plain": [
       "array([ 2,  5,  8, 11])"
      ]
     },
     "execution_count": 39,
     "metadata": {},
     "output_type": "execute_result"
    }
   ],
   "source": [
    "# 2.index sutunun tum elemanlarini getirmek icin;\n",
    "b[:, 2] "
   ]
  },
  {
   "cell_type": "code",
   "execution_count": 40,
   "id": "850cd141",
   "metadata": {
    "ExecuteTime": {
     "end_time": "2024-04-07T17:47:35.959609Z",
     "start_time": "2024-04-07T17:47:35.951435Z"
    }
   },
   "outputs": [
    {
     "data": {
      "text/plain": [
       "array([[0, 1],\n",
       "       [3, 4]])"
      ]
     },
     "execution_count": 40,
     "metadata": {},
     "output_type": "execute_result"
    }
   ],
   "source": [
    "b[:2, :2]  #[0-2) satirlari + [0-2) sutunlar"
   ]
  },
  {
   "cell_type": "code",
   "execution_count": 44,
   "id": "d9a43cf6",
   "metadata": {
    "ExecuteTime": {
     "end_time": "2024-04-07T17:50:35.521808Z",
     "start_time": "2024-04-07T17:50:35.512355Z"
    }
   },
   "outputs": [
    {
     "data": {
      "text/plain": [
       "array([1, 2, 5, 7])"
      ]
     },
     "execution_count": 44,
     "metadata": {},
     "output_type": "execute_result"
    }
   ],
   "source": [
    "a = np.array([1,2,5,7])\n",
    "a"
   ]
  },
  {
   "cell_type": "code",
   "execution_count": 45,
   "id": "0099c845",
   "metadata": {
    "ExecuteTime": {
     "end_time": "2024-04-07T17:50:40.326662Z",
     "start_time": "2024-04-07T17:50:40.319791Z"
    }
   },
   "outputs": [
    {
     "data": {
      "text/plain": [
       "array([False, False, False,  True])"
      ]
     },
     "execution_count": 45,
     "metadata": {},
     "output_type": "execute_result"
    }
   ],
   "source": [
    "a>5 # sadece bool cvp arar ve her bir elemanin cevabini yazar"
   ]
  },
  {
   "cell_type": "code",
   "execution_count": 46,
   "id": "8ab009c6",
   "metadata": {
    "ExecuteTime": {
     "end_time": "2024-04-07T17:51:17.994656Z",
     "start_time": "2024-04-07T17:51:17.982286Z"
    }
   },
   "outputs": [
    {
     "data": {
      "text/plain": [
       "array([7])"
      ]
     },
     "execution_count": 46,
     "metadata": {},
     "output_type": "execute_result"
    }
   ],
   "source": [
    "a[a>5] # a'nin icinde sarti saglayan elemani dondurur"
   ]
  },
  {
   "cell_type": "code",
   "execution_count": 51,
   "id": "2a247519",
   "metadata": {
    "ExecuteTime": {
     "end_time": "2024-04-07T17:58:18.624623Z",
     "start_time": "2024-04-07T17:58:18.618365Z"
    }
   },
   "outputs": [],
   "source": [
    "names = np.array(['Ahmet','Fatma','Ayse','Fatma','Ahmet'])\n",
    "result = np.array([17,14,20,18,13])"
   ]
  },
  {
   "cell_type": "code",
   "execution_count": 52,
   "id": "6170e360",
   "metadata": {
    "ExecuteTime": {
     "end_time": "2024-04-07T17:58:19.356190Z",
     "start_time": "2024-04-07T17:58:19.345348Z"
    }
   },
   "outputs": [
    {
     "data": {
      "text/plain": [
       "array([17, 13])"
      ]
     },
     "execution_count": 52,
     "metadata": {},
     "output_type": "execute_result"
    }
   ],
   "source": [
    "# names ve result arraylarini baglamis olmask da eleman sayisi esit olan arraylarde ayni indexlere gore esletirmis olabilir\n",
    "\n",
    "result[names == 'Ahmet']  # Ahmet ile ayni indexte olan result elemanlarini getirdi"
   ]
  },
  {
   "cell_type": "code",
   "execution_count": 53,
   "id": "f3b83844",
   "metadata": {
    "ExecuteTime": {
     "end_time": "2024-04-07T17:58:20.608349Z",
     "start_time": "2024-04-07T17:58:20.599418Z"
    }
   },
   "outputs": [
    {
     "data": {
      "text/plain": [
       "array([17, 20, 13])"
      ]
     },
     "execution_count": 53,
     "metadata": {},
     "output_type": "execute_result"
    }
   ],
   "source": [
    "result[(names == 'Ahmet') | (names == 'Ayse')] #ahmet ve aysenin notlarini getiren bir liste array dondurur"
   ]
  },
  {
   "cell_type": "code",
   "execution_count": 54,
   "id": "122565b3",
   "metadata": {
    "ExecuteTime": {
     "end_time": "2024-04-07T17:59:25.877675Z",
     "start_time": "2024-04-07T17:59:25.863362Z"
    }
   },
   "outputs": [
    {
     "data": {
      "text/plain": [
       "array([27, 14, 20, 18, 23])"
      ]
     },
     "execution_count": 54,
     "metadata": {},
     "output_type": "execute_result"
    }
   ],
   "source": [
    "result[names=='Ahmet'] = result[names == 'Ahmet'] + 10 #Ahmete dent gelen result degerlerine +10 ekledik yeni assignment\n",
    "result"
   ]
  },
  {
   "cell_type": "markdown",
   "id": "7ea984fc",
   "metadata": {},
   "source": [
    "## <font color='green'> <b> Array Concationation  <b> <font color='black'> "
   ]
  },
  {
   "cell_type": "code",
   "execution_count": 55,
   "id": "28b9dcfe",
   "metadata": {
    "ExecuteTime": {
     "end_time": "2024-04-07T18:02:40.710766Z",
     "start_time": "2024-04-07T18:02:40.703384Z"
    }
   },
   "outputs": [],
   "source": [
    "x= np.array([1,2,3])\n",
    "y= np.array([4,5,6])\n",
    "z= [7,8,9]"
   ]
  },
  {
   "cell_type": "code",
   "execution_count": 57,
   "id": "cd1fa23a",
   "metadata": {
    "ExecuteTime": {
     "end_time": "2024-04-07T18:03:42.088294Z",
     "start_time": "2024-04-07T18:03:42.076384Z"
    }
   },
   "outputs": [
    {
     "data": {
      "text/plain": [
       "array([1, 2, 3, 4, 5, 6, 7, 8, 9])"
      ]
     },
     "execution_count": 57,
     "metadata": {},
     "output_type": "execute_result"
    }
   ],
   "source": [
    "np.concatenate((x,y,z)) # concat icinde bir tuple veya liste olarak verilmelidir"
   ]
  },
  {
   "cell_type": "code",
   "execution_count": 58,
   "id": "1bd2d6a1",
   "metadata": {
    "ExecuteTime": {
     "end_time": "2024-04-07T18:04:33.442939Z",
     "start_time": "2024-04-07T18:04:33.435996Z"
    }
   },
   "outputs": [
    {
     "data": {
      "text/plain": [
       "array([1, 2, 3, 4, 5, 6, 7, 8, 9])"
      ]
     },
     "execution_count": 58,
     "metadata": {},
     "output_type": "execute_result"
    }
   ],
   "source": [
    "np.concatenate([x,y,z])"
   ]
  },
  {
   "cell_type": "markdown",
   "id": "5895a00d",
   "metadata": {},
   "source": [
    "### <font color='green'> <b>Multidimentional Arrays Concationation <b> <font color='black'> "
   ]
  },
  {
   "cell_type": "code",
   "execution_count": 59,
   "id": "85f14a1b",
   "metadata": {
    "ExecuteTime": {
     "end_time": "2024-04-07T18:06:10.601010Z",
     "start_time": "2024-04-07T18:06:10.590041Z"
    }
   },
   "outputs": [
    {
     "data": {
      "text/plain": [
       "array([[1, 2, 3],\n",
       "       [4, 5, 6]])"
      ]
     },
     "execution_count": 59,
     "metadata": {},
     "output_type": "execute_result"
    }
   ],
   "source": [
    "arr2= np.array([[1,2,3], [4,5,6]])\n",
    "arr2"
   ]
  },
  {
   "cell_type": "code",
   "execution_count": 60,
   "id": "36bb9086",
   "metadata": {
    "ExecuteTime": {
     "end_time": "2024-04-07T18:06:38.821608Z",
     "start_time": "2024-04-07T18:06:38.812292Z"
    }
   },
   "outputs": [
    {
     "data": {
      "text/plain": [
       "array([[1, 2, 3],\n",
       "       [4, 5, 6],\n",
       "       [1, 2, 3],\n",
       "       [4, 5, 6]])"
      ]
     },
     "execution_count": 60,
     "metadata": {},
     "output_type": "execute_result"
    }
   ],
   "source": [
    "np.concatenate([arr2,arr2]) # axis=0 dikeyde alt alta ekleme yapar"
   ]
  },
  {
   "cell_type": "code",
   "execution_count": 61,
   "id": "17677975",
   "metadata": {
    "ExecuteTime": {
     "end_time": "2024-04-07T18:07:32.776865Z",
     "start_time": "2024-04-07T18:07:32.766605Z"
    }
   },
   "outputs": [
    {
     "data": {
      "text/plain": [
       "array([[1, 2, 3, 1, 2, 3],\n",
       "       [4, 5, 6, 4, 5, 6]])"
      ]
     },
     "execution_count": 61,
     "metadata": {},
     "output_type": "execute_result"
    }
   ],
   "source": [
    "np.concatenate([arr2,arr2], axis=1) #axis=1 yani colunm yanyana birlestirme yapar"
   ]
  },
  {
   "cell_type": "markdown",
   "id": "0b956e8b-c012-4b7d-9fe1-be68fe668606",
   "metadata": {},
   "source": [
    "## <font color='green'> <b>Import the numpy package under the name as np & print the numpy version</b><font color='black'>"
   ]
  },
  {
   "cell_type": "code",
   "execution_count": 1,
   "id": "668e8221",
   "metadata": {
    "ExecuteTime": {
     "end_time": "2024-04-07T08:11:46.527331Z",
     "start_time": "2024-04-07T08:11:46.194725Z"
    }
   },
   "outputs": [
    {
     "name": "stdout",
     "output_type": "stream",
     "text": [
      "1.26.4\n"
     ]
    }
   ],
   "source": [
    "import numpy as np\n",
    "print(np.__version__)"
   ]
  },
  {
   "cell_type": "markdown",
   "id": "8c171220-e212-4057-ad4c-e809ba8961fd",
   "metadata": {},
   "source": [
    "## <font color='green'> <b>Create a null vector of size 10</b><font color='black'>"
   ]
  },
  {
   "cell_type": "code",
   "execution_count": 8,
   "id": "107c7c3b",
   "metadata": {},
   "outputs": [
    {
     "data": {
      "text/plain": [
       "array([0., 0., 0., 0., 0., 0., 0., 0., 0., 0.])"
      ]
     },
     "execution_count": 8,
     "metadata": {},
     "output_type": "execute_result"
    }
   ],
   "source": [
    "nullVec = np.zeros(10)\n",
    "nullVec"
   ]
  },
  {
   "cell_type": "markdown",
   "id": "2891b252-a1db-4ab4-a164-47c9cce9a271",
   "metadata": {},
   "source": [
    "## <font color='green'> <b>Create a null vector of size 10 but the fifth value which is 1</b><font color='black'>"
   ]
  },
  {
   "cell_type": "code",
   "execution_count": 9,
   "id": "51e58682",
   "metadata": {},
   "outputs": [
    {
     "data": {
      "text/plain": [
       "array([0., 0., 0., 0., 0., 0., 0., 0., 0., 0.])"
      ]
     },
     "execution_count": 9,
     "metadata": {},
     "output_type": "execute_result"
    }
   ],
   "source": [
    "nullVec2 = np.zeros(10)\n",
    "nullVec2"
   ]
  },
  {
   "cell_type": "code",
   "execution_count": 11,
   "id": "5ca2f2f0",
   "metadata": {},
   "outputs": [
    {
     "data": {
      "text/plain": [
       "array([0., 0., 0., 0., 1., 0., 0., 0., 0., 0.])"
      ]
     },
     "execution_count": 11,
     "metadata": {},
     "output_type": "execute_result"
    }
   ],
   "source": [
    "nullVec2[4] =1\n",
    "nullVec2"
   ]
  },
  {
   "cell_type": "markdown",
   "id": "491e5318-b216-48d8-8f35-82cd66594408",
   "metadata": {},
   "source": [
    "## <font color='green'> <b>Create a vector with values ranging from 10 to 50</b><font color='black'>"
   ]
  },
  {
   "cell_type": "code",
   "execution_count": 12,
   "id": "36253df9",
   "metadata": {},
   "outputs": [
    {
     "data": {
      "text/plain": [
       "array([10, 11, 12, 13, 14, 15, 16, 17, 18, 19, 20, 21, 22, 23, 24, 25, 26,\n",
       "       27, 28, 29, 30, 31, 32, 33, 34, 35, 36, 37, 38, 39, 40, 41, 42, 43,\n",
       "       44, 45, 46, 47, 48, 49, 50])"
      ]
     },
     "execution_count": 12,
     "metadata": {},
     "output_type": "execute_result"
    }
   ],
   "source": [
    "vec1= np.arange(10,51)\n",
    "vec1"
   ]
  },
  {
   "cell_type": "markdown",
   "id": "b7818669-03a5-4f61-b08f-b85b8dd94372",
   "metadata": {},
   "source": [
    "## <font color='green'> <b>Reverse a vector (first element becomes last)</b><font color='black'>"
   ]
  },
  {
   "cell_type": "code",
   "execution_count": 13,
   "id": "027a4256",
   "metadata": {},
   "outputs": [
    {
     "data": {
      "text/plain": [
       "array([50, 49, 48, 47, 46, 45, 44, 43, 42, 41, 40, 39, 38, 37, 36, 35, 34,\n",
       "       33, 32, 31, 30, 29, 28, 27, 26, 25, 24, 23, 22, 21, 20, 19, 18, 17,\n",
       "       16, 15, 14, 13, 12, 11, 10])"
      ]
     },
     "execution_count": 13,
     "metadata": {},
     "output_type": "execute_result"
    }
   ],
   "source": [
    "np.flip(vec1)"
   ]
  },
  {
   "cell_type": "markdown",
   "id": "5f4a94e4-596a-4c85-8356-7eb86d6cacbe",
   "metadata": {},
   "source": [
    "## <font color='green'> <b>Create a 3x3 matrix with values ranging from 0 to 9</b><font color='black'>"
   ]
  },
  {
   "cell_type": "code",
   "execution_count": 15,
   "id": "6bc73f48",
   "metadata": {},
   "outputs": [
    {
     "data": {
      "text/plain": [
       "array([[0, 1, 2],\n",
       "       [3, 4, 5],\n",
       "       [6, 7, 8]])"
      ]
     },
     "execution_count": 15,
     "metadata": {},
     "output_type": "execute_result"
    }
   ],
   "source": [
    "matrix1 = np.arange(0,9).reshape(3,3)\n",
    "matrix1"
   ]
  },
  {
   "cell_type": "markdown",
   "id": "0df95fd1-f316-4976-849b-756f927f382c",
   "metadata": {},
   "source": [
    "## <font color='green'> <b>Find indices of non­zero elements from [1,2,0,0,4,0]</b><font color='black'>\n",
    "**Extra research is required**"
   ]
  },
  {
   "cell_type": "code",
   "execution_count": 19,
   "id": "95edf755",
   "metadata": {},
   "outputs": [
    {
     "data": {
      "text/plain": [
       "(array([0, 1, 4], dtype=int64),)"
      ]
     },
     "execution_count": 19,
     "metadata": {},
     "output_type": "execute_result"
    }
   ],
   "source": [
    "arr1 = np.array([1,2,0,0,4,0])\n",
    "findNonZeros = np.nonzero(arr1) # degeri 0 olmayan indexleri getirdi\n",
    "findNonZeros"
   ]
  },
  {
   "cell_type": "markdown",
   "id": "efc45ac3-9297-4ea0-9fd8-8534c46935e4",
   "metadata": {},
   "source": [
    "## <font color='green'> <b>Create a 3x3 identity matrix</b><font color='black'>\n",
    "Identity matrix, kare matrisler için özel bir türdür. Diagonalindeki tüm elemanlar 1, diğer elemanlar ise 0 olan kare matrisdir."
   ]
  },
  {
   "cell_type": "code",
   "execution_count": 22,
   "id": "bb3b3ade",
   "metadata": {},
   "outputs": [
    {
     "data": {
      "text/plain": [
       "array([[1., 0., 0.],\n",
       "       [0., 1., 0.],\n",
       "       [0., 0., 1.]])"
      ]
     },
     "execution_count": 22,
     "metadata": {},
     "output_type": "execute_result"
    }
   ],
   "source": [
    "identity_matrix = np.eye(3) #identity=birim=eye\n",
    "identity_matrix"
   ]
  },
  {
   "cell_type": "markdown",
   "id": "aa19488a-0613-48f3-8604-4499afe134e8",
   "metadata": {},
   "source": [
    "## <font color='green'> <b>Create a 3x3x3 array with random values</b><font color='black'>"
   ]
  },
  {
   "cell_type": "code",
   "execution_count": 70,
   "id": "0465ead9",
   "metadata": {
    "ExecuteTime": {
     "end_time": "2024-04-07T18:38:34.423300Z",
     "start_time": "2024-04-07T18:38:34.413198Z"
    }
   },
   "outputs": [
    {
     "data": {
      "text/plain": [
       "array([[[27, 27, 43],\n",
       "        [29, 61, 74],\n",
       "        [61,  0, 26]],\n",
       "\n",
       "       [[61, 76,  2],\n",
       "        [69, 71, 26],\n",
       "        [ 8, 61, 36]],\n",
       "\n",
       "       [[50, 43, 23],\n",
       "        [78, 58, 31],\n",
       "        [51, 61, 57]]])"
      ]
     },
     "execution_count": 70,
     "metadata": {},
     "output_type": "execute_result"
    }
   ],
   "source": [
    "np.random.randint(0,82, 27).reshape(3,3,3)"
   ]
  },
  {
   "cell_type": "markdown",
   "id": "456bd772-149a-410a-9c86-04f1b19c6ae1",
   "metadata": {},
   "source": [
    "## <font color='green'> <b>Create a 10x10 array with random values and find the minimum and maximum values</b><font color='black'>"
   ]
  },
  {
   "cell_type": "code",
   "execution_count": 84,
   "id": "ec01322d",
   "metadata": {
    "ExecuteTime": {
     "end_time": "2024-04-07T18:47:07.128805Z",
     "start_time": "2024-04-07T18:47:07.116164Z"
    }
   },
   "outputs": [
    {
     "data": {
      "text/plain": [
       "array([[102, 435, 860, 270, 106,  71, 700,  20, 614, 121],\n",
       "       [466, 214, 330, 458,  87, 372,  99, 871, 663, 130],\n",
       "       [661, 308, 769, 343, 491, 413, 805, 385, 191, 955],\n",
       "       [276, 160, 459, 313,  21, 252, 747, 856, 560, 474],\n",
       "       [ 58, 510, 681, 475, 699, 975, 782, 189, 957, 686],\n",
       "       [957, 562, 875, 566, 243, 831, 504, 130, 484, 818],\n",
       "       [646,  20, 840, 166, 273, 387, 600, 315,  13, 241],\n",
       "       [776, 345, 564, 897, 339,  91, 366, 955, 454, 427],\n",
       "       [508, 775, 942,  34, 205,  80, 931, 561, 871, 387],\n",
       "       [  1, 389, 565, 105, 771, 821, 476, 702, 401, 729]])"
      ]
     },
     "execution_count": 84,
     "metadata": {},
     "output_type": "execute_result"
    }
   ],
   "source": [
    "np.random.seed(42) # ---> randint(start,stop-adet)\n",
    "x= np.random.randint(0,1000,100).reshape(10,10) #[0-1000) el kadar rasgele 100 adet sayi uretir\n",
    "x"
   ]
  },
  {
   "cell_type": "code",
   "execution_count": 87,
   "id": "8fd55844",
   "metadata": {
    "ExecuteTime": {
     "end_time": "2024-04-07T18:49:06.163048Z",
     "start_time": "2024-04-07T18:49:06.155108Z"
    },
    "scrolled": true
   },
   "outputs": [
    {
     "name": "stdout",
     "output_type": "stream",
     "text": [
      "1\n",
      "975\n"
     ]
    }
   ],
   "source": [
    "print(np.min(x))\n",
    "print(np.max(x))"
   ]
  },
  {
   "cell_type": "code",
   "execution_count": 88,
   "id": "1a5c848d",
   "metadata": {
    "ExecuteTime": {
     "end_time": "2024-04-07T18:49:26.993982Z",
     "start_time": "2024-04-07T18:49:26.984798Z"
    }
   },
   "outputs": [
    {
     "data": {
      "text/plain": [
       "1"
      ]
     },
     "execution_count": 88,
     "metadata": {},
     "output_type": "execute_result"
    }
   ],
   "source": [
    "x.min()"
   ]
  },
  {
   "cell_type": "code",
   "execution_count": 89,
   "id": "d0a4b93f",
   "metadata": {
    "ExecuteTime": {
     "end_time": "2024-04-07T18:49:32.290696Z",
     "start_time": "2024-04-07T18:49:32.281986Z"
    }
   },
   "outputs": [
    {
     "data": {
      "text/plain": [
       "975"
      ]
     },
     "execution_count": 89,
     "metadata": {},
     "output_type": "execute_result"
    }
   ],
   "source": [
    "x.max()"
   ]
  },
  {
   "cell_type": "markdown",
   "id": "8cbf0c5f-e2dd-4418-b923-a52bbda70b7e",
   "metadata": {},
   "source": [
    "## <font color='green'> <b>Create a random vector of size 30 and find the mean value</b><font color='black'>"
   ]
  },
  {
   "cell_type": "code",
   "execution_count": 104,
   "id": "625f82b7",
   "metadata": {
    "ExecuteTime": {
     "end_time": "2024-04-07T18:52:54.712295Z",
     "start_time": "2024-04-07T18:52:54.700560Z"
    },
    "scrolled": true
   },
   "outputs": [
    {
     "data": {
      "text/plain": [
       "array([51, 92, 14, 71, 60, 20, 82, 86, 74, 74, 87, 99, 23,  2, 21, 52,  1,\n",
       "       87, 29, 37,  1, 63, 59, 20, 32, 75, 57, 21, 88, 48])"
      ]
     },
     "execution_count": 104,
     "metadata": {},
     "output_type": "execute_result"
    }
   ],
   "source": [
    "np.random.seed(42)\n",
    "xx= np.random.randint(0,100,30)\n",
    "xx"
   ]
  },
  {
   "cell_type": "code",
   "execution_count": 106,
   "id": "5cb68a42",
   "metadata": {
    "ExecuteTime": {
     "end_time": "2024-04-07T18:52:58.754190Z",
     "start_time": "2024-04-07T18:52:58.743963Z"
    }
   },
   "outputs": [
    {
     "data": {
      "text/plain": [
       "50.86666666666667"
      ]
     },
     "execution_count": 106,
     "metadata": {},
     "output_type": "execute_result"
    }
   ],
   "source": [
    "xx.mean()"
   ]
  },
  {
   "cell_type": "code",
   "execution_count": 107,
   "id": "61646d8f",
   "metadata": {
    "ExecuteTime": {
     "end_time": "2024-04-07T18:52:59.994173Z",
     "start_time": "2024-04-07T18:52:59.986324Z"
    }
   },
   "outputs": [
    {
     "data": {
      "text/plain": [
       "50.86666666666667"
      ]
     },
     "execution_count": 107,
     "metadata": {},
     "output_type": "execute_result"
    }
   ],
   "source": [
    "np.mean(xx)"
   ]
  },
  {
   "cell_type": "code",
   "execution_count": 105,
   "id": "ee3951bb",
   "metadata": {
    "ExecuteTime": {
     "end_time": "2024-04-07T18:52:57.358477Z",
     "start_time": "2024-04-07T18:52:57.349854Z"
    }
   },
   "outputs": [
    {
     "data": {
      "text/plain": [
       "47.63333333333333"
      ]
     },
     "execution_count": 105,
     "metadata": {},
     "output_type": "execute_result"
    }
   ],
   "source": [
    "np.random.randint(0,100,30).mean() # he calistimada rastgele deger atamasi yapar"
   ]
  },
  {
   "cell_type": "markdown",
   "id": "dcdb4e96",
   "metadata": {},
   "source": [
    "## <font color='green'> <b>How can I create an array with dimensions (6, 7, 8) using arange, and find its last element?</b><font color='black'>"
   ]
  },
  {
   "cell_type": "code",
   "execution_count": 110,
   "id": "3b1871ea",
   "metadata": {
    "ExecuteTime": {
     "end_time": "2024-04-07T18:56:00.073222Z",
     "start_time": "2024-04-07T18:56:00.065487Z"
    }
   },
   "outputs": [
    {
     "data": {
      "text/plain": [
       "336"
      ]
     },
     "execution_count": 110,
     "metadata": {},
     "output_type": "execute_result"
    }
   ],
   "source": [
    "6*7*8"
   ]
  },
  {
   "cell_type": "code",
   "execution_count": 109,
   "id": "ae892276",
   "metadata": {
    "ExecuteTime": {
     "end_time": "2024-04-07T18:55:23.487241Z",
     "start_time": "2024-04-07T18:55:23.475258Z"
    }
   },
   "outputs": [
    {
     "data": {
      "text/plain": [
       "335"
      ]
     },
     "execution_count": 109,
     "metadata": {},
     "output_type": "execute_result"
    }
   ],
   "source": [
    "xx1= np.arange(6*7*8).reshape(6,7,8)\n",
    "xx1[-1,-1,-1]"
   ]
  },
  {
   "cell_type": "markdown",
   "id": "afc74cce-1589-434f-929e-d4f809eac34d",
   "metadata": {},
   "source": [
    "## <font color='green'> <b>Create a 5x5 matrix with row values ranging from 0 to 5</b><font color='black'>"
   ]
  },
  {
   "cell_type": "code",
   "execution_count": 112,
   "id": "522397f4",
   "metadata": {
    "ExecuteTime": {
     "end_time": "2024-04-07T18:58:48.700483Z",
     "start_time": "2024-04-07T18:58:48.688892Z"
    }
   },
   "outputs": [
    {
     "data": {
      "text/plain": [
       "array([[0, 1, 2, 3, 4],\n",
       "       [0, 1, 2, 3, 4],\n",
       "       [0, 1, 2, 3, 4],\n",
       "       [0, 1, 2, 3, 4],\n",
       "       [0, 1, 2, 3, 4]])"
      ]
     },
     "execution_count": 112,
     "metadata": {},
     "output_type": "execute_result"
    }
   ],
   "source": [
    "mtx = np.full((5,5), np.arange(5))\n",
    "mtx"
   ]
  },
  {
   "cell_type": "markdown",
   "id": "cbea287c-b2ef-4c94-b4bc-e047ee69abd1",
   "metadata": {},
   "source": [
    "## <font color='green'> <b>Create a vector of size 12 with values ranging from 0 to 1 (excluding 0 and 1)</b><font color='black'>"
   ]
  },
  {
   "cell_type": "code",
   "execution_count": 113,
   "id": "b6caf3c4",
   "metadata": {
    "ExecuteTime": {
     "end_time": "2024-04-07T19:00:05.233271Z",
     "start_time": "2024-04-07T19:00:05.220660Z"
    }
   },
   "outputs": [
    {
     "data": {
      "text/plain": [
       "array([0.1       , 0.18181818, 0.26363636, 0.34545455, 0.42727273,\n",
       "       0.50909091, 0.59090909, 0.67272727, 0.75454545, 0.83636364,\n",
       "       0.91818182, 1.        ])"
      ]
     },
     "execution_count": 113,
     "metadata": {},
     "output_type": "execute_result"
    }
   ],
   "source": [
    "np.linspace(0.1, 1, 12) "
   ]
  },
  {
   "cell_type": "markdown",
   "id": "7dd0a26c",
   "metadata": {},
   "source": [
    "Returns `num` evenly spaced samples, calculated over the\n",
    "interval [`start`, `stop`].\n",
    "\n",
    "The endpoint of the interval can optionally be excluded. Default is True\n"
   ]
  },
  {
   "cell_type": "code",
   "execution_count": 115,
   "id": "a6a32c4c",
   "metadata": {
    "ExecuteTime": {
     "end_time": "2024-04-07T19:06:43.277145Z",
     "start_time": "2024-04-07T19:06:43.100945Z"
    }
   },
   "outputs": [
    {
     "data": {
      "image/png": "[encoded data removed]",
      "text/plain": [
       "<Figure size 640x480 with 1 Axes>"
      ]
     },
     "metadata": {},
     "output_type": "display_data"
    }
   ],
   "source": [
    ">>> import matplotlib.pyplot as plt\n",
    "\n",
    ">>> N = 8\n",
    ">>> y = np.zeros(N)\n",
    "\n",
    ">>> x1 = np.linspace(0, 10, N, endpoint=True)\n",
    ">>> x2 = np.linspace(0, 10, N, endpoint=False)\n",
    "\n",
    ">>> plt.plot(x1, y, 'o')\n",
    ">>> plt.plot(x2, y + 0.5, 'o')\n",
    ">>> plt.ylim([-0.5, 1])\n",
    "\n",
    ">>> plt.show()"
   ]
  },
  {
   "cell_type": "markdown",
   "id": "1dc7d714-45a5-4bc7-a52e-37abe31bfb1f",
   "metadata": {},
   "source": [
    "## <font color='green'> <b>Create a random vector of size 10 and sort it</b><font color='black'>"
   ]
  },
  {
   "cell_type": "code",
   "execution_count": 118,
   "id": "c0a59fbf",
   "metadata": {
    "ExecuteTime": {
     "end_time": "2024-04-07T19:09:15.851697Z",
     "start_time": "2024-04-07T19:09:15.841360Z"
    }
   },
   "outputs": [
    {
     "data": {
      "text/plain": [
       "array([46, 34, 77, 80, 35, 49,  3,  1,  5, 53])"
      ]
     },
     "execution_count": 118,
     "metadata": {},
     "output_type": "execute_result"
    }
   ],
   "source": [
    "vec= np.random.randint(0,100,10)\n",
    "vec"
   ]
  },
  {
   "cell_type": "code",
   "execution_count": 120,
   "id": "a0605f04",
   "metadata": {
    "ExecuteTime": {
     "end_time": "2024-04-07T19:09:48.571170Z",
     "start_time": "2024-04-07T19:09:48.560940Z"
    }
   },
   "outputs": [
    {
     "data": {
      "text/plain": [
       "array([ 1,  3,  5, 34, 35, 46, 49, 53, 77, 80])"
      ]
     },
     "execution_count": 120,
     "metadata": {},
     "output_type": "execute_result"
    }
   ],
   "source": [
    "np.sort(vec)"
   ]
  },
  {
   "cell_type": "markdown",
   "id": "0d58bab8-cab1-4318-9405-6e54a17ac346",
   "metadata": {},
   "source": [
    "## <font color='green'> <b>Consider two random array A anb B, check if they are equal</b><font color='black'>\n",
    "**Extra research is required**"
   ]
  },
  {
   "cell_type": "code",
   "execution_count": 121,
   "id": "07d21f6d",
   "metadata": {
    "ExecuteTime": {
     "end_time": "2024-04-07T19:12:09.015185Z",
     "start_time": "2024-04-07T19:12:09.009758Z"
    }
   },
   "outputs": [],
   "source": [
    "A= np.random.randint(0,100,10)\n",
    "B=np.random.randint(0,100,10)"
   ]
  },
  {
   "cell_type": "code",
   "execution_count": 122,
   "id": "12166fba",
   "metadata": {
    "ExecuteTime": {
     "end_time": "2024-04-07T19:12:28.721764Z",
     "start_time": "2024-04-07T19:12:28.713603Z"
    },
    "scrolled": true
   },
   "outputs": [
    {
     "data": {
      "text/plain": [
       "array([False, False, False, False, False, False, False, False, False,\n",
       "       False])"
      ]
     },
     "execution_count": 122,
     "metadata": {},
     "output_type": "execute_result"
    }
   ],
   "source": [
    "A==B"
   ]
  },
  {
   "cell_type": "code",
   "execution_count": 124,
   "id": "aaecd0fc",
   "metadata": {
    "ExecuteTime": {
     "end_time": "2024-04-07T19:14:10.119580Z",
     "start_time": "2024-04-07T19:14:10.110817Z"
    }
   },
   "outputs": [
    {
     "data": {
      "text/plain": [
       "False"
      ]
     },
     "execution_count": 124,
     "metadata": {},
     "output_type": "execute_result"
    }
   ],
   "source": [
    "eql= np.array_equal(A,B)   # array_equal() iki diziyi karsilasitirir, \n",
    "eql"
   ]
  },
  {
   "cell_type": "code",
   "execution_count": 126,
   "id": "dc5f8849",
   "metadata": {
    "ExecuteTime": {
     "end_time": "2024-04-07T19:14:51.017144Z",
     "start_time": "2024-04-07T19:14:51.010069Z"
    }
   },
   "outputs": [
    {
     "name": "stdout",
     "output_type": "stream",
     "text": [
      "A dizisi: [ 3 53 92 62 17 89 43 33 73 61]\n",
      "B dizisi: [99 13 94 47 14 71 77 86 61 39]\n",
      "A ve B dizileri eşit mi: False\n"
     ]
    }
   ],
   "source": [
    "print(f\"A dizisi: {A}\")\n",
    "print(f\"B dizisi: {B}\")\n",
    "print(f\"A ve B dizileri eşit mi: {eql}\")"
   ]
  },
  {
   "cell_type": "markdown",
   "id": "add060d3-6cca-47eb-8a48-2b9f33227130",
   "metadata": {},
   "source": [
    "## <font color='green'> <b>Generate a random vector of size 10 and replace the maximum value with 0</b><font color='black'>"
   ]
  },
  {
   "cell_type": "code",
   "execution_count": 128,
   "id": "6edc3993",
   "metadata": {
    "ExecuteTime": {
     "end_time": "2024-04-07T19:17:14.185281Z",
     "start_time": "2024-04-07T19:17:14.173788Z"
    }
   },
   "outputs": [
    {
     "data": {
      "text/plain": [
       "array([51, 92, 14, 71, 60, 20, 82, 86, 74, 74])"
      ]
     },
     "execution_count": 128,
     "metadata": {},
     "output_type": "execute_result"
    }
   ],
   "source": [
    "np.random.seed(42)\n",
    "a= np.random.randint(0,100,10)\n",
    "a"
   ]
  },
  {
   "cell_type": "code",
   "execution_count": 139,
   "id": "b92f9db9",
   "metadata": {
    "ExecuteTime": {
     "end_time": "2024-04-07T19:20:59.967718Z",
     "start_time": "2024-04-07T19:20:59.957354Z"
    }
   },
   "outputs": [
    {
     "data": {
      "text/plain": [
       "array([14, 20, 51, 60, 71, 74, 74, 82, 86, 92])"
      ]
     },
     "execution_count": 139,
     "metadata": {},
     "output_type": "execute_result"
    }
   ],
   "source": [
    "b= np.sort(a)\n",
    "b"
   ]
  },
  {
   "cell_type": "code",
   "execution_count": 141,
   "id": "6a49ec96",
   "metadata": {
    "ExecuteTime": {
     "end_time": "2024-04-07T19:21:20.547635Z",
     "start_time": "2024-04-07T19:21:20.538407Z"
    }
   },
   "outputs": [
    {
     "data": {
      "text/plain": [
       "array([14, 20, 51, 60, 71, 74, 74, 82, 86,  0])"
      ]
     },
     "execution_count": 141,
     "metadata": {},
     "output_type": "execute_result"
    }
   ],
   "source": [
    "b[b.argmax()]= 0  # yeni assign icin index verilmeli argmax() max degerin indexini verir\n",
    "b"
   ]
  },
  {
   "cell_type": "markdown",
   "id": "3d99138b-91e6-4d19-9195-1f384a68063b",
   "metadata": {},
   "source": [
    "## <font color='green'> <b>How to find the most frequent value in an array?</b><font color='black'>\n",
    "**Extra research is required**"
   ]
  },
  {
   "cell_type": "code",
   "execution_count": 148,
   "id": "19a6efab",
   "metadata": {
    "ExecuteTime": {
     "end_time": "2024-04-07T19:26:57.974195Z",
     "start_time": "2024-04-07T19:26:57.966563Z"
    }
   },
   "outputs": [
    {
     "data": {
      "text/plain": [
       "array([3, 3, 4, 2, 0, 3, 1, 3, 1, 1])"
      ]
     },
     "execution_count": 148,
     "metadata": {},
     "output_type": "execute_result"
    }
   ],
   "source": [
    "y= np.random.randint(0,5,10)\n",
    "y"
   ]
  },
  {
   "cell_type": "code",
   "execution_count": 155,
   "id": "aca6f1b0",
   "metadata": {
    "ExecuteTime": {
     "end_time": "2024-04-07T19:30:12.445753Z",
     "start_time": "2024-04-07T19:30:12.434587Z"
    },
    "scrolled": true
   },
   "outputs": [
    {
     "data": {
      "text/plain": [
       "array([1, 3, 1, 4, 1], dtype=int64)"
      ]
     },
     "execution_count": 155,
     "metadata": {},
     "output_type": "execute_result"
    }
   ],
   "source": [
    "np.bincount(y)  #Count number of occurrences of each value in array of non-negative ints.\n",
    "                # her bir unique elmani siralar ve kac adet oldugunu yazar"
   ]
  },
  {
   "cell_type": "code",
   "execution_count": 158,
   "id": "35e5674f",
   "metadata": {
    "ExecuteTime": {
     "end_time": "2024-04-07T19:30:55.315849Z",
     "start_time": "2024-04-07T19:30:55.308318Z"
    }
   },
   "outputs": [
    {
     "name": "stdout",
     "output_type": "stream",
     "text": [
      "[0 1 1 1 2 3 3 3 3 4]\n",
      "[1 3 1 4 1]\n",
      "3\n"
     ]
    }
   ],
   "source": [
    "print(np.sort(y))\n",
    "print(np.bincount(y))\n",
    "print(np.bincount(y).argmax())"
   ]
  },
  {
   "cell_type": "markdown",
   "id": "643742e8",
   "metadata": {},
   "source": [
    "## <font color='green'> <b>Create a 2d array with 1 on the border and 0 inside</b><font color='black'>"
   ]
  },
  {
   "cell_type": "code",
   "execution_count": 161,
   "id": "affc3c2a",
   "metadata": {
    "ExecuteTime": {
     "end_time": "2024-04-07T19:33:57.437504Z",
     "start_time": "2024-04-07T19:33:57.427243Z"
    }
   },
   "outputs": [
    {
     "data": {
      "text/plain": [
       "array([[1., 1., 1., 1., 1.],\n",
       "       [1., 1., 1., 1., 1.],\n",
       "       [1., 1., 1., 1., 1.],\n",
       "       [1., 1., 1., 1., 1.],\n",
       "       [1., 1., 1., 1., 1.]])"
      ]
     },
     "execution_count": 161,
     "metadata": {},
     "output_type": "execute_result"
    }
   ],
   "source": [
    "z= np.ones((5,5))\n",
    "z"
   ]
  },
  {
   "cell_type": "code",
   "execution_count": 162,
   "id": "31184548",
   "metadata": {
    "ExecuteTime": {
     "end_time": "2024-04-07T19:34:32.827714Z",
     "start_time": "2024-04-07T19:34:32.820255Z"
    }
   },
   "outputs": [],
   "source": [
    "z[1:-1, 1:-1]=0      # [1-(-1)) seklinde ic kismi degistirir"
   ]
  },
  {
   "cell_type": "code",
   "execution_count": 163,
   "id": "91fda575",
   "metadata": {
    "ExecuteTime": {
     "end_time": "2024-04-07T19:34:41.282855Z",
     "start_time": "2024-04-07T19:34:41.274436Z"
    }
   },
   "outputs": [
    {
     "data": {
      "text/plain": [
       "array([[1., 1., 1., 1., 1.],\n",
       "       [1., 0., 0., 0., 1.],\n",
       "       [1., 0., 0., 0., 1.],\n",
       "       [1., 0., 0., 0., 1.],\n",
       "       [1., 1., 1., 1., 1.]])"
      ]
     },
     "execution_count": 163,
     "metadata": {},
     "output_type": "execute_result"
    }
   ],
   "source": [
    "z"
   ]
  },
  {
   "cell_type": "markdown",
   "id": "823dbb42",
   "metadata": {},
   "source": [
    "## <font color='green'> <b>Create a 5x5 matrix with values 1,2,3,4 just below the diagonal</b><font color='black'>\n",
    "**Extra research may be required**"
   ]
  },
  {
   "attachments": {
    "image.png": {
     "image/png": "[encoded data removed]"
    }
   },
   "cell_type": "markdown",
   "id": "e65c7127",
   "metadata": {},
   "source": [
    "![image.png](attachment:image.png)"
   ]
  },
  {
   "cell_type": "code",
   "execution_count": 164,
   "id": "4b821dcd",
   "metadata": {
    "ExecuteTime": {
     "end_time": "2024-04-07T19:36:35.682576Z",
     "start_time": "2024-04-07T19:36:35.670857Z"
    },
    "scrolled": false
   },
   "outputs": [
    {
     "data": {
      "text/plain": [
       "array([[0, 0, 0, 0, 0],\n",
       "       [1, 0, 0, 0, 0],\n",
       "       [0, 2, 0, 0, 0],\n",
       "       [0, 0, 3, 0, 0],\n",
       "       [0, 0, 0, 4, 0]])"
      ]
     },
     "execution_count": 164,
     "metadata": {},
     "output_type": "execute_result"
    }
   ],
   "source": [
    "a = np.diag([1,2,3,4], k= -1)  # diagonal'i [1,2,3,4] den olusan ve kosegenin -1 altindan baslayan, geri kalan elemanlari 0 olan matrix\n",
    "a"
   ]
  },
  {
   "cell_type": "code",
   "execution_count": 167,
   "id": "2ab56884",
   "metadata": {
    "ExecuteTime": {
     "end_time": "2024-04-07T19:39:22.686486Z",
     "start_time": "2024-04-07T19:39:22.677973Z"
    },
    "scrolled": true
   },
   "outputs": [
    {
     "data": {
      "text/plain": [
       "array([[0, 1, 2],\n",
       "       [3, 4, 5],\n",
       "       [6, 7, 8]])"
      ]
     },
     "execution_count": 167,
     "metadata": {},
     "output_type": "execute_result"
    }
   ],
   "source": [
    "#Examples\n",
    ">>> x = np.arange(9).reshape((3,3))\n",
    ">>> x"
   ]
  },
  {
   "cell_type": "code",
   "execution_count": 168,
   "id": "7b368d01",
   "metadata": {
    "ExecuteTime": {
     "end_time": "2024-04-07T19:40:47.485194Z",
     "start_time": "2024-04-07T19:40:47.474192Z"
    }
   },
   "outputs": [
    {
     "data": {
      "text/plain": [
       "array([0, 4, 8])"
      ]
     },
     "execution_count": 168,
     "metadata": {},
     "output_type": "execute_result"
    }
   ],
   "source": [
    ">>> np.diag(x)"
   ]
  },
  {
   "cell_type": "code",
   "execution_count": 169,
   "id": "0e746c24",
   "metadata": {
    "ExecuteTime": {
     "end_time": "2024-04-07T19:40:48.817908Z",
     "start_time": "2024-04-07T19:40:48.809110Z"
    }
   },
   "outputs": [
    {
     "data": {
      "text/plain": [
       "array([1, 5])"
      ]
     },
     "execution_count": 169,
     "metadata": {},
     "output_type": "execute_result"
    }
   ],
   "source": [
    ">>> np.diag(x, k=1)"
   ]
  },
  {
   "cell_type": "code",
   "execution_count": 170,
   "id": "430705ad",
   "metadata": {
    "ExecuteTime": {
     "end_time": "2024-04-07T19:40:50.034646Z",
     "start_time": "2024-04-07T19:40:50.023589Z"
    }
   },
   "outputs": [
    {
     "data": {
      "text/plain": [
       "array([3, 7])"
      ]
     },
     "execution_count": 170,
     "metadata": {},
     "output_type": "execute_result"
    }
   ],
   "source": [
    ">>> np.diag(x, k=-1)"
   ]
  },
  {
   "cell_type": "code",
   "execution_count": 173,
   "id": "8327860c",
   "metadata": {
    "ExecuteTime": {
     "end_time": "2024-04-07T19:42:07.486697Z",
     "start_time": "2024-04-07T19:42:07.477745Z"
    }
   },
   "outputs": [
    {
     "data": {
      "text/plain": [
       "array([[0, 0, 0],\n",
       "       [0, 4, 0],\n",
       "       [0, 0, 8]])"
      ]
     },
     "execution_count": 173,
     "metadata": {},
     "output_type": "execute_result"
    }
   ],
   "source": [
    ">>> np.diag(np.diag(x))"
   ]
  },
  {
   "cell_type": "markdown",
   "id": "19b54bac",
   "metadata": {},
   "source": [
    "## <font color='green'> <b>Create a 8x8 matrix and fill it with a checkerboard pattern</b><font color='black'>"
   ]
  },
  {
   "attachments": {
    "image.png": {
     "image/png": "[encoded data removed]"
    }
   },
   "cell_type": "markdown",
   "id": "2ce4419c",
   "metadata": {},
   "source": [
    "![image.png](attachment:image.png)"
   ]
  },
  {
   "cell_type": "code",
   "execution_count": 175,
   "id": "d51e25f9",
   "metadata": {
    "ExecuteTime": {
     "end_time": "2024-04-07T19:44:14.778544Z",
     "start_time": "2024-04-07T19:44:14.767789Z"
    }
   },
   "outputs": [
    {
     "data": {
      "text/plain": [
       "array([[0., 0., 0., 0., 0., 0., 0., 0.],\n",
       "       [0., 0., 0., 0., 0., 0., 0., 0.],\n",
       "       [0., 0., 0., 0., 0., 0., 0., 0.],\n",
       "       [0., 0., 0., 0., 0., 0., 0., 0.],\n",
       "       [0., 0., 0., 0., 0., 0., 0., 0.],\n",
       "       [0., 0., 0., 0., 0., 0., 0., 0.],\n",
       "       [0., 0., 0., 0., 0., 0., 0., 0.],\n",
       "       [0., 0., 0., 0., 0., 0., 0., 0.]])"
      ]
     },
     "execution_count": 175,
     "metadata": {},
     "output_type": "execute_result"
    }
   ],
   "source": [
    "a=np.zeros((8,8))  #default dtype= float\n",
    "a"
   ]
  },
  {
   "cell_type": "code",
   "execution_count": 176,
   "id": "82339e77",
   "metadata": {
    "ExecuteTime": {
     "end_time": "2024-04-07T19:44:31.097699Z",
     "start_time": "2024-04-07T19:44:31.087828Z"
    }
   },
   "outputs": [
    {
     "data": {
      "text/plain": [
       "array([[0, 0, 0, 0, 0, 0, 0, 0],\n",
       "       [0, 0, 0, 0, 0, 0, 0, 0],\n",
       "       [0, 0, 0, 0, 0, 0, 0, 0],\n",
       "       [0, 0, 0, 0, 0, 0, 0, 0],\n",
       "       [0, 0, 0, 0, 0, 0, 0, 0],\n",
       "       [0, 0, 0, 0, 0, 0, 0, 0],\n",
       "       [0, 0, 0, 0, 0, 0, 0, 0],\n",
       "       [0, 0, 0, 0, 0, 0, 0, 0]])"
      ]
     },
     "execution_count": 176,
     "metadata": {},
     "output_type": "execute_result"
    }
   ],
   "source": [
    "a=np.zeros((8,8), dtype=int) \n",
    "a"
   ]
  },
  {
   "cell_type": "code",
   "execution_count": 178,
   "id": "3618fff2",
   "metadata": {
    "ExecuteTime": {
     "end_time": "2024-04-07T19:46:09.776110Z",
     "start_time": "2024-04-07T19:46:09.766104Z"
    },
    "scrolled": true
   },
   "outputs": [
    {
     "data": {
      "text/plain": [
       "array([[1, 0, 1, 0, 1, 0, 1, 0],\n",
       "       [0, 0, 0, 0, 0, 0, 0, 0],\n",
       "       [1, 0, 1, 0, 1, 0, 1, 0],\n",
       "       [0, 0, 0, 0, 0, 0, 0, 0],\n",
       "       [1, 0, 1, 0, 1, 0, 1, 0],\n",
       "       [0, 0, 0, 0, 0, 0, 0, 0],\n",
       "       [1, 0, 1, 0, 1, 0, 1, 0],\n",
       "       [0, 0, 0, 0, 0, 0, 0, 0]])"
      ]
     },
     "execution_count": 178,
     "metadata": {},
     "output_type": "execute_result"
    }
   ],
   "source": [
    "a[::2, ::2]=1\n",
    "a"
   ]
  },
  {
   "cell_type": "code",
   "execution_count": 179,
   "id": "fa9967d6",
   "metadata": {
    "ExecuteTime": {
     "end_time": "2024-04-07T19:46:59.752374Z",
     "start_time": "2024-04-07T19:46:59.743839Z"
    }
   },
   "outputs": [
    {
     "data": {
      "text/plain": [
       "array([[1, 0, 1, 0, 1, 0, 1, 0],\n",
       "       [0, 1, 0, 1, 0, 1, 0, 1],\n",
       "       [1, 0, 1, 0, 1, 0, 1, 0],\n",
       "       [0, 1, 0, 1, 0, 1, 0, 1],\n",
       "       [1, 0, 1, 0, 1, 0, 1, 0],\n",
       "       [0, 1, 0, 1, 0, 1, 0, 1],\n",
       "       [1, 0, 1, 0, 1, 0, 1, 0],\n",
       "       [0, 1, 0, 1, 0, 1, 0, 1]])"
      ]
     },
     "execution_count": 179,
     "metadata": {},
     "output_type": "execute_result"
    }
   ],
   "source": [
    "a[1::2, 1::2]=1\n",
    "a"
   ]
  },
  {
   "cell_type": "markdown",
   "id": "50007555",
   "metadata": {},
   "source": [
    "## <font color='green'> <b>Create a checkerboard 8x8 matrix using the tile function</b><font color='black'>\n",
    "**Extra research is required**"
   ]
  },
  {
   "cell_type": "code",
   "execution_count": 180,
   "id": "3aba5dc2",
   "metadata": {
    "ExecuteTime": {
     "end_time": "2024-04-07T19:47:37.503958Z",
     "start_time": "2024-04-07T19:47:37.491872Z"
    },
    "scrolled": true
   },
   "outputs": [
    {
     "data": {
      "text/plain": [
       "array([[0, 1, 0, 1, 0, 1, 0, 1],\n",
       "       [1, 0, 1, 0, 1, 0, 1, 0],\n",
       "       [0, 1, 0, 1, 0, 1, 0, 1],\n",
       "       [1, 0, 1, 0, 1, 0, 1, 0],\n",
       "       [0, 1, 0, 1, 0, 1, 0, 1],\n",
       "       [1, 0, 1, 0, 1, 0, 1, 0],\n",
       "       [0, 1, 0, 1, 0, 1, 0, 1],\n",
       "       [1, 0, 1, 0, 1, 0, 1, 0]])"
      ]
     },
     "execution_count": 180,
     "metadata": {},
     "output_type": "execute_result"
    }
   ],
   "source": [
    "np.tile( np.array([[0,1],[1,0]]), (4,4)) "
   ]
  },
  {
   "cell_type": "code",
   "execution_count": 182,
   "id": "f2240a3c",
   "metadata": {
    "ExecuteTime": {
     "end_time": "2024-04-07T19:50:18.494180Z",
     "start_time": "2024-04-07T19:50:18.485153Z"
    }
   },
   "outputs": [
    {
     "data": {
      "text/plain": [
       "array([0, 1, 2, 0, 1, 2])"
      ]
     },
     "execution_count": 182,
     "metadata": {},
     "output_type": "execute_result"
    }
   ],
   "source": [
    "#Construct an array by repeating A the number of times given by reps.\n",
    "\n",
    "#Examples\n",
    "\n",
    "a = np.array([0, 1, 2])\n",
    "np.tile(a, 2)  # a dizisini 2 kez tekrar et"
   ]
  },
  {
   "cell_type": "code",
   "execution_count": 183,
   "id": "d308e188",
   "metadata": {
    "ExecuteTime": {
     "end_time": "2024-04-07T19:51:16.681621Z",
     "start_time": "2024-04-07T19:51:16.670839Z"
    }
   },
   "outputs": [
    {
     "data": {
      "text/plain": [
       "array([[0, 1, 2, 0, 1, 2],\n",
       "       [0, 1, 2, 0, 1, 2]])"
      ]
     },
     "execution_count": 183,
     "metadata": {},
     "output_type": "execute_result"
    }
   ],
   "source": [
    "np.tile(a, (2, 2)) # a dizisini 2x2 matrix olark tekrar et"
   ]
  },
  {
   "cell_type": "code",
   "execution_count": 184,
   "id": "637ed599",
   "metadata": {
    "ExecuteTime": {
     "end_time": "2024-04-07T19:52:33.028742Z",
     "start_time": "2024-04-07T19:52:33.020319Z"
    }
   },
   "outputs": [
    {
     "data": {
      "text/plain": [
       "array([[[0, 1, 2, 0, 1, 2]],\n",
       "\n",
       "       [[0, 1, 2, 0, 1, 2]]])"
      ]
     },
     "execution_count": 184,
     "metadata": {},
     "output_type": "execute_result"
    }
   ],
   "source": [
    "np.tile(a, (2, 1, 2))  #2 satir 1 sutunda 2 kez tekrar et"
   ]
  },
  {
   "cell_type": "code",
   "execution_count": 185,
   "id": "84749ee9",
   "metadata": {
    "ExecuteTime": {
     "end_time": "2024-04-07T19:52:59.629339Z",
     "start_time": "2024-04-07T19:52:59.618168Z"
    }
   },
   "outputs": [
    {
     "data": {
      "text/plain": [
       "array([[1, 2, 1, 2],\n",
       "       [3, 4, 3, 4]])"
      ]
     },
     "execution_count": 185,
     "metadata": {},
     "output_type": "execute_result"
    }
   ],
   "source": [
    "b = np.array([[1, 2], [3, 4]])\n",
    "np.tile(b, 2)"
   ]
  },
  {
   "cell_type": "code",
   "execution_count": 186,
   "id": "f4b69f5f",
   "metadata": {
    "ExecuteTime": {
     "end_time": "2024-04-07T19:53:07.908303Z",
     "start_time": "2024-04-07T19:53:07.898023Z"
    }
   },
   "outputs": [
    {
     "data": {
      "text/plain": [
       "array([[1, 2],\n",
       "       [3, 4],\n",
       "       [1, 2],\n",
       "       [3, 4]])"
      ]
     },
     "execution_count": 186,
     "metadata": {},
     "output_type": "execute_result"
    }
   ],
   "source": [
    "np.tile(b, (2, 1))"
   ]
  },
  {
   "cell_type": "code",
   "execution_count": 187,
   "id": "4b373bc7",
   "metadata": {
    "ExecuteTime": {
     "end_time": "2024-04-07T19:53:09.255129Z",
     "start_time": "2024-04-07T19:53:09.246869Z"
    }
   },
   "outputs": [
    {
     "data": {
      "text/plain": [
       "array([[1, 2, 3, 4],\n",
       "       [1, 2, 3, 4],\n",
       "       [1, 2, 3, 4],\n",
       "       [1, 2, 3, 4]])"
      ]
     },
     "execution_count": 187,
     "metadata": {},
     "output_type": "execute_result"
    }
   ],
   "source": [
    "c = np.array([1,2,3,4])\n",
    "np.tile(c,(4,1))"
   ]
  },
  {
   "cell_type": "markdown",
   "id": "29b58605",
   "metadata": {},
   "source": []
  },
  {
   "cell_type": "markdown",
   "id": "fe16fc6d",
   "metadata": {},
   "source": [
    "# <p style=\"background-color:dodgerblue;font-family:arial;font-size:100%;color:white;text-align:center;border-radius:20px 20px;\"><b>Thank you, with the hope that you find it useful.\n",
    "</b></p>\n",
    "\n",
    "<b>If you want to be the first to be informed about new projects, please do not forget to follow me on.. | </b>[Linkedin](https://www.linkedin.com/in/duygujones/) | [Kaggle](https://www.kaggle.com/duygujones) | [Tableau](https://public.tableau.com/app/profile/duygu.jones/vizzes) | [Source]() "
   ]
  }
 ],
 "metadata": {
  "hide_input": false,
  "kernelspec": {
   "display_name": "Python 3 (ipykernel)",
   "language": "python",
   "name": "python3"
  },
  "language_info": {
   "codemirror_mode": {
    "name": "ipython",
    "version": 3
   },
   "file_extension": ".py",
   "mimetype": "text/x-python",
   "name": "python",
   "nbconvert_exporter": "python",
   "pygments_lexer": "ipython3",
   "version": "3.11.7"
  },
  "toc": {
   "base_numbering": 1,
   "nav_menu": {},
   "number_sections": true,
   "sideBar": true,
   "skip_h1_title": false,
   "title_cell": "Table of Contents",
   "title_sidebar": "Contents",
   "toc_cell": false,
   "toc_position": {
    "height": "calc(100% - 180px)",
    "left": "10px",
    "top": "150px",
    "width": "364.097px"
   },
   "toc_section_display": true,
   "toc_window_display": true
  },
  "varInspector": {
   "cols": {
    "lenName": 16,
    "lenType": 16,
    "lenVar": 40
   },
   "kernels_config": {
    "python": {
     "delete_cmd_postfix": "",
     "delete_cmd_prefix": "del ",
     "library": "var_list.py",
     "varRefreshCmd": "print(var_dic_list())"
    },
    "r": {
     "delete_cmd_postfix": ") ",
     "delete_cmd_prefix": "rm(",
     "library": "var_list.r",
     "varRefreshCmd": "cat(var_dic_list()) "
    }
   },
   "types_to_exclude": [
    "module",
    "function",
    "builtin_function_or_method",
    "instance",
    "_Feature"
   ],
   "window_display": false
  }
 },
 "nbformat": 4,
 "nbformat_minor": 5
}
